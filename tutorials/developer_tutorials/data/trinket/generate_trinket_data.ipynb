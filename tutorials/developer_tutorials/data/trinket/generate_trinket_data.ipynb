{
 "cells": [
  {
   "cell_type": "code",
   "execution_count": 4,
   "id": "668a0342",
   "metadata": {},
   "outputs": [],
   "source": [
    "import random\n",
    "import pandas as pd\n",
    "from pyreal.transformers import OneHotEncoder\n",
    "\n",
    "SAVE = False # Set to true to generate a new dataset\n",
    "\n",
    "random.seed(100)\n",
    "\n",
    "def random_color():\n",
    "    cat = random.randint(0, 2)\n",
    "    major = random.randint(200, 254)\n",
    "    minor1 = random.randint(1, 50)\n",
    "    minor2 = random.randint(1, 50)\n",
    "    if cat == 0:\n",
    "        return '#%02x%02x%02x' % (major, minor1, minor2), cat\n",
    "    if cat == 1:\n",
    "        return '#%02x%02x%02x' % (minor1, major, minor2), cat\n",
    "    if cat == 2:\n",
    "        return '#%02x%02x%02x' % (minor1, minor2, major), cat\n",
    "\n",
    "colors = []\n",
    "cats = []\n",
    "for i in range(500):\n",
    "    color, cat = random_color()\n",
    "    colors.append(color)\n",
    "    cats.append(cat)\n",
    "\n",
    "types = random.choices([\"foo\", \"bar\", \"foobar\"], k=500)\n",
    "\n",
    "age = random.choices(range(20, 100), k=500)\n",
    "\n",
    "weight = [random.uniform(10, 90) for i in range(500)]\n",
    "height = [random.uniform(10, 90) for i in range(500)]\n",
    "\n",
    "data = pd.DataFrame([colors, types, age, weight, height], index=[\"color\", \"type\", \"age\", \"width\", \"height\"]).transpose()\n",
    "\n",
    "prices = []\n",
    "for i in range(500):\n",
    "    price = cats[i] * 20 * (1+random.uniform(-.01, .01))\n",
    "    price += [\"foo\", \"bar\", \"foobar\"].index(types[i]) * 100 * (1+random.uniform(-.01, .01))\n",
    "    price += ((age[i] - 20) / 100) * 80 * (1+random.uniform(-.01, .01))\n",
    "    price += (max(weight[i], height[i])) * 2 * (1+random.uniform(-.01, .01))\n",
    "    prices.append(price)\n",
    "data[\"price\"] = prices\n",
    "\n",
    "typeEncoder = OneHotEncoder(columns = [\"type\"])\n",
    "data = typeEncoder.fit_transform(data)\n",
    "\n",
    "if SAVE:\n",
    "    data.to_csv(\"trinket_data.csv\")\n"
   ]
  }
 ],
 "metadata": {
  "kernelspec": {
   "display_name": "Python 3 (ipykernel)",
   "language": "python",
   "name": "python3"
  },
  "language_info": {
   "codemirror_mode": {
    "name": "ipython",
    "version": 3
   },
   "file_extension": ".py",
   "mimetype": "text/x-python",
   "name": "python",
   "nbconvert_exporter": "python",
   "pygments_lexer": "ipython3",
   "version": "3.8.8"
  }
 },
 "nbformat": 4,
 "nbformat_minor": 5
}