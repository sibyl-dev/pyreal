{
 "cells": [
  {
   "cell_type": "markdown",
   "id": "16d578d4",
   "metadata": {},
   "source": [
    "## Simple Four-Feature-Spaces Tutorial\n",
    "\n",
    "In this tutorial, we will work through an simple, artificial ML problem to illustrate the full `Pyreal` workflow, including four unique feature spaces and multiple explanation types.\n",
    "\n",
    "Throughout this tutorial, imagine that we are Trinket Sellers looking to price new Trinkets based on five peices of information, as described below. We are working with ML model developers who will help us train a simple model to predict prices, but we would also like some explanations to help us understand how these predictions come from the five peices of information. As you will see, Pyreal can help!\n",
    "\n",
    "\n",
    "### Problem Setup\n",
    "\n",
    "We will be predicting Trinket prices based on five peices of information:\n",
    "1. Trinket Type `type` (categorical)\n",
    "2. Trinket Color `color` (categorical)\n",
    "3. Trinket Age `age` (integer)\n",
    "4. Trinket Weight `width` (float)\n",
    "4. Trinket Height `height` (float)\n",
    "\n",
    "This information can be formatted in multiple ways - each of these introduces a new *feature space*. In this tutorial, we will go over how you can use Pyreal Explainers and Transformers to play with these four feature spaces.\n",
    "\n",
    "### Original Feature Space\n",
    "\n",
    "In this example, we have been given the data in what we will refer to as the **original** feature space, or `X_orig`. This is an arbitrary feature space, that includes the information in whatever form our data-collection team happened to use. Let's load in and take a look at this space now.\n",
    "\n",
    "We see that we have seven columns, one each for items 1 through 4 above, plus three one-hot encoded columns for the `type` feature, which encodes three possible categories - `foo`, `bar`, and `foobar`. The color feature is listed using HTML color codes, which are not very understandable. The other three features are numeric, as expected."
   ]
  },
  {
   "cell_type": "code",
   "id": "5988b5d6",
   "metadata": {
    "ExecuteTime": {
     "end_time": "2024-07-26T20:19:49.765504Z",
     "start_time": "2024-07-26T20:19:49.745441Z"
    }
   },
   "source": [
    "import pandas as pd\n",
    "import os\n",
    "\n",
    "filename = os.path.join(\"data\", \"trinket\", \"trinket_data.csv\")\n",
    "data_orig =  pd.read_csv(filename, index_col=0)\n",
    "y_orig = data_orig[\"price\"]\n",
    "X_orig = data_orig.drop(\"price\", axis=1)\n",
    "\n",
    "print(\"Original feature space:\")\n",
    "X_orig.head()"
   ],
   "outputs": [
    {
     "name": "stdout",
     "output_type": "stream",
     "text": [
      "Original feature space:\n"
     ]
    },
    {
     "data": {
      "text/plain": [
       "     color  age      width     height  type_bar  type_foo  type_foobar\n",
       "0  #e51e32   41  43.569090  68.784567       1.0       0.0          0.0\n",
       "1  #f51a2f   71  84.261218  60.542412       0.0       0.0          1.0\n",
       "2  #21e308   90  71.574072  45.595469       1.0       0.0          0.0\n",
       "3  #0630cf   32  23.125698  83.431874       0.0       1.0          0.0\n",
       "4  #04d82b   44  54.253466  20.646017       0.0       0.0          1.0"
      ],
      "text/html": [
       "<div>\n",
       "<style scoped>\n",
       "    .dataframe tbody tr th:only-of-type {\n",
       "        vertical-align: middle;\n",
       "    }\n",
       "\n",
       "    .dataframe tbody tr th {\n",
       "        vertical-align: top;\n",
       "    }\n",
       "\n",
       "    .dataframe thead th {\n",
       "        text-align: right;\n",
       "    }\n",
       "</style>\n",
       "<table border=\"1\" class=\"dataframe\">\n",
       "  <thead>\n",
       "    <tr style=\"text-align: right;\">\n",
       "      <th></th>\n",
       "      <th>color</th>\n",
       "      <th>age</th>\n",
       "      <th>width</th>\n",
       "      <th>height</th>\n",
       "      <th>type_bar</th>\n",
       "      <th>type_foo</th>\n",
       "      <th>type_foobar</th>\n",
       "    </tr>\n",
       "  </thead>\n",
       "  <tbody>\n",
       "    <tr>\n",
       "      <th>0</th>\n",
       "      <td>#e51e32</td>\n",
       "      <td>41</td>\n",
       "      <td>43.569090</td>\n",
       "      <td>68.784567</td>\n",
       "      <td>1.0</td>\n",
       "      <td>0.0</td>\n",
       "      <td>0.0</td>\n",
       "    </tr>\n",
       "    <tr>\n",
       "      <th>1</th>\n",
       "      <td>#f51a2f</td>\n",
       "      <td>71</td>\n",
       "      <td>84.261218</td>\n",
       "      <td>60.542412</td>\n",
       "      <td>0.0</td>\n",
       "      <td>0.0</td>\n",
       "      <td>1.0</td>\n",
       "    </tr>\n",
       "    <tr>\n",
       "      <th>2</th>\n",
       "      <td>#21e308</td>\n",
       "      <td>90</td>\n",
       "      <td>71.574072</td>\n",
       "      <td>45.595469</td>\n",
       "      <td>1.0</td>\n",
       "      <td>0.0</td>\n",
       "      <td>0.0</td>\n",
       "    </tr>\n",
       "    <tr>\n",
       "      <th>3</th>\n",
       "      <td>#0630cf</td>\n",
       "      <td>32</td>\n",
       "      <td>23.125698</td>\n",
       "      <td>83.431874</td>\n",
       "      <td>0.0</td>\n",
       "      <td>1.0</td>\n",
       "      <td>0.0</td>\n",
       "    </tr>\n",
       "    <tr>\n",
       "      <th>4</th>\n",
       "      <td>#04d82b</td>\n",
       "      <td>44</td>\n",
       "      <td>54.253466</td>\n",
       "      <td>20.646017</td>\n",
       "      <td>0.0</td>\n",
       "      <td>0.0</td>\n",
       "      <td>1.0</td>\n",
       "    </tr>\n",
       "  </tbody>\n",
       "</table>\n",
       "</div>"
      ]
     },
     "execution_count": 6,
     "metadata": {},
     "output_type": "execute_result"
    }
   ],
   "execution_count": 6
  },
  {
   "cell_type": "markdown",
   "id": "3442096c",
   "metadata": {},
   "source": [
    "### Model-Ready Feature Space\n",
    "\n",
    "Let's go ahead and train a model to predict the price variable from the features. To do so, we will first need to transform the data to a model-ready standpoint. Our ML development team has done their research and feature engineering, and suggested that a simple linear regression model may work well. They have also collected the following domain knowledge that may be useful for feature engineering:\n",
    "1. All trinkets are generally \"reddish\" or \"blueish\" - this is much more important to their price than the exact HTML color value.\n",
    "2. Bigger trinkets sell for more - but the difference between width and height is arbitrary. In fact, only the larger of these axis matter\n",
    "\n",
    "Based on this information, combined with the requirements of a linear regression model, let's put together some transformers using Pyreal's `transformer` package, and take a look at what the model-ready feature space looks like. As you can see, this feature space includes one-hot encoded and aggregated features.\n",
    "\n",
    "We will use some pre-defined Pyreal transformers, that cover common transformation types, and also define some of our own using the Transformer base class, such as converting HTML colors codes to `red` and `blue`.\n",
    "\n",
    "Note that Pyreal transformers take three flags: `model`, `interpret`, and `algorithm`. For now, we are just using the former. By setting `model` to `True`, we are telling Pyreal Explainers that these transformers are required to get the data to the feature space expected by the model. Note that `model==True` is the default flag; for the purposes of being clear in this tutorial, we are setting it explicitly."
   ]
  },
  {
   "cell_type": "code",
   "id": "3d2a5fe8",
   "metadata": {
    "ExecuteTime": {
     "end_time": "2024-07-26T20:19:49.812035Z",
     "start_time": "2024-07-26T20:19:49.779598Z"
    }
   },
   "source": [
    "from pyreal.transformers import TransformerBase, OneHotEncoder, OneHotMappings, MappingsOneHotDecoder, FeatureSelectTransformer\n",
    "from pyreal.transformers import fit_transformers\n",
    "\n",
    "\n",
    "def hex_to_color_name(h):\n",
    "    h = h.lstrip('#')\n",
    "    rgb = tuple(int(h[i:i+2], 16) for i in (0, 2, 4))\n",
    "    return [\"red\", \"green\", \"blue\"][rgb.index(max(rgb))]\n",
    "\n",
    "class ColorTransformer(TransformerBase):\n",
    "    \"\"\"\n",
    "    Transforms a hex color to `red` or `blue`\n",
    "    \"\"\"\n",
    "    def __init__(self, columns, **kwargs):\n",
    "        self.columns = columns\n",
    "        super().__init__(**kwargs)\n",
    "\n",
    "    def data_transform(self, x):\n",
    "        for col in self.columns:\n",
    "            x[col] = x[col].apply(hex_to_color_name)\n",
    "        return x\n",
    "\n",
    "class MaxAggregator(TransformerBase):\n",
    "    \"\"\"\n",
    "    Converts a set of numeric features to a single feature of the max value\n",
    "    \"\"\"\n",
    "    def __init__(self, columns, **kwargs):\n",
    "        self.columns = columns\n",
    "        super().__init__(**kwargs)\n",
    "\n",
    "    def data_transform(self, x):\n",
    "        column_name = \"MAX(\"\n",
    "        column_name += \",\".join(self.columns)\n",
    "        column_name += \")\"\n",
    "        x[column_name] = x[self.columns].max(axis=1)\n",
    "        x = x.drop(self.columns, axis=1)\n",
    "        return x\n",
    "\n",
    "\n",
    "colorTransformer = ColorTransformer(columns = [\"color\"], model=True)\n",
    "colorEncoder = OneHotEncoder(columns = [\"color\"], model=True)\n",
    "maxAggregator = MaxAggregator(columns=[\"width\", \"height\"], model=True)\n",
    "# The featureSelect transformer keeps the order of columns consistent,\n",
    "#   which can be helpful with complex transformations\n",
    "featureSelect = FeatureSelectTransformer(['age', 'type_bar', 'type_foo', 'type_foobar',\n",
    "                                          'color_blue', 'color_green', 'color_red',\n",
    "                                          'MAX(width,height)'], model=True)\n",
    "\n",
    "model_transformers = [maxAggregator, colorTransformer, colorEncoder, featureSelect]\n",
    "X_model = fit_transformers(model_transformers, X_orig)\n",
    "print(\"Model ready feature space:\")\n",
    "X_model.head()"
   ],
   "outputs": [
    {
     "name": "stdout",
     "output_type": "stream",
     "text": [
      "Model ready feature space:\n"
     ]
    },
    {
     "data": {
      "text/plain": [
       "   age  type_bar  type_foo  type_foobar  color_blue  color_green  color_red  \\\n",
       "0   41       1.0       0.0          0.0         0.0          0.0        1.0   \n",
       "1   71       0.0       0.0          1.0         0.0          0.0        1.0   \n",
       "2   90       1.0       0.0          0.0         0.0          1.0        0.0   \n",
       "3   32       0.0       1.0          0.0         1.0          0.0        0.0   \n",
       "4   44       0.0       0.0          1.0         0.0          1.0        0.0   \n",
       "\n",
       "   MAX(width,height)  \n",
       "0          68.784567  \n",
       "1          84.261218  \n",
       "2          71.574072  \n",
       "3          83.431874  \n",
       "4          54.253466  "
      ],
      "text/html": [
       "<div>\n",
       "<style scoped>\n",
       "    .dataframe tbody tr th:only-of-type {\n",
       "        vertical-align: middle;\n",
       "    }\n",
       "\n",
       "    .dataframe tbody tr th {\n",
       "        vertical-align: top;\n",
       "    }\n",
       "\n",
       "    .dataframe thead th {\n",
       "        text-align: right;\n",
       "    }\n",
       "</style>\n",
       "<table border=\"1\" class=\"dataframe\">\n",
       "  <thead>\n",
       "    <tr style=\"text-align: right;\">\n",
       "      <th></th>\n",
       "      <th>age</th>\n",
       "      <th>type_bar</th>\n",
       "      <th>type_foo</th>\n",
       "      <th>type_foobar</th>\n",
       "      <th>color_blue</th>\n",
       "      <th>color_green</th>\n",
       "      <th>color_red</th>\n",
       "      <th>MAX(width,height)</th>\n",
       "    </tr>\n",
       "  </thead>\n",
       "  <tbody>\n",
       "    <tr>\n",
       "      <th>0</th>\n",
       "      <td>41</td>\n",
       "      <td>1.0</td>\n",
       "      <td>0.0</td>\n",
       "      <td>0.0</td>\n",
       "      <td>0.0</td>\n",
       "      <td>0.0</td>\n",
       "      <td>1.0</td>\n",
       "      <td>68.784567</td>\n",
       "    </tr>\n",
       "    <tr>\n",
       "      <th>1</th>\n",
       "      <td>71</td>\n",
       "      <td>0.0</td>\n",
       "      <td>0.0</td>\n",
       "      <td>1.0</td>\n",
       "      <td>0.0</td>\n",
       "      <td>0.0</td>\n",
       "      <td>1.0</td>\n",
       "      <td>84.261218</td>\n",
       "    </tr>\n",
       "    <tr>\n",
       "      <th>2</th>\n",
       "      <td>90</td>\n",
       "      <td>1.0</td>\n",
       "      <td>0.0</td>\n",
       "      <td>0.0</td>\n",
       "      <td>0.0</td>\n",
       "      <td>1.0</td>\n",
       "      <td>0.0</td>\n",
       "      <td>71.574072</td>\n",
       "    </tr>\n",
       "    <tr>\n",
       "      <th>3</th>\n",
       "      <td>32</td>\n",
       "      <td>0.0</td>\n",
       "      <td>1.0</td>\n",
       "      <td>0.0</td>\n",
       "      <td>1.0</td>\n",
       "      <td>0.0</td>\n",
       "      <td>0.0</td>\n",
       "      <td>83.431874</td>\n",
       "    </tr>\n",
       "    <tr>\n",
       "      <th>4</th>\n",
       "      <td>44</td>\n",
       "      <td>0.0</td>\n",
       "      <td>0.0</td>\n",
       "      <td>1.0</td>\n",
       "      <td>0.0</td>\n",
       "      <td>1.0</td>\n",
       "      <td>0.0</td>\n",
       "      <td>54.253466</td>\n",
       "    </tr>\n",
       "  </tbody>\n",
       "</table>\n",
       "</div>"
      ]
     },
     "execution_count": 7,
     "metadata": {},
     "output_type": "execute_result"
    }
   ],
   "execution_count": 7
  },
  {
   "cell_type": "markdown",
   "id": "13d39c1c",
   "metadata": {},
   "source": [
    "And now let's train a model and check the score..."
   ]
  },
  {
   "cell_type": "code",
   "id": "144f4bcc",
   "metadata": {
    "ExecuteTime": {
     "end_time": "2024-07-26T20:19:49.827549Z",
     "start_time": "2024-07-26T20:19:49.813035Z"
    }
   },
   "source": [
    "from sklearn.linear_model import LinearRegression\n",
    "\n",
    "model = LinearRegression()\n",
    "model.fit(X_model[0:400], y_orig[0:400])\n",
    "print(\"Model r-squared: %.4f\" % model.score(X_model[401:], y_orig[401:]))"
   ],
   "outputs": [
    {
     "name": "stdout",
     "output_type": "stream",
     "text": [
      "Model r-squared: 0.9998\n"
     ]
    }
   ],
   "execution_count": 8
  },
  {
   "cell_type": "markdown",
   "id": "6419468e",
   "metadata": {},
   "source": [
    "Our model development team has confirmed that this model performs well - but we would like to know how its making its predictions. How are our features interacting to give a price? Let's address this question by generating a local explanation for the first item in our dataset, using the popular explanation algorithm SHAP:"
   ]
  },
  {
   "cell_type": "code",
   "id": "56f29df1",
   "metadata": {
    "ExecuteTime": {
     "end_time": "2024-07-26T20:19:49.922806Z",
     "start_time": "2024-07-26T20:19:49.829054Z"
    }
   },
   "source": [
    "import shap\n",
    "from pyreal import visualize\n",
    "from pyreal.explanation_types import FeatureContributionExplanation\n",
    "\n",
    "explainer = shap.LinearExplainer(model, shap.maskers.Independent(data = X_model))\n",
    "shap_values = explainer.shap_values(X_model[0:1])[0]\n",
    "explanation = pd.DataFrame([shap_values], columns=X_model.columns)\n",
    "explanation = FeatureContributionExplanation(explanation, X_model[0:1])  # Wrapping in an explanation object to visualize\n",
    "\n",
    "visualize.feature_bar_plot(explanation, select_by=\"absolute\", show=True)\n"
   ],
   "outputs": [
    {
     "data": {
      "text/plain": [
       "<Figure size 640x480 with 1 Axes>"
      ],
      "image/png": "[encoded data removed]"
     },
     "metadata": {},
     "output_type": "display_data"
    }
   ],
   "execution_count": 9
  },
  {
   "cell_type": "markdown",
   "id": "320d7618",
   "metadata": {},
   "source": [
    "The explanation above can be hard to parse. The fact that the trinket is not of type `foobar` is greatly decreasing the predicted price; the fact that it is not of type `foo` is greatly increasing it. This level of granularity, including things like one-hot-encoded features, may be useful for some users - especially ML experts looking to work on the model itself. But what about other users, for example Trinket Sellers looking to use this model to help them decide on an appropriate Trinket price? Let's try some explanations presented in alternative ways."
   ]
  },
  {
   "cell_type": "markdown",
   "id": "9aca8af1",
   "metadata": {},
   "source": [
    "### Interpretable feature space\n",
    "\n",
    "There are some transforms we can apply to help. Our users want to see the features that actually contribute to the model prediction, but are confused when features are presented one-hot-encoded. Let's compile a few more transformers (from the original feature space again) - including some that were also useful for getting to the model-ready feature space. We'll take a look at the interpretable feature space.\n",
    "\n",
    "We want to avoid one-hot encoded features, and present colors using English descriptions instead of HTML codes. Whether or not the explanation should include contributions from height and width separately versus the max aggregated feature is debatable - the former better matches the full information given, while the latter accurately describes how the model works. As we'll see in the next section, not all explanation types can accurately support all feature spaces, so that will factor into our choice as well.\n",
    "\n",
    "To use a transformer in the interpretable feature space, we set its `interpret` flag to `True`. We can update existing transformers' flags using the `set_flags()` method.\n",
    "\n",
    "We could make this space even more clear to human users with more descriptive feature names - but we'll add that in later."
   ]
  },
  {
   "cell_type": "code",
   "id": "bf146abf",
   "metadata": {
    "ExecuteTime": {
     "end_time": "2024-07-26T20:19:49.938923Z",
     "start_time": "2024-07-26T20:19:49.926805Z"
    }
   },
   "source": [
    "mappings = OneHotMappings.generate_mappings(\n",
    "    categorical_to_one_hot={\"type\": {\"type_foo\": \"foo\", \"type_bar\": \"bar\", \"type_foobar\": \"foobar\"}})\n",
    "typeDecoder = MappingsOneHotDecoder(mappings, model=False, interpret=True)\n",
    "\n",
    "colorTransformer.set_flags(interpret=True)\n",
    "maxAggregator.set_flags(interpret=True)\n",
    "interpretable_transformers = [typeDecoder, colorTransformer, maxAggregator]\n",
    "\n",
    "X_interpret = fit_transformers(interpretable_transformers, X_orig)\n",
    "print(\"Interpretable feature space:\")\n",
    "X_interpret.head()"
   ],
   "outputs": [
    {
     "name": "stdout",
     "output_type": "stream",
     "text": [
      "Interpretable feature space:\n"
     ]
    },
    {
     "data": {
      "text/plain": [
       "   color  age    type  MAX(width,height)\n",
       "0    red   41     bar          68.784567\n",
       "1    red   71  foobar          84.261218\n",
       "2  green   90     bar          71.574072\n",
       "3   blue   32     foo          83.431874\n",
       "4  green   44  foobar          54.253466"
      ],
      "text/html": [
       "<div>\n",
       "<style scoped>\n",
       "    .dataframe tbody tr th:only-of-type {\n",
       "        vertical-align: middle;\n",
       "    }\n",
       "\n",
       "    .dataframe tbody tr th {\n",
       "        vertical-align: top;\n",
       "    }\n",
       "\n",
       "    .dataframe thead th {\n",
       "        text-align: right;\n",
       "    }\n",
       "</style>\n",
       "<table border=\"1\" class=\"dataframe\">\n",
       "  <thead>\n",
       "    <tr style=\"text-align: right;\">\n",
       "      <th></th>\n",
       "      <th>color</th>\n",
       "      <th>age</th>\n",
       "      <th>type</th>\n",
       "      <th>MAX(width,height)</th>\n",
       "    </tr>\n",
       "  </thead>\n",
       "  <tbody>\n",
       "    <tr>\n",
       "      <th>0</th>\n",
       "      <td>red</td>\n",
       "      <td>41</td>\n",
       "      <td>bar</td>\n",
       "      <td>68.784567</td>\n",
       "    </tr>\n",
       "    <tr>\n",
       "      <th>1</th>\n",
       "      <td>red</td>\n",
       "      <td>71</td>\n",
       "      <td>foobar</td>\n",
       "      <td>84.261218</td>\n",
       "    </tr>\n",
       "    <tr>\n",
       "      <th>2</th>\n",
       "      <td>green</td>\n",
       "      <td>90</td>\n",
       "      <td>bar</td>\n",
       "      <td>71.574072</td>\n",
       "    </tr>\n",
       "    <tr>\n",
       "      <th>3</th>\n",
       "      <td>blue</td>\n",
       "      <td>32</td>\n",
       "      <td>foo</td>\n",
       "      <td>83.431874</td>\n",
       "    </tr>\n",
       "    <tr>\n",
       "      <th>4</th>\n",
       "      <td>green</td>\n",
       "      <td>44</td>\n",
       "      <td>foobar</td>\n",
       "      <td>54.253466</td>\n",
       "    </tr>\n",
       "  </tbody>\n",
       "</table>\n",
       "</div>"
      ]
     },
     "execution_count": 10,
     "metadata": {},
     "output_type": "execute_result"
    }
   ],
   "execution_count": 10
  },
  {
   "cell_type": "markdown",
   "id": "98b73f8a",
   "metadata": {},
   "source": [
    "### Algorithm-ready Feature Space\n",
    "\n",
    "Many existing explanation algorithm implementations can't just take data in the interpretable form to produce an interpretable explanation - they have their own requirements for their input feature space.\n",
    "\n",
    "Pyreal handles the details of transforming both data and explanations between feature spaces, using its `Explainer` classes, which take in a `transformer` list parameter, and through the Transformer flags. Let's see how that works, and once again generate a local SHAP contribution explanation.\n",
    "\n",
    "The first thing we need to do is identify what feature space is required by the explanation type we'd like to use. We can take a look at the documentation for `ShapFeatureContribution` explainers to see that, in this case, the explanation algorithm expects data in the model-ready feature space. We can use the transformers we defined above, where those that take the data to the model-ready feature space have the flag `model=True`, and those that take the data to the interpretable feature space have the flag `interpret=True`.\n",
    "\n",
    "We do need to be a bit careful with the order here. Pyreal calls the transformers' `.transform()` methods in the order listed, backtracking as needed to undo transformations on explanations."
   ]
  },
  {
   "cell_type": "code",
   "id": "f640fb16",
   "metadata": {
    "ExecuteTime": {
     "end_time": "2024-07-26T20:19:49.954869Z",
     "start_time": "2024-07-26T20:19:49.939829Z"
    }
   },
   "source": [
    "from pyreal.explainers import ShapFeatureContribution\n",
    "\n",
    "transformers = [maxAggregator, colorTransformer, colorEncoder, featureSelect, typeDecoder]\n",
    "\n",
    "shap_explainer = ShapFeatureContribution(model, X_orig,\n",
    "                                         transformers=transformers,\n",
    "                                         fit_on_init=True)"
   ],
   "outputs": [],
   "execution_count": 11
  },
  {
   "cell_type": "markdown",
   "id": "af087d60",
   "metadata": {},
   "source": [
    "We can now produce and visualize an explanation"
   ]
  },
  {
   "cell_type": "code",
   "id": "ec460e8b",
   "metadata": {
    "ExecuteTime": {
     "end_time": "2024-07-26T20:19:50.049776Z",
     "start_time": "2024-07-26T20:19:49.955871Z"
    }
   },
   "source": [
    "explanation = shap_explainer.produce(X_orig.iloc[0])\n",
    "visualize.feature_bar_plot(explanation, select_by=\"absolute\", show=True)"
   ],
   "outputs": [
    {
     "data": {
      "text/plain": [
       "<Figure size 640x480 with 1 Axes>"
      ],
      "image/png": "[encoded data removed]"
     },
     "metadata": {},
     "output_type": "display_data"
    }
   ],
   "execution_count": 12
  },
  {
   "cell_type": "markdown",
   "id": "405758d7",
   "metadata": {},
   "source": [
    "We can see in the explanation generated above that the color of the trinket is the feature that has the most significant contribution to the model prediction. Specifically, the fact that the trinket is `red` is greatly decreasing the predicted price of the trinket. Similarly, the fact that the trinket has an age of 41 also decreases the price, while the size of the trinket increases the price."
   ]
  },
  {
   "cell_type": "markdown",
   "id": "13948493",
   "metadata": {},
   "source": [
    "Pyreal makes it easy to switch between different explanation algorithms. We can get another feature-contribution-based explanation using the `SimpleCounterfactualContribution` explainer. This explainer requires features in a different feature space, using categorical features. To address this, we'll use the `algorithm` flag. When transformers have `algorithm=False`, the transformation will not be run until a model prediction is needed. The explanation algorithm itself will receive data transformed only using transformers with `algorithm=True`.\n",
    "\n",
    "In this case, the explanation generated has the height and width features un-aggregated, and so this is the most accurate output format. Because we decided either state could be interpretable, we will stick to the most accurate option."
   ]
  },
  {
   "cell_type": "code",
   "id": "474530fa",
   "metadata": {
    "ExecuteTime": {
     "end_time": "2024-07-26T20:19:50.948408Z",
     "start_time": "2024-07-26T20:19:50.051778Z"
    }
   },
   "source": [
    "from pyreal.explainers import SimpleCounterfactualContribution\n",
    "\n",
    "typeEncoder = OneHotEncoder(columns = [\"type\"])\n",
    "fit_transformers([typeDecoder, typeEncoder], X_orig)\n",
    "\n",
    "typeDecoder.set_flags(model=True, algorithm=True, interpret=True)\n",
    "for transformer in [typeEncoder, maxAggregator, colorTransformer, colorEncoder, featureSelect]:\n",
    "    transformer.set_flags(model=True, algorithm=False, interpret=False)\n",
    "colorTransformer.set_flags(interpret=True)\n",
    "\n",
    "explainer = SimpleCounterfactualContribution(model, X_orig,\n",
    "                                             transformers=[typeDecoder, typeEncoder, maxAggregator, colorTransformer, colorEncoder, featureSelect],\n",
    "                                             fit_on_init=True)\n",
    "\n",
    "explanation = explainer.produce(X_orig.iloc[0:1])\n",
    "visualize.feature_bar_plot(explanation, select_by=\"absolute\", show=True)"
   ],
   "outputs": [
    {
     "data": {
      "text/plain": [
       "<Figure size 640x480 with 1 Axes>"
      ],
      "image/png": "[encoded data removed]"
     },
     "metadata": {},
     "output_type": "display_data"
    }
   ],
   "execution_count": 13
  },
  {
   "cell_type": "markdown",
   "id": "2d992f88",
   "metadata": {},
   "source": [
    "As we can see, changing the value of the `type` feature from `bar` to other random values significantly changes the output of the model, while the `width` feature has a smaller effect. This makes sense when we consider it - the `width` value will only result in a change in prediction when it is randomly changed to a value greater than the `height` value of `68.78`, which will happen rarely as this is a large height."
   ]
  },
  {
   "cell_type": "markdown",
   "id": "0013b104",
   "metadata": {},
   "source": [
    "If we did want to get contributions of the aggregated features, we could do so without sacrificing accuracy by aggregating at the explanation level rather than the model-ready level, which is supported by this explanation type."
   ]
  },
  {
   "cell_type": "code",
   "id": "d8ee0b84",
   "metadata": {
    "ExecuteTime": {
     "end_time": "2024-07-26T20:19:51.560081Z",
     "start_time": "2024-07-26T20:19:50.949921Z"
    }
   },
   "source": [
    "maxAggregator.set_flags(model=True, algorithm=True, interpret=True)\n",
    "explainer = SimpleCounterfactualContribution(model, X_orig,\n",
    "                                             transformers=[typeDecoder, maxAggregator, colorTransformer, colorEncoder, typeEncoder, featureSelect],\n",
    "                                             fit_on_init=True)\n",
    "\n",
    "explanation = explainer.produce(X_orig.iloc[0:1])\n",
    "visualize.feature_bar_plot(explanation, select_by=\"absolute\", show=True)"
   ],
   "outputs": [
    {
     "data": {
      "text/plain": [
       "<Figure size 640x480 with 1 Axes>"
      ],
      "image/png": "[encoded data removed]"
     },
     "metadata": {},
     "output_type": "display_data"
    }
   ],
   "execution_count": 14
  },
  {
   "cell_type": "markdown",
   "id": "2475cc3e",
   "metadata": {},
   "source": [
    "We can also generate global feature-based explanations using the `gfi` package - for example, the `ShapFeatureImportance` explainer."
   ]
  },
  {
   "cell_type": "code",
   "id": "1438a07c",
   "metadata": {
    "pycharm": {
     "name": "#%%\n"
    },
    "ExecuteTime": {
     "end_time": "2024-07-26T20:19:51.653853Z",
     "start_time": "2024-07-26T20:19:51.561053Z"
    }
   },
   "source": [
    "from pyreal.explainers import ShapFeatureImportance\n",
    "\n",
    "for transformer in [colorTransformer, colorEncoder, featureSelect]:\n",
    "    transformer.set_flags(model=True, algorithm=True, interpret=False)\n",
    "typeDecoder.set_flags(model=False, algorithm=False, interpret=True)\n",
    "maxAggregator.set_flags(model=True, algorithm=True, interpret=True)\n",
    "\n",
    "explainer = ShapFeatureImportance(model, X_orig,\n",
    "                                  transformers=[maxAggregator, colorTransformer, colorEncoder, featureSelect, typeDecoder],\n",
    "                                  fit_on_init=True)\n",
    "\n",
    "explanation = explainer.produce()\n",
    "visualize.feature_bar_plot(explanation, select_by=\"absolute\", show=True)\n"
   ],
   "outputs": [
    {
     "data": {
      "text/plain": [
       "<Figure size 640x480 with 1 Axes>"
      ],
      "image/png": "[encoded data removed]"
     },
     "metadata": {},
     "output_type": "display_data"
    }
   ],
   "execution_count": 15
  },
  {
   "cell_type": "markdown",
   "id": "2b9c837b",
   "metadata": {},
   "source": [
    "As we can see in the explanation above, `type` is overall the most important feature to this model."
   ]
  },
  {
   "cell_type": "code",
   "id": "dbcc07c3",
   "metadata": {
    "collapsed": false,
    "pycharm": {
     "name": "#%%\n"
    },
    "ExecuteTime": {
     "end_time": "2024-07-26T20:19:51.669984Z",
     "start_time": "2024-07-26T20:19:51.659340Z"
    }
   },
   "source": [],
   "outputs": [],
   "execution_count": 15
  }
 ],
 "metadata": {
  "kernelspec": {
   "display_name": "Python 3 (ipykernel)",
   "language": "python",
   "name": "python3"
  },
  "language_info": {
   "codemirror_mode": {
    "name": "ipython",
    "version": 3
   },
   "file_extension": ".py",
   "mimetype": "text/x-python",
   "name": "python",
   "nbconvert_exporter": "python",
   "pygments_lexer": "ipython3",
   "version": "3.10.11"
  }
 },
 "nbformat": 4,
 "nbformat_minor": 5
}
