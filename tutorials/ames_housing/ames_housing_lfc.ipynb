{
 "cells": [
  {
   "cell_type": "markdown",
   "metadata": {},
   "source": [
    "Data Source:\n",
    "\n",
    "De Cock, D. (2011). Ames, Iowa: Alternative to the Boston Housing Data as an End of Semester Regression Project. Journal of Statistics Education, 19(3). https://doi.org/10.1080/10691898.2011.11889627"
   ]
  },
  {
   "cell_type": "code",
   "execution_count": 1,
   "metadata": {
    "ExecuteTime": {
     "end_time": "2023-08-29T15:38:02.892958400Z",
     "start_time": "2023-08-29T15:38:01.600164Z"
    }
   },
   "outputs": [
    {
     "name": "stderr",
     "output_type": "stream",
     "text": [
      "Using `tqdm.autonotebook.tqdm` in notebook mode. Use `tqdm.tqdm` instead to force console mode (e.g. in jupyter console)\n"
     ]
    }
   ],
   "source": [
    "from pyreal.sample_applications import ames_housing"
   ]
  },
  {
   "cell_type": "markdown",
   "metadata": {},
   "source": [
    "In this tutorial, we use Pyreal to get feature contribution explanations for the AmesHousing dataset\n",
    "\n",
    "First, we load in the data. Pyreal expects all data as DataFrames, where columns have the feature names."
   ]
  },
  {
   "cell_type": "code",
   "execution_count": 2,
   "metadata": {
    "ExecuteTime": {
     "end_time": "2023-08-29T15:38:02.994484500Z",
     "start_time": "2023-08-29T15:38:02.892958400Z"
    }
   },
   "outputs": [
    {
     "data": {
      "text/plain": "        Id  MSSubClass MSZoning  LotFrontage  LotArea Street Alley LotShape  \\\n0        0          20       RL         75.0     9937   Pave   NaN      Reg   \n1        1          60       RL         65.0     8450   Pave   NaN      Reg   \n2        2          20       RL         80.0     9600   Pave   NaN      Reg   \n3        3          60       RL         68.0    11250   Pave   NaN      IR1   \n4        4          70       RL         60.0     9550   Pave   NaN      IR1   \n...    ...         ...      ...          ...      ...    ...   ...      ...   \n1455  1455          20       FV         62.0     7500   Pave  Pave      Reg   \n1456  1456          60       RL         62.0     7917   Pave   NaN      Reg   \n1457  1457          20       RL         85.0    13175   Pave   NaN      Reg   \n1458  1458          70       RL         66.0     9042   Pave   NaN      Reg   \n1459  1459          20       RL         68.0     9717   Pave   NaN      Reg   \n\n     LandContour Utilities  ... ScreenPorch PoolArea PoolQC  Fence  \\\n0            Lvl    AllPub  ...           0        0    NaN    NaN   \n1            Lvl    AllPub  ...           0        0    NaN    NaN   \n2            Lvl    AllPub  ...           0        0    NaN    NaN   \n3            Lvl    AllPub  ...           0        0    NaN    NaN   \n4            Lvl    AllPub  ...           0        0    NaN    NaN   \n...          ...       ...  ...         ...      ...    ...    ...   \n1455         Lvl    AllPub  ...           0        0    NaN    NaN   \n1456         Lvl    AllPub  ...           0        0    NaN    NaN   \n1457         Lvl    AllPub  ...           0        0    NaN  MnPrv   \n1458         Lvl    AllPub  ...           0        0    NaN  GdPrv   \n1459         Lvl    AllPub  ...           0        0    NaN    NaN   \n\n     MiscFeature MiscVal MoSold  YrSold  SaleType  SaleCondition  \n0            NaN       0      6    2008        WD         Normal  \n1            NaN       0      2    2008        WD         Normal  \n2            NaN       0      5    2007        WD         Normal  \n3            NaN       0      9    2008        WD         Normal  \n4            NaN       0      2    2006        WD        Abnorml  \n...          ...     ...    ...     ...       ...            ...  \n1455         NaN       0     10    2009        WD         Normal  \n1456         NaN       0      8    2007        WD         Normal  \n1457         NaN       0      2    2010        WD         Normal  \n1458        Shed    2500      5    2010        WD         Normal  \n1459         NaN       0      4    2010        WD         Normal  \n\n[1456 rows x 80 columns]",
      "text/html": "<div>\n<style scoped>\n    .dataframe tbody tr th:only-of-type {\n        vertical-align: middle;\n    }\n\n    .dataframe tbody tr th {\n        vertical-align: top;\n    }\n\n    .dataframe thead th {\n        text-align: right;\n    }\n</style>\n<table border=\"1\" class=\"dataframe\">\n  <thead>\n    <tr style=\"text-align: right;\">\n      <th></th>\n      <th>Id</th>\n      <th>MSSubClass</th>\n      <th>MSZoning</th>\n      <th>LotFrontage</th>\n      <th>LotArea</th>\n      <th>Street</th>\n      <th>Alley</th>\n      <th>LotShape</th>\n      <th>LandContour</th>\n      <th>Utilities</th>\n      <th>...</th>\n      <th>ScreenPorch</th>\n      <th>PoolArea</th>\n      <th>PoolQC</th>\n      <th>Fence</th>\n      <th>MiscFeature</th>\n      <th>MiscVal</th>\n      <th>MoSold</th>\n      <th>YrSold</th>\n      <th>SaleType</th>\n      <th>SaleCondition</th>\n    </tr>\n  </thead>\n  <tbody>\n    <tr>\n      <th>0</th>\n      <td>0</td>\n      <td>20</td>\n      <td>RL</td>\n      <td>75.0</td>\n      <td>9937</td>\n      <td>Pave</td>\n      <td>NaN</td>\n      <td>Reg</td>\n      <td>Lvl</td>\n      <td>AllPub</td>\n      <td>...</td>\n      <td>0</td>\n      <td>0</td>\n      <td>NaN</td>\n      <td>NaN</td>\n      <td>NaN</td>\n      <td>0</td>\n      <td>6</td>\n      <td>2008</td>\n      <td>WD</td>\n      <td>Normal</td>\n    </tr>\n    <tr>\n      <th>1</th>\n      <td>1</td>\n      <td>60</td>\n      <td>RL</td>\n      <td>65.0</td>\n      <td>8450</td>\n      <td>Pave</td>\n      <td>NaN</td>\n      <td>Reg</td>\n      <td>Lvl</td>\n      <td>AllPub</td>\n      <td>...</td>\n      <td>0</td>\n      <td>0</td>\n      <td>NaN</td>\n      <td>NaN</td>\n      <td>NaN</td>\n      <td>0</td>\n      <td>2</td>\n      <td>2008</td>\n      <td>WD</td>\n      <td>Normal</td>\n    </tr>\n    <tr>\n      <th>2</th>\n      <td>2</td>\n      <td>20</td>\n      <td>RL</td>\n      <td>80.0</td>\n      <td>9600</td>\n      <td>Pave</td>\n      <td>NaN</td>\n      <td>Reg</td>\n      <td>Lvl</td>\n      <td>AllPub</td>\n      <td>...</td>\n      <td>0</td>\n      <td>0</td>\n      <td>NaN</td>\n      <td>NaN</td>\n      <td>NaN</td>\n      <td>0</td>\n      <td>5</td>\n      <td>2007</td>\n      <td>WD</td>\n      <td>Normal</td>\n    </tr>\n    <tr>\n      <th>3</th>\n      <td>3</td>\n      <td>60</td>\n      <td>RL</td>\n      <td>68.0</td>\n      <td>11250</td>\n      <td>Pave</td>\n      <td>NaN</td>\n      <td>IR1</td>\n      <td>Lvl</td>\n      <td>AllPub</td>\n      <td>...</td>\n      <td>0</td>\n      <td>0</td>\n      <td>NaN</td>\n      <td>NaN</td>\n      <td>NaN</td>\n      <td>0</td>\n      <td>9</td>\n      <td>2008</td>\n      <td>WD</td>\n      <td>Normal</td>\n    </tr>\n    <tr>\n      <th>4</th>\n      <td>4</td>\n      <td>70</td>\n      <td>RL</td>\n      <td>60.0</td>\n      <td>9550</td>\n      <td>Pave</td>\n      <td>NaN</td>\n      <td>IR1</td>\n      <td>Lvl</td>\n      <td>AllPub</td>\n      <td>...</td>\n      <td>0</td>\n      <td>0</td>\n      <td>NaN</td>\n      <td>NaN</td>\n      <td>NaN</td>\n      <td>0</td>\n      <td>2</td>\n      <td>2006</td>\n      <td>WD</td>\n      <td>Abnorml</td>\n    </tr>\n    <tr>\n      <th>...</th>\n      <td>...</td>\n      <td>...</td>\n      <td>...</td>\n      <td>...</td>\n      <td>...</td>\n      <td>...</td>\n      <td>...</td>\n      <td>...</td>\n      <td>...</td>\n      <td>...</td>\n      <td>...</td>\n      <td>...</td>\n      <td>...</td>\n      <td>...</td>\n      <td>...</td>\n      <td>...</td>\n      <td>...</td>\n      <td>...</td>\n      <td>...</td>\n      <td>...</td>\n      <td>...</td>\n    </tr>\n    <tr>\n      <th>1455</th>\n      <td>1455</td>\n      <td>20</td>\n      <td>FV</td>\n      <td>62.0</td>\n      <td>7500</td>\n      <td>Pave</td>\n      <td>Pave</td>\n      <td>Reg</td>\n      <td>Lvl</td>\n      <td>AllPub</td>\n      <td>...</td>\n      <td>0</td>\n      <td>0</td>\n      <td>NaN</td>\n      <td>NaN</td>\n      <td>NaN</td>\n      <td>0</td>\n      <td>10</td>\n      <td>2009</td>\n      <td>WD</td>\n      <td>Normal</td>\n    </tr>\n    <tr>\n      <th>1456</th>\n      <td>1456</td>\n      <td>60</td>\n      <td>RL</td>\n      <td>62.0</td>\n      <td>7917</td>\n      <td>Pave</td>\n      <td>NaN</td>\n      <td>Reg</td>\n      <td>Lvl</td>\n      <td>AllPub</td>\n      <td>...</td>\n      <td>0</td>\n      <td>0</td>\n      <td>NaN</td>\n      <td>NaN</td>\n      <td>NaN</td>\n      <td>0</td>\n      <td>8</td>\n      <td>2007</td>\n      <td>WD</td>\n      <td>Normal</td>\n    </tr>\n    <tr>\n      <th>1457</th>\n      <td>1457</td>\n      <td>20</td>\n      <td>RL</td>\n      <td>85.0</td>\n      <td>13175</td>\n      <td>Pave</td>\n      <td>NaN</td>\n      <td>Reg</td>\n      <td>Lvl</td>\n      <td>AllPub</td>\n      <td>...</td>\n      <td>0</td>\n      <td>0</td>\n      <td>NaN</td>\n      <td>MnPrv</td>\n      <td>NaN</td>\n      <td>0</td>\n      <td>2</td>\n      <td>2010</td>\n      <td>WD</td>\n      <td>Normal</td>\n    </tr>\n    <tr>\n      <th>1458</th>\n      <td>1458</td>\n      <td>70</td>\n      <td>RL</td>\n      <td>66.0</td>\n      <td>9042</td>\n      <td>Pave</td>\n      <td>NaN</td>\n      <td>Reg</td>\n      <td>Lvl</td>\n      <td>AllPub</td>\n      <td>...</td>\n      <td>0</td>\n      <td>0</td>\n      <td>NaN</td>\n      <td>GdPrv</td>\n      <td>Shed</td>\n      <td>2500</td>\n      <td>5</td>\n      <td>2010</td>\n      <td>WD</td>\n      <td>Normal</td>\n    </tr>\n    <tr>\n      <th>1459</th>\n      <td>1459</td>\n      <td>20</td>\n      <td>RL</td>\n      <td>68.0</td>\n      <td>9717</td>\n      <td>Pave</td>\n      <td>NaN</td>\n      <td>Reg</td>\n      <td>Lvl</td>\n      <td>AllPub</td>\n      <td>...</td>\n      <td>0</td>\n      <td>0</td>\n      <td>NaN</td>\n      <td>NaN</td>\n      <td>NaN</td>\n      <td>0</td>\n      <td>4</td>\n      <td>2010</td>\n      <td>WD</td>\n      <td>Normal</td>\n    </tr>\n  </tbody>\n</table>\n<p>1456 rows × 80 columns</p>\n</div>"
     },
     "execution_count": 2,
     "metadata": {},
     "output_type": "execute_result"
    }
   ],
   "source": [
    "x_orig, y = ames_housing.load_data(include_targets=True)\n",
    "x_orig"
   ]
  },
  {
   "cell_type": "markdown",
   "metadata": {},
   "source": [
    "Next, we load in the interpretable feature descriptions."
   ]
  },
  {
   "cell_type": "code",
   "execution_count": 3,
   "metadata": {
    "ExecuteTime": {
     "end_time": "2023-08-29T15:38:02.995483500Z",
     "start_time": "2023-08-29T15:38:02.941243400Z"
    }
   },
   "outputs": [
    {
     "data": {
      "text/plain": "{'MSSubClass': ' Identifies the type of dwelling involved in the sale.',\n 'MSZoning': ' Identifies the general zoning classification of the sale.',\n 'LotFrontage': ' Linear feet of street connected to property',\n 'LotArea': ' Lot size in square feet',\n 'Street': ' Type of road access to property',\n 'Alley': ' Type of alley access to property',\n 'LotShape': ' General shape of property',\n 'LandContour': ' Flatness of the property',\n 'Utilities': ' Type of utilities available',\n 'LotConfig': ' Lot configuration',\n 'LandSlope': ' Slope of property',\n 'Neighborhood': ' Physical locations within Ames city limits',\n 'Condition1': ' Proximity to various conditions',\n 'Condition2': ' Proximity to various conditions (if more than one is present)',\n 'BldgType': ' Type of dwelling',\n 'HouseStyle': ' Style of dwelling',\n 'OverallQual': ' Rates the overall material and finish of the house',\n 'OverallCond': ' Rates the overall condition of the house',\n 'YearBuilt': ' Original construction date',\n 'YearRemodAdd': ' Remodel date (same as construction date if no remodeling or additions)',\n 'RoofStyle': ' Type of roof',\n 'RoofMatl': ' Roof material',\n 'Exterior1st': ' Exterior covering on house',\n 'Exterior2nd': ' Exterior covering on house (if more than one material)',\n 'MasVnrType': ' Masonry veneer type',\n 'MasVnrArea': ' Masonry veneer area in square feet',\n 'ExterQual': ' Evaluates the quality of the material on the exterior',\n 'ExterCond': ' Evaluates the present condition of the material on the exterior',\n 'Foundation': ' Type of foundation',\n 'BsmtQual': ' Evaluates the height of the basement',\n 'BsmtCond': ' Evaluates the general condition of the basement',\n 'BsmtExposure': ' Refers to walkout or garden level walls',\n 'BsmtFinType1': ' Rating of basement finished area',\n 'BsmtFinSF1': ' Type 1 finished square feet',\n 'BsmtFinType2': ' Rating of basement finished area (if multiple types)',\n 'BsmtFinSF2': ' Type 2 finished square feet',\n 'BsmtUnfSF': ' Unfinished square feet of basement area',\n 'TotalBsmtSF': ' Total square feet of basement area',\n 'Heating': ' Type of heating',\n 'HeatingQC': ' Heating quality and condition',\n 'CentralAir': ' Central air conditioning',\n 'Electrical': ' Electrical system',\n '1stFlrSF': ' First Floor square feet',\n '2ndFlrSF': ' Second floor square feet',\n 'LowQualFinSF': ' Low quality finished square feet (all floors)',\n 'GrLivArea': ' Above grade (ground) living area square feet',\n 'BsmtFullBath': ' Basement full bathrooms',\n 'BsmtHalfBath': ' Basement half bathrooms',\n 'FullBath': ' Full bathrooms above grade',\n 'HalfBath': ' Half baths above grade',\n 'BedroomAbvGr': ' Bedrooms above grade (does NOT include basement bedrooms)',\n 'KitchenAbvGr': ' Kitchens above grade',\n 'KitchenQual': ' Kitchen quality',\n 'TotRmsAbvGrd': ' Total rooms above grade (does not include bathrooms)',\n 'Functional': ' Home functionality (Assume typical unless deductions are warranted)',\n 'Fireplaces': ' Number of fireplaces',\n 'FireplaceQu': ' Fireplace quality',\n 'GarageType': ' Garage location',\n 'GarageYrBlt': ' Year garage was built',\n 'GarageFinish': ' Interior finish of the garage',\n 'GarageCars': ' Size of garage in car capacity',\n 'GarageArea': ' Size of garage in square feet',\n 'GarageQual': ' Garage quality',\n 'GarageCond': ' Garage condition',\n 'PavedDrive': ' Paved driveway',\n 'WoodDeckSF': ' Wood deck area in square feet',\n 'OpenPorchSF': ' Open porch area in square feet',\n 'EnclosedPorch': ' Enclosed porch area in square feet',\n '3SsnPorch': ' Three season porch area in square feet',\n 'ScreenPorch': ' Screen porch area in square feet',\n 'PoolArea': ' Pool area in square feet',\n 'PoolQC': ' Pool quality',\n 'Fence': ' Fence quality',\n 'MiscFeature': ' Miscellaneous feature not covered in other categories',\n 'MiscVal': ' $Value of miscellaneous feature',\n 'MoSold': ' Month Sold (MM)',\n 'YrSold': ' Year Sold (YYYY)',\n 'SaleType': ' Type of sale',\n 'SaleCondition': ' Condition of sale'}"
     },
     "execution_count": 3,
     "metadata": {},
     "output_type": "execute_result"
    }
   ],
   "source": [
    "feature_descriptions = ames_housing.load_feature_descriptions()\n",
    "feature_descriptions"
   ]
  },
  {
   "cell_type": "markdown",
   "metadata": {},
   "source": [
    "Next, we load the transfomers.\n",
    "\n",
    "The first kind of transformer manually imputes the data based on information we know about the dataset.\n",
    "We will call this the `AmesHousingImputer`\n",
    "\n",
    "This imputation code comes from https://www.kaggle.com/juliencs/a-study-on-regression-applied-to-the-ames-dataset"
   ]
  },
  {
   "cell_type": "code",
   "execution_count": 4,
   "metadata": {
    "ExecuteTime": {
     "end_time": "2023-08-29T15:38:03.092501700Z",
     "start_time": "2023-08-29T15:38:02.954481700Z"
    }
   },
   "outputs": [
    {
     "data": {
      "text/plain": "[<pyreal.sample_applications.ames_housing.AmesHousingImputer at 0x21e97b546d0>,\n <pyreal.transformers.one_hot_encode.OneHotEncoder at 0x21e97b55540>]"
     },
     "execution_count": 4,
     "metadata": {},
     "output_type": "execute_result"
    }
   ],
   "source": [
    "transformers = ames_housing.load_transformers()\n",
    "transformers"
   ]
  },
  {
   "cell_type": "code",
   "execution_count": 5,
   "metadata": {
    "pycharm": {
     "name": "#%%\n"
    },
    "ExecuteTime": {
     "end_time": "2023-08-29T15:38:03.152480900Z",
     "start_time": "2023-08-29T15:38:03.021483100Z"
    }
   },
   "outputs": [
    {
     "data": {
      "text/plain": "Ridge()",
      "text/html": "<style>#sk-container-id-1 {color: black;}#sk-container-id-1 pre{padding: 0;}#sk-container-id-1 div.sk-toggleable {background-color: white;}#sk-container-id-1 label.sk-toggleable__label {cursor: pointer;display: block;width: 100%;margin-bottom: 0;padding: 0.3em;box-sizing: border-box;text-align: center;}#sk-container-id-1 label.sk-toggleable__label-arrow:before {content: \"▸\";float: left;margin-right: 0.25em;color: #696969;}#sk-container-id-1 label.sk-toggleable__label-arrow:hover:before {color: black;}#sk-container-id-1 div.sk-estimator:hover label.sk-toggleable__label-arrow:before {color: black;}#sk-container-id-1 div.sk-toggleable__content {max-height: 0;max-width: 0;overflow: hidden;text-align: left;background-color: #f0f8ff;}#sk-container-id-1 div.sk-toggleable__content pre {margin: 0.2em;color: black;border-radius: 0.25em;background-color: #f0f8ff;}#sk-container-id-1 input.sk-toggleable__control:checked~div.sk-toggleable__content {max-height: 200px;max-width: 100%;overflow: auto;}#sk-container-id-1 input.sk-toggleable__control:checked~label.sk-toggleable__label-arrow:before {content: \"▾\";}#sk-container-id-1 div.sk-estimator input.sk-toggleable__control:checked~label.sk-toggleable__label {background-color: #d4ebff;}#sk-container-id-1 div.sk-label input.sk-toggleable__control:checked~label.sk-toggleable__label {background-color: #d4ebff;}#sk-container-id-1 input.sk-hidden--visually {border: 0;clip: rect(1px 1px 1px 1px);clip: rect(1px, 1px, 1px, 1px);height: 1px;margin: -1px;overflow: hidden;padding: 0;position: absolute;width: 1px;}#sk-container-id-1 div.sk-estimator {font-family: monospace;background-color: #f0f8ff;border: 1px dotted black;border-radius: 0.25em;box-sizing: border-box;margin-bottom: 0.5em;}#sk-container-id-1 div.sk-estimator:hover {background-color: #d4ebff;}#sk-container-id-1 div.sk-parallel-item::after {content: \"\";width: 100%;border-bottom: 1px solid gray;flex-grow: 1;}#sk-container-id-1 div.sk-label:hover label.sk-toggleable__label {background-color: #d4ebff;}#sk-container-id-1 div.sk-serial::before {content: \"\";position: absolute;border-left: 1px solid gray;box-sizing: border-box;top: 0;bottom: 0;left: 50%;z-index: 0;}#sk-container-id-1 div.sk-serial {display: flex;flex-direction: column;align-items: center;background-color: white;padding-right: 0.2em;padding-left: 0.2em;position: relative;}#sk-container-id-1 div.sk-item {position: relative;z-index: 1;}#sk-container-id-1 div.sk-parallel {display: flex;align-items: stretch;justify-content: center;background-color: white;position: relative;}#sk-container-id-1 div.sk-item::before, #sk-container-id-1 div.sk-parallel-item::before {content: \"\";position: absolute;border-left: 1px solid gray;box-sizing: border-box;top: 0;bottom: 0;left: 50%;z-index: -1;}#sk-container-id-1 div.sk-parallel-item {display: flex;flex-direction: column;z-index: 1;position: relative;background-color: white;}#sk-container-id-1 div.sk-parallel-item:first-child::after {align-self: flex-end;width: 50%;}#sk-container-id-1 div.sk-parallel-item:last-child::after {align-self: flex-start;width: 50%;}#sk-container-id-1 div.sk-parallel-item:only-child::after {width: 0;}#sk-container-id-1 div.sk-dashed-wrapped {border: 1px dashed gray;margin: 0 0.4em 0.5em 0.4em;box-sizing: border-box;padding-bottom: 0.4em;background-color: white;}#sk-container-id-1 div.sk-label label {font-family: monospace;font-weight: bold;display: inline-block;line-height: 1.2em;}#sk-container-id-1 div.sk-label-container {text-align: center;}#sk-container-id-1 div.sk-container {/* jupyter's `normalize.less` sets `[hidden] { display: none; }` but bootstrap.min.css set `[hidden] { display: none !important; }` so we also need the `!important` here to be able to override the default hidden behavior on the sphinx rendered scikit-learn.org. See: https://github.com/scikit-learn/scikit-learn/issues/21755 */display: inline-block !important;position: relative;}#sk-container-id-1 div.sk-text-repr-fallback {display: none;}</style><div id=\"sk-container-id-1\" class=\"sk-top-container\"><div class=\"sk-text-repr-fallback\"><pre>Ridge()</pre><b>In a Jupyter environment, please rerun this cell to show the HTML representation or trust the notebook. <br />On GitHub, the HTML representation is unable to render, please try loading this page with nbviewer.org.</b></div><div class=\"sk-container\" hidden><div class=\"sk-item\"><div class=\"sk-estimator sk-toggleable\"><input class=\"sk-toggleable__control sk-hidden--visually\" id=\"sk-estimator-id-1\" type=\"checkbox\" checked><label for=\"sk-estimator-id-1\" class=\"sk-toggleable__label sk-toggleable__label-arrow\">Ridge</label><div class=\"sk-toggleable__content\"><pre>Ridge()</pre></div></div></div></div></div>"
     },
     "execution_count": 5,
     "metadata": {},
     "output_type": "execute_result"
    }
   ],
   "source": [
    "model = ames_housing.load_model()\n",
    "model"
   ]
  },
  {
   "cell_type": "markdown",
   "metadata": {},
   "source": [
    "Now, we can initialize a RealApp object."
   ]
  },
  {
   "cell_type": "code",
   "execution_count": 6,
   "metadata": {
    "ExecuteTime": {
     "end_time": "2023-08-29T15:38:03.162482800Z",
     "start_time": "2023-08-29T15:38:03.142483100Z"
    }
   },
   "outputs": [],
   "source": [
    "from pyreal import RealApp\n",
    "\n",
    "realApp =  RealApp(model,\n",
    "                   x_orig,\n",
    "                   y_train=y,\n",
    "                   transformers=transformers,\n",
    "                   feature_descriptions=feature_descriptions,\n",
    "                   id_column=\"Id\"\n",
    "                )"
   ]
  },
  {
   "cell_type": "markdown",
   "metadata": {},
   "source": [
    "We can make predictions using RealApp objects."
   ]
  },
  {
   "cell_type": "code",
   "execution_count": 7,
   "metadata": {
    "ExecuteTime": {
     "end_time": "2023-08-29T15:38:03.202482400Z",
     "start_time": "2023-08-29T15:38:03.157485Z"
    }
   },
   "outputs": [
    {
     "name": "stderr",
     "output_type": "stream",
     "text": [
      "X has feature names, but Ridge was fitted without feature names\n"
     ]
    },
    {
     "data": {
      "text/plain": "{0: 157585.2499694071,\n 1: 208451.08625945353,\n 2: 200785.2076056447,\n 3: 208661.747407954,\n 4: 166794.2494034586,\n 5: 285660.2014755854,\n 6: 156554.26930558967,\n 7: 279133.15592026466,\n 8: 225810.47104341377,\n 9: 138028.17155712727}"
     },
     "execution_count": 7,
     "metadata": {},
     "output_type": "execute_result"
    }
   ],
   "source": [
    "realApp.predict(x_orig.iloc[0:10])\n"
   ]
  },
  {
   "cell_type": "code",
   "execution_count": 8,
   "metadata": {
    "pycharm": {
     "name": "#%%\n"
    },
    "ExecuteTime": {
     "end_time": "2023-08-29T15:38:03.331798300Z",
     "start_time": "2023-08-29T15:38:03.190484Z"
    }
   },
   "outputs": [
    {
     "data": {
      "text/plain": "{0:                                          Feature Name Feature Value  \\\n 0    Identifies the type of dwelling involved in t...            20   \n 1         Linear feet of street connected to property          75.0   \n 2                             Lot size in square feet          9937   \n 3    Rates the overall material and finish of the ...             5   \n 4            Rates the overall condition of the house             6   \n ..                                                ...           ...   \n 74                                       Pool quality           NaN   \n 75                                      Fence quality           NaN   \n 76   Miscellaneous feature not covered in other ca...           NaN   \n 77                                       Type of sale            WD   \n 78                                  Condition of sale        Normal   \n \n     Contribution Average/Mode  \n 0    1719.226755         47.0  \n 1     219.032356    71.444444  \n 2   -1529.914407      10374.8  \n 3  -10743.763013          6.7  \n 4    2565.738373          5.5  \n ..           ...          ...  \n 74      0.000000          NaN  \n 75    124.108978        MnPrv  \n 76    -29.060191         Shed  \n 77  -2609.610771           WD  \n 78   1302.657230       Normal  \n \n [79 rows x 4 columns],\n 1:                                          Feature Name Feature Value  \\\n 0    Identifies the type of dwelling involved in t...            60   \n 1         Linear feet of street connected to property          65.0   \n 2                             Lot size in square feet          8450   \n 3    Rates the overall material and finish of the ...             7   \n 4            Rates the overall condition of the house             5   \n ..                                                ...           ...   \n 74                                       Pool quality           NaN   \n 75                                      Fence quality           NaN   \n 76   Miscellaneous feature not covered in other ca...           NaN   \n 77                                       Type of sale            WD   \n 78                                  Condition of sale        Normal   \n \n     Contribution Average/Mode  \n 0    -580.742148         47.0  \n 1      81.879973    71.444444  \n 2   -2623.004451      10374.8  \n 3    2855.937004          6.7  \n 4   -2670.462388          5.5  \n ..           ...          ...  \n 74      0.000000          NaN  \n 75    124.108978        MnPrv  \n 76    -29.060191         Shed  \n 77  -2609.610771           WD  \n 78   1302.657230       Normal  \n \n [79 rows x 4 columns],\n 2:                                          Feature Name Feature Value  \\\n 0    Identifies the type of dwelling involved in t...            20   \n 1         Linear feet of street connected to property          80.0   \n 2                             Lot size in square feet          9600   \n 3    Rates the overall material and finish of the ...             6   \n 4            Rates the overall condition of the house             8   \n ..                                                ...           ...   \n 74                                       Pool quality           NaN   \n 75                                      Fence quality           NaN   \n 76   Miscellaneous feature not covered in other ca...           NaN   \n 77                                       Type of sale            WD   \n 78                                  Condition of sale        Normal   \n \n     Contribution Average/Mode  \n 0    1719.226755         47.0  \n 1     287.608547    71.444444  \n 2   -1777.642279      10374.8  \n 3   -3943.913005          6.7  \n 4   13038.139894          5.5  \n ..           ...          ...  \n 74      0.000000          NaN  \n 75    124.108978        MnPrv  \n 76    -29.060191         Shed  \n 77  -2609.610771           WD  \n 78   1302.657230       Normal  \n \n [79 rows x 4 columns],\n 3:                                          Feature Name Feature Value  \\\n 0    Identifies the type of dwelling involved in t...            60   \n 1         Linear feet of street connected to property          68.0   \n 2                             Lot size in square feet         11250   \n 3    Rates the overall material and finish of the ...             7   \n 4            Rates the overall condition of the house             5   \n ..                                                ...           ...   \n 74                                       Pool quality           NaN   \n 75                                      Fence quality           NaN   \n 76   Miscellaneous feature not covered in other ca...           NaN   \n 77                                       Type of sale            WD   \n 78                                  Condition of sale        Normal   \n \n     Contribution Average/Mode  \n 0    -580.742148         47.0  \n 1     123.025688    71.444444  \n 2    -564.731335      10374.8  \n 3    2855.937004          6.7  \n 4   -2670.462388          5.5  \n ..           ...          ...  \n 74      0.000000          NaN  \n 75    124.108978        MnPrv  \n 76    -29.060191         Shed  \n 77  -2609.610771           WD  \n 78   1302.657230       Normal  \n \n [79 rows x 4 columns],\n 4:                                          Feature Name Feature Value  \\\n 0    Identifies the type of dwelling involved in t...            70   \n 1         Linear feet of street connected to property          60.0   \n 2                             Lot size in square feet          9550   \n 3    Rates the overall material and finish of the ...             7   \n 4            Rates the overall condition of the house             5   \n ..                                                ...           ...   \n 74                                       Pool quality           NaN   \n 75                                      Fence quality           NaN   \n 76   Miscellaneous feature not covered in other ca...           NaN   \n 77                                       Type of sale            WD   \n 78                                  Condition of sale       Abnorml   \n \n     Contribution Average/Mode  \n 0   -1155.734374         47.0  \n 1      13.303781    71.444444  \n 2   -1814.397156      10374.8  \n 3    2855.937004          6.7  \n 4   -2670.462388          5.5  \n ..           ...          ...  \n 74      0.000000          NaN  \n 75    124.108978        MnPrv  \n 76    -29.060191         Shed  \n 77  -2609.610771           WD  \n 78  -6786.655897       Normal  \n \n [79 rows x 4 columns],\n 5:                                          Feature Name Feature Value  \\\n 0    Identifies the type of dwelling involved in t...            60   \n 1         Linear feet of street connected to property          84.0   \n 2                             Lot size in square feet         14260   \n 3    Rates the overall material and finish of the ...             8   \n 4            Rates the overall condition of the house             5   \n ..                                                ...           ...   \n 74                                       Pool quality           NaN   \n 75                                      Fence quality           NaN   \n 76   Miscellaneous feature not covered in other ca...           NaN   \n 77                                       Type of sale            WD   \n 78                                  Condition of sale        Normal   \n \n     Contribution Average/Mode  \n 0    -580.742148         47.0  \n 1     342.469500    71.444444  \n 2    1647.912265      10374.8  \n 3    9655.787012          6.7  \n 4   -2670.462388          5.5  \n ..           ...          ...  \n 74      0.000000          NaN  \n 75    124.108978        MnPrv  \n 76    -29.060191         Shed  \n 77  -2609.610771           WD  \n 78   1302.657230       Normal  \n \n [79 rows x 4 columns],\n 6:                                          Feature Name Feature Value  \\\n 0    Identifies the type of dwelling involved in t...            50   \n 1         Linear feet of street connected to property          85.0   \n 2                             Lot size in square feet         14115   \n 3    Rates the overall material and finish of the ...             5   \n 4            Rates the overall condition of the house             5   \n ..                                                ...           ...   \n 74                                       Pool quality           NaN   \n 75                                      Fence quality         MnPrv   \n 76   Miscellaneous feature not covered in other ca...          Shed   \n 77                                       Type of sale            WD   \n 78                                  Condition of sale        Normal   \n \n     Contribution Average/Mode  \n 0      -5.749922         47.0  \n 1     356.184739    71.444444  \n 2    1541.323121      10374.8  \n 3  -10743.763013          6.7  \n 4   -2670.462388          5.5  \n ..           ...          ...  \n 74      0.000000          NaN  \n 75    301.039718        MnPrv  \n 76    552.143625         Shed  \n 77  -2609.610771           WD  \n 78   1302.657230       Normal  \n \n [79 rows x 4 columns],\n 7:                                          Feature Name Feature Value  \\\n 0    Identifies the type of dwelling involved in t...            20   \n 1         Linear feet of street connected to property          75.0   \n 2                             Lot size in square feet         10084   \n 3    Rates the overall material and finish of the ...             8   \n 4            Rates the overall condition of the house             5   \n ..                                                ...           ...   \n 74                                       Pool quality           NaN   \n 75                                      Fence quality           NaN   \n 76   Miscellaneous feature not covered in other ca...           NaN   \n 77                                       Type of sale            WD   \n 78                                  Condition of sale        Normal   \n \n     Contribution Average/Mode  \n 0    1719.226755         47.0  \n 1     219.032356    71.444444  \n 2   -1421.855069      10374.8  \n 3    9655.787012          6.7  \n 4   -2670.462388          5.5  \n ..           ...          ...  \n 74      0.000000          NaN  \n 75    124.108978        MnPrv  \n 76    -29.060191         Shed  \n 77  -2609.610771           WD  \n 78   1302.657230       Normal  \n \n [79 rows x 4 columns],\n 8:                                          Feature Name Feature Value  \\\n 0    Identifies the type of dwelling involved in t...            60   \n 1         Linear feet of street connected to property           NaN   \n 2                             Lot size in square feet         10382   \n 3    Rates the overall material and finish of the ...             7   \n 4            Rates the overall condition of the house             6   \n ..                                                ...           ...   \n 74                                       Pool quality           NaN   \n 75                                      Fence quality           NaN   \n 76   Miscellaneous feature not covered in other ca...          Shed   \n 77                                       Type of sale            WD   \n 78                                  Condition of sale        Normal   \n \n     Contribution Average/Mode  \n 0    -580.742148         47.0  \n 1    -809.610517    71.444444  \n 2   -1202.796001      10374.8  \n 3    2855.937004          6.7  \n 4    2565.738373          5.5  \n ..           ...          ...  \n 74      0.000000          NaN  \n 75    124.108978        MnPrv  \n 76    552.143625         Shed  \n 77  -2609.610771           WD  \n 78   1302.657230       Normal  \n \n [79 rows x 4 columns],\n 9:                                          Feature Name Feature Value  \\\n 0    Identifies the type of dwelling involved in t...            50   \n 1         Linear feet of street connected to property          51.0   \n 2                             Lot size in square feet          6120   \n 3    Rates the overall material and finish of the ...             7   \n 4            Rates the overall condition of the house             5   \n ..                                                ...           ...   \n 74                                       Pool quality           NaN   \n 75                                      Fence quality           NaN   \n 76   Miscellaneous feature not covered in other ca...           NaN   \n 77                                       Type of sale            WD   \n 78                                  Condition of sale       Abnorml   \n \n     Contribution Average/Mode  \n 0      -5.749922         47.0  \n 1    -110.133364    71.444444  \n 2   -4335.781723      10374.8  \n 3    2855.937004          6.7  \n 4   -2670.462388          5.5  \n ..           ...          ...  \n 74      0.000000          NaN  \n 75    124.108978        MnPrv  \n 76    -29.060191         Shed  \n 77  -2609.610771           WD  \n 78  -6786.655897       Normal  \n \n [79 rows x 4 columns]}"
     },
     "execution_count": 8,
     "metadata": {},
     "output_type": "execute_result"
    }
   ],
   "source": [
    "realApp.produce_feature_contributions(x_orig.iloc[0:10])\n"
   ]
  },
  {
   "cell_type": "code",
   "execution_count": 9,
   "outputs": [
    {
     "name": "stderr",
     "output_type": "stream",
     "text": [
      "Transformer class AmesHousingImputer does not have the required inverse explanation transform and is set to break, stopping transform process\n"
     ]
    },
    {
     "name": "stdout",
     "output_type": "stream",
     "text": [
      "[160089.64579568]\n"
     ]
    },
    {
     "name": "stderr",
     "output_type": "stream",
     "text": [
      "X has feature names, but Ridge was fitted without feature names\n"
     ]
    },
    {
     "data": {
      "text/plain": "   MSSubClass  LotFrontage  LotArea  OverallQual  OverallCond  YearBuilt  \\\n0          95    89.123615     9937            5            6       1892   \n\n   YearRemodAdd  MasVnrArea  BsmtFinSF1  BsmtFinSF2  ...  GarageType  \\\n0          1965   71.891654         825         290  ...     CarPort   \n\n   GarageFinish  GarageQual  GarageCond  PavedDrive  PoolQC  Fence  \\\n0            No          Gd          TA           Y      No   MnWw   \n\n   MiscFeature  SaleType  SaleCondition  \n0         Othr     ConLI         Alloca  \n\n[1 rows x 79 columns]",
      "text/html": "<div>\n<style scoped>\n    .dataframe tbody tr th:only-of-type {\n        vertical-align: middle;\n    }\n\n    .dataframe tbody tr th {\n        vertical-align: top;\n    }\n\n    .dataframe thead th {\n        text-align: right;\n    }\n</style>\n<table border=\"1\" class=\"dataframe\">\n  <thead>\n    <tr style=\"text-align: right;\">\n      <th></th>\n      <th>MSSubClass</th>\n      <th>LotFrontage</th>\n      <th>LotArea</th>\n      <th>OverallQual</th>\n      <th>OverallCond</th>\n      <th>YearBuilt</th>\n      <th>YearRemodAdd</th>\n      <th>MasVnrArea</th>\n      <th>BsmtFinSF1</th>\n      <th>BsmtFinSF2</th>\n      <th>...</th>\n      <th>GarageType</th>\n      <th>GarageFinish</th>\n      <th>GarageQual</th>\n      <th>GarageCond</th>\n      <th>PavedDrive</th>\n      <th>PoolQC</th>\n      <th>Fence</th>\n      <th>MiscFeature</th>\n      <th>SaleType</th>\n      <th>SaleCondition</th>\n    </tr>\n  </thead>\n  <tbody>\n    <tr>\n      <th>0</th>\n      <td>95</td>\n      <td>89.123615</td>\n      <td>9937</td>\n      <td>5</td>\n      <td>6</td>\n      <td>1892</td>\n      <td>1965</td>\n      <td>71.891654</td>\n      <td>825</td>\n      <td>290</td>\n      <td>...</td>\n      <td>CarPort</td>\n      <td>No</td>\n      <td>Gd</td>\n      <td>TA</td>\n      <td>Y</td>\n      <td>No</td>\n      <td>MnWw</td>\n      <td>Othr</td>\n      <td>ConLI</td>\n      <td>Alloca</td>\n    </tr>\n  </tbody>\n</table>\n<p>1 rows × 79 columns</p>\n</div>"
     },
     "metadata": {},
     "output_type": "display_data"
    },
    {
     "data": {
      "text/plain": "   MSSubClass MSZoning  LotFrontage  LotArea Street Alley LotShape  \\\n0          20       RL         75.0     9937   Pave   NaN      Reg   \n\n  LandContour Utilities LotConfig  ... ScreenPorch PoolArea PoolQC Fence  \\\n0         Lvl    AllPub    Inside  ...           0        0    NaN   NaN   \n\n  MiscFeature MiscVal  MoSold  YrSold  SaleType  SaleCondition  \n0         NaN       0       6    2008        WD         Normal  \n\n[1 rows x 79 columns]",
      "text/html": "<div>\n<style scoped>\n    .dataframe tbody tr th:only-of-type {\n        vertical-align: middle;\n    }\n\n    .dataframe tbody tr th {\n        vertical-align: top;\n    }\n\n    .dataframe thead th {\n        text-align: right;\n    }\n</style>\n<table border=\"1\" class=\"dataframe\">\n  <thead>\n    <tr style=\"text-align: right;\">\n      <th></th>\n      <th>MSSubClass</th>\n      <th>MSZoning</th>\n      <th>LotFrontage</th>\n      <th>LotArea</th>\n      <th>Street</th>\n      <th>Alley</th>\n      <th>LotShape</th>\n      <th>LandContour</th>\n      <th>Utilities</th>\n      <th>LotConfig</th>\n      <th>...</th>\n      <th>ScreenPorch</th>\n      <th>PoolArea</th>\n      <th>PoolQC</th>\n      <th>Fence</th>\n      <th>MiscFeature</th>\n      <th>MiscVal</th>\n      <th>MoSold</th>\n      <th>YrSold</th>\n      <th>SaleType</th>\n      <th>SaleCondition</th>\n    </tr>\n  </thead>\n  <tbody>\n    <tr>\n      <th>0</th>\n      <td>20</td>\n      <td>RL</td>\n      <td>75.0</td>\n      <td>9937</td>\n      <td>Pave</td>\n      <td>NaN</td>\n      <td>Reg</td>\n      <td>Lvl</td>\n      <td>AllPub</td>\n      <td>Inside</td>\n      <td>...</td>\n      <td>0</td>\n      <td>0</td>\n      <td>NaN</td>\n      <td>NaN</td>\n      <td>NaN</td>\n      <td>0</td>\n      <td>6</td>\n      <td>2008</td>\n      <td>WD</td>\n      <td>Normal</td>\n    </tr>\n  </tbody>\n</table>\n<p>1 rows × 79 columns</p>\n</div>"
     },
     "metadata": {},
     "output_type": "display_data"
    }
   ],
   "source": [
    "from pyreal.sample_applications import ames_housing\n",
    "from pyreal.explainers.cf.counterfactual_examples import Counterfactuals\n",
    "import time\n",
    "import pandas as pd\n",
    "\n",
    "start = time.time()\n",
    "x_train_orig = ames_housing.load_data().drop(columns=\"Id\")\n",
    "model = ames_housing.load_model()\n",
    "transformers = ames_housing.load_transformers()\n",
    "\n",
    "input_row = x_train_orig.iloc[0:1]\n",
    "explainer = Counterfactuals(model, x_train_orig, transformers=transformers, fit_on_init=True)\n",
    "result = explainer.produce(input_row, target_prediction=200000)\n",
    "\n",
    "cf = result.get_examples()\n",
    "print(explainer.model_predict(cf))"
   ],
   "metadata": {
    "collapsed": false,
    "ExecuteTime": {
     "end_time": "2023-08-29T15:38:38.474881600Z",
     "start_time": "2023-08-29T15:38:03.326781Z"
    }
   }
  },
  {
   "cell_type": "code",
   "execution_count": 10,
   "outputs": [
    {
     "name": "stdout",
     "output_type": "stream",
     "text": [
      "   A  B  C\n",
      "0  1  0  0\n",
      "1.0 1\n"
     ]
    }
   ],
   "source": [
    "import numpy as np\n",
    "def _dist(a, b):\n",
    "    return np.linalg.norm(b - a)\n",
    "\n",
    "x_model = np.array([0, 0, 0])\n",
    "x = {\"A\":1, \"B\":0, \"C\":0}\n",
    "\n",
    "x_df = pd.DataFrame(x, index=[0])[[\"A\", \"B\", \"C\"]]\n",
    "print(x_df)\n",
    "x_np = x_df.to_numpy()\n",
    "# Distance between x_mod and the input:\n",
    "o2 = _dist(x_model, x_np)\n",
    "# Sparsity of changes:\n",
    "o3 = np.sum(x_model != x_np)\n",
    "print(o2, o3)"
   ],
   "metadata": {
    "collapsed": false,
    "ExecuteTime": {
     "end_time": "2023-08-29T15:38:38.475877900Z",
     "start_time": "2023-08-29T15:38:38.459073700Z"
    }
   }
  },
  {
   "cell_type": "code",
   "execution_count": 10,
   "outputs": [],
   "source": [],
   "metadata": {
    "collapsed": false,
    "ExecuteTime": {
     "end_time": "2023-08-29T15:38:38.500993Z",
     "start_time": "2023-08-29T15:38:38.472881100Z"
    }
   }
  }
 ],
 "metadata": {
  "kernelspec": {
   "display_name": "Python 3 (ipykernel)",
   "language": "python",
   "name": "python3"
  },
  "language_info": {
   "codemirror_mode": {
    "name": "ipython",
    "version": 3
   },
   "file_extension": ".py",
   "mimetype": "text/x-python",
   "name": "python",
   "nbconvert_exporter": "python",
   "pygments_lexer": "ipython3",
   "version": "3.8.6"
  }
 },
 "nbformat": 4,
 "nbformat_minor": 2
}
