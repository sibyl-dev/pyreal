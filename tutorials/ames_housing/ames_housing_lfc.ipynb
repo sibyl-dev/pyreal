{
 "cells": [
  {
   "cell_type": "markdown",
   "metadata": {},
   "source": [
    "Data Source:\n",
    "\n",
    "De Cock, D. (2011). Ames, Iowa: Alternative to the Boston Housing Data as an End of Semester Regression Project. Journal of Statistics Education, 19(3). https://doi.org/10.1080/10691898.2011.11889627"
   ]
  },
  {
   "cell_type": "code",
   "execution_count": 2,
   "metadata": {
    "ExecuteTime": {
     "end_time": "2024-03-19T14:44:40.680032800Z",
     "start_time": "2024-03-19T14:44:37.119872100Z"
    }
   },
   "outputs": [
    {
     "name": "stderr",
     "output_type": "stream",
     "text": [
      "Using `tqdm.autonotebook.tqdm` in notebook mode. Use `tqdm.tqdm` instead to force console mode (e.g. in jupyter console)\n"
     ]
    }
   ],
   "source": [
    "from pyreal.sample_applications import ames_housing"
   ]
  },
  {
   "cell_type": "markdown",
   "metadata": {},
   "source": [
    "In this tutorial, we use Pyreal to get feature contribution explanations for the AmesHousing dataset\n",
    "\n",
    "First, we load in the data. Pyreal expects all data as DataFrames, where columns have the feature names."
   ]
  },
  {
   "cell_type": "code",
   "execution_count": 3,
   "metadata": {
    "ExecuteTime": {
     "end_time": "2024-03-19T14:44:40.790231100Z",
     "start_time": "2024-03-19T14:44:40.682030800Z"
    }
   },
   "outputs": [],
   "source": [
    "x_orig, y = ames_housing.load_data(include_targets=True)"
   ]
  },
  {
   "cell_type": "markdown",
   "metadata": {},
   "source": [
    "Next, we load in the interpretable feature descriptions."
   ]
  },
  {
   "cell_type": "code",
   "execution_count": 4,
   "metadata": {
    "ExecuteTime": {
     "end_time": "2024-03-19T14:44:40.894078500Z",
     "start_time": "2024-03-19T14:44:40.793237900Z"
    }
   },
   "outputs": [
    {
     "data": {
      "text/plain": "{'MSSubClass': ' Identifies the type of dwelling involved in the sale.',\n 'MSZoning': ' Identifies the general zoning classification of the sale.',\n 'LotFrontage': ' Linear feet of street connected to property',\n 'LotArea': ' Lot size in square feet',\n 'Street': ' Type of road access to property',\n 'Alley': ' Type of alley access to property',\n 'LotShape': ' General shape of property',\n 'LandContour': ' Flatness of the property',\n 'Utilities': ' Type of utilities available',\n 'LotConfig': ' Lot configuration',\n 'LandSlope': ' Slope of property',\n 'Neighborhood': ' Physical locations within Ames city limits',\n 'Condition1': ' Proximity to various conditions',\n 'Condition2': ' Proximity to various conditions (if more than one is present)',\n 'BldgType': ' Type of dwelling',\n 'HouseStyle': ' Style of dwelling',\n 'OverallQual': ' Rates the overall material and finish of the house',\n 'OverallCond': ' Rates the overall condition of the house',\n 'YearBuilt': ' Original construction date',\n 'YearRemodAdd': ' Remodel date (same as construction date if no remodeling or additions)',\n 'RoofStyle': ' Type of roof',\n 'RoofMatl': ' Roof material',\n 'Exterior1st': ' Exterior covering on house',\n 'Exterior2nd': ' Exterior covering on house (if more than one material)',\n 'MasVnrType': ' Masonry veneer type',\n 'MasVnrArea': ' Masonry veneer area in square feet',\n 'ExterQual': ' Evaluates the quality of the material on the exterior',\n 'ExterCond': ' Evaluates the present condition of the material on the exterior',\n 'Foundation': ' Type of foundation',\n 'BsmtQual': ' Evaluates the height of the basement',\n 'BsmtCond': ' Evaluates the general condition of the basement',\n 'BsmtExposure': ' Refers to walkout or garden level walls',\n 'BsmtFinType1': ' Rating of basement finished area',\n 'BsmtFinSF1': ' Type 1 finished square feet',\n 'BsmtFinType2': ' Rating of basement finished area (if multiple types)',\n 'BsmtFinSF2': ' Type 2 finished square feet',\n 'BsmtUnfSF': ' Unfinished square feet of basement area',\n 'TotalBsmtSF': ' Total square feet of basement area',\n 'Heating': ' Type of heating',\n 'HeatingQC': ' Heating quality and condition',\n 'CentralAir': ' Central air conditioning',\n 'Electrical': ' Electrical system',\n '1stFlrSF': ' First Floor square feet',\n '2ndFlrSF': ' Second floor square feet',\n 'LowQualFinSF': ' Low quality finished square feet (all floors)',\n 'GrLivArea': ' Above grade (ground) living area square feet',\n 'BsmtFullBath': ' Basement full bathrooms',\n 'BsmtHalfBath': ' Basement half bathrooms',\n 'FullBath': ' Full bathrooms above grade',\n 'HalfBath': ' Half baths above grade',\n 'BedroomAbvGr': ' Bedrooms above grade (does NOT include basement bedrooms)',\n 'KitchenAbvGr': ' Kitchens above grade',\n 'KitchenQual': ' Kitchen quality',\n 'TotRmsAbvGrd': ' Total rooms above grade (does not include bathrooms)',\n 'Functional': ' Home functionality (Assume typical unless deductions are warranted)',\n 'Fireplaces': ' Number of fireplaces',\n 'FireplaceQu': ' Fireplace quality',\n 'GarageType': ' Garage location',\n 'GarageYrBlt': ' Year garage was built',\n 'GarageFinish': ' Interior finish of the garage',\n 'GarageCars': ' Size of garage in car capacity',\n 'GarageArea': ' Size of garage in square feet',\n 'GarageQual': ' Garage quality',\n 'GarageCond': ' Garage condition',\n 'PavedDrive': ' Paved driveway',\n 'WoodDeckSF': ' Wood deck area in square feet',\n 'OpenPorchSF': ' Open porch area in square feet',\n 'EnclosedPorch': ' Enclosed porch area in square feet',\n '3SsnPorch': ' Three season porch area in square feet',\n 'ScreenPorch': ' Screen porch area in square feet',\n 'PoolArea': ' Pool area in square feet',\n 'PoolQC': ' Pool quality',\n 'Fence': ' Fence quality',\n 'MiscFeature': ' Miscellaneous feature not covered in other categories',\n 'MiscVal': ' $Value of miscellaneous feature',\n 'MoSold': ' Month Sold (MM)',\n 'YrSold': ' Year Sold (YYYY)',\n 'SaleType': ' Type of sale',\n 'SaleCondition': ' Condition of sale'}"
     },
     "execution_count": 4,
     "metadata": {},
     "output_type": "execute_result"
    }
   ],
   "source": [
    "feature_descriptions = ames_housing.load_feature_descriptions()\n",
    "feature_descriptions"
   ]
  },
  {
   "cell_type": "markdown",
   "metadata": {},
   "source": [
    "Next, we load the transfomers.\n",
    "\n",
    "The first kind of transformer manually imputes the data based on information we know about the dataset.\n",
    "We will call this the `AmesHousingImputer`\n",
    "\n",
    "This imputation code comes from https://www.kaggle.com/juliencs/a-study-on-regression-applied-to-the-ames-dataset"
   ]
  },
  {
   "cell_type": "code",
   "execution_count": 5,
   "metadata": {
    "ExecuteTime": {
     "end_time": "2024-03-19T14:44:40.973427900Z",
     "start_time": "2024-03-19T14:44:40.825347100Z"
    }
   },
   "outputs": [
    {
     "data": {
      "text/plain": "[<pyreal.sample_applications.ames_housing.AmesHousingImputer at 0x174caadeb30>,\n <pyreal.transformers.one_hot_encode.OneHotEncoder at 0x174caadeb90>]"
     },
     "execution_count": 5,
     "metadata": {},
     "output_type": "execute_result"
    }
   ],
   "source": [
    "transformers = ames_housing.load_transformers()\n",
    "transformers"
   ]
  },
  {
   "cell_type": "code",
   "execution_count": 6,
   "metadata": {
    "pycharm": {
     "name": "#%%\n"
    },
    "ExecuteTime": {
     "end_time": "2024-03-19T14:44:41.201104400Z",
     "start_time": "2024-03-19T14:44:40.962391800Z"
    }
   },
   "outputs": [
    {
     "data": {
      "text/plain": "Ridge()",
      "text/html": "<style>#sk-container-id-1 {color: black;}#sk-container-id-1 pre{padding: 0;}#sk-container-id-1 div.sk-toggleable {background-color: white;}#sk-container-id-1 label.sk-toggleable__label {cursor: pointer;display: block;width: 100%;margin-bottom: 0;padding: 0.3em;box-sizing: border-box;text-align: center;}#sk-container-id-1 label.sk-toggleable__label-arrow:before {content: \"▸\";float: left;margin-right: 0.25em;color: #696969;}#sk-container-id-1 label.sk-toggleable__label-arrow:hover:before {color: black;}#sk-container-id-1 div.sk-estimator:hover label.sk-toggleable__label-arrow:before {color: black;}#sk-container-id-1 div.sk-toggleable__content {max-height: 0;max-width: 0;overflow: hidden;text-align: left;background-color: #f0f8ff;}#sk-container-id-1 div.sk-toggleable__content pre {margin: 0.2em;color: black;border-radius: 0.25em;background-color: #f0f8ff;}#sk-container-id-1 input.sk-toggleable__control:checked~div.sk-toggleable__content {max-height: 200px;max-width: 100%;overflow: auto;}#sk-container-id-1 input.sk-toggleable__control:checked~label.sk-toggleable__label-arrow:before {content: \"▾\";}#sk-container-id-1 div.sk-estimator input.sk-toggleable__control:checked~label.sk-toggleable__label {background-color: #d4ebff;}#sk-container-id-1 div.sk-label input.sk-toggleable__control:checked~label.sk-toggleable__label {background-color: #d4ebff;}#sk-container-id-1 input.sk-hidden--visually {border: 0;clip: rect(1px 1px 1px 1px);clip: rect(1px, 1px, 1px, 1px);height: 1px;margin: -1px;overflow: hidden;padding: 0;position: absolute;width: 1px;}#sk-container-id-1 div.sk-estimator {font-family: monospace;background-color: #f0f8ff;border: 1px dotted black;border-radius: 0.25em;box-sizing: border-box;margin-bottom: 0.5em;}#sk-container-id-1 div.sk-estimator:hover {background-color: #d4ebff;}#sk-container-id-1 div.sk-parallel-item::after {content: \"\";width: 100%;border-bottom: 1px solid gray;flex-grow: 1;}#sk-container-id-1 div.sk-label:hover label.sk-toggleable__label {background-color: #d4ebff;}#sk-container-id-1 div.sk-serial::before {content: \"\";position: absolute;border-left: 1px solid gray;box-sizing: border-box;top: 0;bottom: 0;left: 50%;z-index: 0;}#sk-container-id-1 div.sk-serial {display: flex;flex-direction: column;align-items: center;background-color: white;padding-right: 0.2em;padding-left: 0.2em;position: relative;}#sk-container-id-1 div.sk-item {position: relative;z-index: 1;}#sk-container-id-1 div.sk-parallel {display: flex;align-items: stretch;justify-content: center;background-color: white;position: relative;}#sk-container-id-1 div.sk-item::before, #sk-container-id-1 div.sk-parallel-item::before {content: \"\";position: absolute;border-left: 1px solid gray;box-sizing: border-box;top: 0;bottom: 0;left: 50%;z-index: -1;}#sk-container-id-1 div.sk-parallel-item {display: flex;flex-direction: column;z-index: 1;position: relative;background-color: white;}#sk-container-id-1 div.sk-parallel-item:first-child::after {align-self: flex-end;width: 50%;}#sk-container-id-1 div.sk-parallel-item:last-child::after {align-self: flex-start;width: 50%;}#sk-container-id-1 div.sk-parallel-item:only-child::after {width: 0;}#sk-container-id-1 div.sk-dashed-wrapped {border: 1px dashed gray;margin: 0 0.4em 0.5em 0.4em;box-sizing: border-box;padding-bottom: 0.4em;background-color: white;}#sk-container-id-1 div.sk-label label {font-family: monospace;font-weight: bold;display: inline-block;line-height: 1.2em;}#sk-container-id-1 div.sk-label-container {text-align: center;}#sk-container-id-1 div.sk-container {/* jupyter's `normalize.less` sets `[hidden] { display: none; }` but bootstrap.min.css set `[hidden] { display: none !important; }` so we also need the `!important` here to be able to override the default hidden behavior on the sphinx rendered scikit-learn.org. See: https://github.com/scikit-learn/scikit-learn/issues/21755 */display: inline-block !important;position: relative;}#sk-container-id-1 div.sk-text-repr-fallback {display: none;}</style><div id=\"sk-container-id-1\" class=\"sk-top-container\"><div class=\"sk-text-repr-fallback\"><pre>Ridge()</pre><b>In a Jupyter environment, please rerun this cell to show the HTML representation or trust the notebook. <br />On GitHub, the HTML representation is unable to render, please try loading this page with nbviewer.org.</b></div><div class=\"sk-container\" hidden><div class=\"sk-item\"><div class=\"sk-estimator sk-toggleable\"><input class=\"sk-toggleable__control sk-hidden--visually\" id=\"sk-estimator-id-1\" type=\"checkbox\" checked><label for=\"sk-estimator-id-1\" class=\"sk-toggleable__label sk-toggleable__label-arrow\">Ridge</label><div class=\"sk-toggleable__content\"><pre>Ridge()</pre></div></div></div></div></div>"
     },
     "execution_count": 6,
     "metadata": {},
     "output_type": "execute_result"
    }
   ],
   "source": [
    "model = ames_housing.load_model()\n",
    "model"
   ]
  },
  {
   "cell_type": "markdown",
   "metadata": {},
   "source": [
    "Now, we can initialize a RealApp object."
   ]
  },
  {
   "cell_type": "code",
   "execution_count": 7,
   "metadata": {
    "ExecuteTime": {
     "end_time": "2024-03-19T14:44:41.236623800Z",
     "start_time": "2024-03-19T14:44:41.200101500Z"
    }
   },
   "outputs": [],
   "source": [
    "from pyreal import RealApp\n",
    "\n",
    "realApp =  RealApp(model,\n",
    "                   X_train_orig=x_orig,\n",
    "                   y_train=y,\n",
    "                   transformers=transformers,\n",
    "                   feature_descriptions=feature_descriptions,\n",
    "                   id_column=\"Id\"\n",
    "                )"
   ]
  },
  {
   "cell_type": "markdown",
   "metadata": {},
   "source": [
    "We can make predictions using RealApp objects."
   ]
  },
  {
   "cell_type": "code",
   "execution_count": 8,
   "metadata": {
    "ExecuteTime": {
     "end_time": "2024-03-19T14:44:41.309279700Z",
     "start_time": "2024-03-19T14:44:41.212629100Z"
    }
   },
   "outputs": [
    {
     "data": {
      "text/plain": "{0: 157585.2499694071,\n 1: 208451.08625945353,\n 2: 200785.2076056447,\n 3: 208661.747407954,\n 4: 166794.2494034586,\n 5: 285660.2014755854,\n 6: 156554.26930558967,\n 7: 279133.15592026466,\n 8: 225810.47104341377,\n 9: 138028.17155712727}"
     },
     "execution_count": 8,
     "metadata": {},
     "output_type": "execute_result"
    }
   ],
   "source": [
    "realApp.predict(x_orig.iloc[0:10])\n"
   ]
  },
  {
   "cell_type": "markdown",
   "source": [
    "And generate different types of explanations"
   ],
   "metadata": {
    "collapsed": false
   }
  },
  {
   "cell_type": "code",
   "execution_count": 9,
   "outputs": [
    {
     "data": {
      "text/plain": "                                         Feature Name Feature Value  \\\n0    Identifies the type of dwelling involved in t...            20   \n1         Linear feet of street connected to property          75.0   \n2                             Lot size in square feet          9937   \n3    Rates the overall material and finish of the ...             5   \n4            Rates the overall condition of the house             6   \n..                                                ...           ...   \n74                                       Type of roof         Gable   \n75                                  Condition of sale        Normal   \n76                                       Type of sale            WD   \n77                    Type of road access to property          Pave   \n78                        Type of utilities available        AllPub   \n\n    Contribution Average/Mode  \n0    1719.226755           20  \n1     219.032356         75.0  \n2   -1529.914407         9937  \n3  -10743.763013            5  \n4    2565.738373            6  \n..           ...          ...  \n74    -273.27385        Gable  \n75    1302.65723       Normal  \n76  -2609.610771           WD  \n77           0.0         Pave  \n78           0.0       AllPub  \n\n[79 rows x 4 columns]",
      "text/html": "<div>\n<style scoped>\n    .dataframe tbody tr th:only-of-type {\n        vertical-align: middle;\n    }\n\n    .dataframe tbody tr th {\n        vertical-align: top;\n    }\n\n    .dataframe thead th {\n        text-align: right;\n    }\n</style>\n<table border=\"1\" class=\"dataframe\">\n  <thead>\n    <tr style=\"text-align: right;\">\n      <th></th>\n      <th>Feature Name</th>\n      <th>Feature Value</th>\n      <th>Contribution</th>\n      <th>Average/Mode</th>\n    </tr>\n  </thead>\n  <tbody>\n    <tr>\n      <th>0</th>\n      <td>Identifies the type of dwelling involved in t...</td>\n      <td>20</td>\n      <td>1719.226755</td>\n      <td>20</td>\n    </tr>\n    <tr>\n      <th>1</th>\n      <td>Linear feet of street connected to property</td>\n      <td>75.0</td>\n      <td>219.032356</td>\n      <td>75.0</td>\n    </tr>\n    <tr>\n      <th>2</th>\n      <td>Lot size in square feet</td>\n      <td>9937</td>\n      <td>-1529.914407</td>\n      <td>9937</td>\n    </tr>\n    <tr>\n      <th>3</th>\n      <td>Rates the overall material and finish of the ...</td>\n      <td>5</td>\n      <td>-10743.763013</td>\n      <td>5</td>\n    </tr>\n    <tr>\n      <th>4</th>\n      <td>Rates the overall condition of the house</td>\n      <td>6</td>\n      <td>2565.738373</td>\n      <td>6</td>\n    </tr>\n    <tr>\n      <th>...</th>\n      <td>...</td>\n      <td>...</td>\n      <td>...</td>\n      <td>...</td>\n    </tr>\n    <tr>\n      <th>74</th>\n      <td>Type of roof</td>\n      <td>Gable</td>\n      <td>-273.27385</td>\n      <td>Gable</td>\n    </tr>\n    <tr>\n      <th>75</th>\n      <td>Condition of sale</td>\n      <td>Normal</td>\n      <td>1302.65723</td>\n      <td>Normal</td>\n    </tr>\n    <tr>\n      <th>76</th>\n      <td>Type of sale</td>\n      <td>WD</td>\n      <td>-2609.610771</td>\n      <td>WD</td>\n    </tr>\n    <tr>\n      <th>77</th>\n      <td>Type of road access to property</td>\n      <td>Pave</td>\n      <td>0.0</td>\n      <td>Pave</td>\n    </tr>\n    <tr>\n      <th>78</th>\n      <td>Type of utilities available</td>\n      <td>AllPub</td>\n      <td>0.0</td>\n      <td>AllPub</td>\n    </tr>\n  </tbody>\n</table>\n<p>79 rows × 4 columns</p>\n</div>"
     },
     "execution_count": 9,
     "metadata": {},
     "output_type": "execute_result"
    }
   ],
   "source": [
    "realApp.produce_feature_contributions(x_orig.iloc[0])"
   ],
   "metadata": {
    "collapsed": false,
    "ExecuteTime": {
     "end_time": "2024-03-19T14:44:41.442139500Z",
     "start_time": "2024-03-19T14:44:41.295749800Z"
    }
   }
  },
  {
   "cell_type": "code",
   "execution_count": 10,
   "metadata": {
    "pycharm": {
     "name": "#%%\n"
    },
    "ExecuteTime": {
     "end_time": "2024-03-19T14:44:41.658766700Z",
     "start_time": "2024-03-19T14:44:41.433621200Z"
    }
   },
   "outputs": [
    {
     "data": {
      "text/plain": "{'X':       Identifies the type of dwelling involved in the sale.  \\\n 0                                                   20        \n 202                                                 20        \n \n      Identifies the general zoning classification of the sale.  \\\n 0                                                   RL           \n 202                                                 RL           \n \n       Linear feet of street connected to property   Lot size in square feet  \\\n 0                                            75.0                      9937   \n 202                                          75.0                     10125   \n \n      Type of road access to property  Type of alley access to property  \\\n 0                               Pave                               NaN   \n 202                             Pave                               NaN   \n \n      General shape of property  Flatness of the property  \\\n 0                          Reg                       Lvl   \n 202                        Reg                       Lvl   \n \n      Type of utilities available  Lot configuration  ...  \\\n 0                         AllPub             Inside  ...   \n 202                       AllPub             Inside  ...   \n \n      Screen porch area in square feet  Pool area in square feet  Pool quality  \\\n 0                                   0                         0           NaN   \n 202                                 0                         0           NaN   \n \n      Fence quality  Miscellaneous feature not covered in other categories  \\\n 0              NaN                                                NaN       \n 202          MnPrv                                                NaN       \n \n      $Value of miscellaneous feature   Month Sold (MM)   Year Sold (YYYY)  \\\n 0                                  0                 6               2008   \n 202                                0                 2               2008   \n \n       Type of sale   Condition of sale  \n 0               WD              Normal  \n 202             WD              Normal  \n \n [2 rows x 79 columns],\n 'y': 0      147500\n 202    171500\n Name: SalePrice, dtype: int64,\n 'Input':  Identifies the type of dwelling involved in the sale.            20\n  Identifies the general zoning classification of the sale.        RL\n  Linear feet of street connected to property                    75.0\n  Lot size in square feet                                        9937\n  Type of road access to property                                Pave\n                                                                ...  \n  $Value of miscellaneous feature                                   0\n  Month Sold (MM)                                                   6\n  Year Sold (YYYY)                                               2008\n  Type of sale                                                     WD\n  Condition of sale                                            Normal\n Name: 0, Length: 79, dtype: object}"
     },
     "execution_count": 10,
     "metadata": {},
     "output_type": "execute_result"
    }
   ],
   "source": [
    "realApp.produce_similar_examples(x_orig.iloc[0], num_examples=2, fast=True)"
   ]
  },
  {
   "cell_type": "code",
   "outputs": [
    {
     "data": {
      "text/plain": "                                                                                         Feature Name  \\\n Identifies the type of dwelling involved in th...   Identifies the type of dwelling involved in t...   \n Linear feet of street connected to property              Linear feet of street connected to property   \n Lot size in square feet                                                      Lot size in square feet   \n Rates the overall material and finish of the h...   Rates the overall material and finish of the ...   \n Rates the overall condition of the house                    Rates the overall condition of the house   \n...                                                                                               ...   \n Type of roof                                                                            Type of roof   \n Condition of sale                                                                  Condition of sale   \n Type of sale                                                                            Type of sale   \n Type of road access to property                                      Type of road access to property   \n Type of utilities available                                              Type of utilities available   \n\n                                                     Importance  \n Identifies the type of dwelling involved in th...  1783.873890  \n Linear feet of street connected to property         349.504024  \n Lot size in square feet                            3205.578462  \n Rates the overall material and finish of the h...  8240.334718  \n Rates the overall condition of the house           4576.497005  \n...                                                         ...  \n Type of roof                                       4487.693167  \n Condition of sale                                  2432.473278  \n Type of sale                                       5139.319727  \n Type of road access to property                     126.182607  \n Type of utilities available                          11.870657  \n\n[79 rows x 2 columns]",
      "text/html": "<div>\n<style scoped>\n    .dataframe tbody tr th:only-of-type {\n        vertical-align: middle;\n    }\n\n    .dataframe tbody tr th {\n        vertical-align: top;\n    }\n\n    .dataframe thead th {\n        text-align: right;\n    }\n</style>\n<table border=\"1\" class=\"dataframe\">\n  <thead>\n    <tr style=\"text-align: right;\">\n      <th></th>\n      <th>Feature Name</th>\n      <th>Importance</th>\n    </tr>\n  </thead>\n  <tbody>\n    <tr>\n      <th>Identifies the type of dwelling involved in the sale.</th>\n      <td>Identifies the type of dwelling involved in t...</td>\n      <td>1783.873890</td>\n    </tr>\n    <tr>\n      <th>Linear feet of street connected to property</th>\n      <td>Linear feet of street connected to property</td>\n      <td>349.504024</td>\n    </tr>\n    <tr>\n      <th>Lot size in square feet</th>\n      <td>Lot size in square feet</td>\n      <td>3205.578462</td>\n    </tr>\n    <tr>\n      <th>Rates the overall material and finish of the house</th>\n      <td>Rates the overall material and finish of the ...</td>\n      <td>8240.334718</td>\n    </tr>\n    <tr>\n      <th>Rates the overall condition of the house</th>\n      <td>Rates the overall condition of the house</td>\n      <td>4576.497005</td>\n    </tr>\n    <tr>\n      <th>...</th>\n      <td>...</td>\n      <td>...</td>\n    </tr>\n    <tr>\n      <th>Type of roof</th>\n      <td>Type of roof</td>\n      <td>4487.693167</td>\n    </tr>\n    <tr>\n      <th>Condition of sale</th>\n      <td>Condition of sale</td>\n      <td>2432.473278</td>\n    </tr>\n    <tr>\n      <th>Type of sale</th>\n      <td>Type of sale</td>\n      <td>5139.319727</td>\n    </tr>\n    <tr>\n      <th>Type of road access to property</th>\n      <td>Type of road access to property</td>\n      <td>126.182607</td>\n    </tr>\n    <tr>\n      <th>Type of utilities available</th>\n      <td>Type of utilities available</td>\n      <td>11.870657</td>\n    </tr>\n  </tbody>\n</table>\n<p>79 rows × 2 columns</p>\n</div>"
     },
     "execution_count": 11,
     "metadata": {},
     "output_type": "execute_result"
    }
   ],
   "source": [
    "realApp.produce_feature_importance()"
   ],
   "metadata": {
    "collapsed": false,
    "ExecuteTime": {
     "end_time": "2024-03-19T14:44:41.764929700Z",
     "start_time": "2024-03-19T14:44:41.591001Z"
    }
   },
   "execution_count": 11
  },
  {
   "cell_type": "code",
   "execution_count": 12,
   "outputs": [
    {
     "data": {
      "text/plain": "{'shap': <pyreal.explainers.lfc.local_feature_contribution.LocalFeatureContribution at 0x174caadff40>}"
     },
     "execution_count": 12,
     "metadata": {},
     "output_type": "execute_result"
    }
   ],
   "source": [
    "realApp.explainers[\"lfc\"]"
   ],
   "metadata": {
    "collapsed": false,
    "ExecuteTime": {
     "end_time": "2024-03-19T14:44:41.765938800Z",
     "start_time": "2024-03-19T14:44:41.713505100Z"
    }
   }
  },
  {
   "cell_type": "code",
   "execution_count": 12,
   "outputs": [],
   "source": [],
   "metadata": {
    "collapsed": false,
    "ExecuteTime": {
     "end_time": "2024-03-19T14:44:41.837837400Z",
     "start_time": "2024-03-19T14:44:41.729843200Z"
    }
   }
  }
 ],
 "metadata": {
  "kernelspec": {
   "display_name": "Python 3 (ipykernel)",
   "language": "python",
   "name": "python3"
  },
  "language_info": {
   "codemirror_mode": {
    "name": "ipython",
    "version": 3
   },
   "file_extension": ".py",
   "mimetype": "text/x-python",
   "name": "python",
   "nbconvert_exporter": "python",
   "pygments_lexer": "ipython3",
   "version": "3.8.6"
  }
 },
 "nbformat": 4,
 "nbformat_minor": 2
}
