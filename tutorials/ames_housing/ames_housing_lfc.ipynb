{
 "cells": [
  {
   "cell_type": "markdown",
   "metadata": {},
   "source": [
    "Data Source:\n",
    "\n",
    "De Cock, D. (2011). Ames, Iowa: Alternative to the Boston Housing Data as an End of Semester Regression Project. Journal of Statistics Education, 19(3). https://doi.org/10.1080/10691898.2011.11889627"
   ]
  },
  {
   "cell_type": "code",
   "execution_count": 37,
   "metadata": {
    "ExecuteTime": {
     "end_time": "2023-11-02T19:32:37.860012100Z",
     "start_time": "2023-11-02T19:32:37.838984500Z"
    }
   },
   "outputs": [],
   "source": [
    "from pyreal.sample_applications import ames_housing"
   ]
  },
  {
   "cell_type": "markdown",
   "metadata": {},
   "source": [
    "In this tutorial, we use Pyreal to get feature contribution explanations for the AmesHousing dataset\n",
    "\n",
    "First, we load in the data. Pyreal expects all data as DataFrames, where columns have the feature names."
   ]
  },
  {
   "cell_type": "code",
   "execution_count": 38,
   "metadata": {
    "ExecuteTime": {
     "end_time": "2023-11-02T19:32:37.928408Z",
     "start_time": "2023-11-02T19:32:37.847984500Z"
    }
   },
   "outputs": [],
   "source": [
    "x_orig, y = ames_housing.load_data(include_targets=True)\n",
    "x_orig = x_orig.sample(10000, replace=True)\n",
    "y = y.sample(10000, replace=True)"
   ]
  },
  {
   "cell_type": "markdown",
   "metadata": {},
   "source": [
    "Next, we load in the interpretable feature descriptions."
   ]
  },
  {
   "cell_type": "code",
   "execution_count": 39,
   "metadata": {
    "ExecuteTime": {
     "end_time": "2023-11-02T19:32:37.929389100Z",
     "start_time": "2023-11-02T19:32:37.880390900Z"
    }
   },
   "outputs": [
    {
     "data": {
      "text/plain": "{'MSSubClass': ' Identifies the type of dwelling involved in the sale.',\n 'MSZoning': ' Identifies the general zoning classification of the sale.',\n 'LotFrontage': ' Linear feet of street connected to property',\n 'LotArea': ' Lot size in square feet',\n 'Street': ' Type of road access to property',\n 'Alley': ' Type of alley access to property',\n 'LotShape': ' General shape of property',\n 'LandContour': ' Flatness of the property',\n 'Utilities': ' Type of utilities available',\n 'LotConfig': ' Lot configuration',\n 'LandSlope': ' Slope of property',\n 'Neighborhood': ' Physical locations within Ames city limits',\n 'Condition1': ' Proximity to various conditions',\n 'Condition2': ' Proximity to various conditions (if more than one is present)',\n 'BldgType': ' Type of dwelling',\n 'HouseStyle': ' Style of dwelling',\n 'OverallQual': ' Rates the overall material and finish of the house',\n 'OverallCond': ' Rates the overall condition of the house',\n 'YearBuilt': ' Original construction date',\n 'YearRemodAdd': ' Remodel date (same as construction date if no remodeling or additions)',\n 'RoofStyle': ' Type of roof',\n 'RoofMatl': ' Roof material',\n 'Exterior1st': ' Exterior covering on house',\n 'Exterior2nd': ' Exterior covering on house (if more than one material)',\n 'MasVnrType': ' Masonry veneer type',\n 'MasVnrArea': ' Masonry veneer area in square feet',\n 'ExterQual': ' Evaluates the quality of the material on the exterior',\n 'ExterCond': ' Evaluates the present condition of the material on the exterior',\n 'Foundation': ' Type of foundation',\n 'BsmtQual': ' Evaluates the height of the basement',\n 'BsmtCond': ' Evaluates the general condition of the basement',\n 'BsmtExposure': ' Refers to walkout or garden level walls',\n 'BsmtFinType1': ' Rating of basement finished area',\n 'BsmtFinSF1': ' Type 1 finished square feet',\n 'BsmtFinType2': ' Rating of basement finished area (if multiple types)',\n 'BsmtFinSF2': ' Type 2 finished square feet',\n 'BsmtUnfSF': ' Unfinished square feet of basement area',\n 'TotalBsmtSF': ' Total square feet of basement area',\n 'Heating': ' Type of heating',\n 'HeatingQC': ' Heating quality and condition',\n 'CentralAir': ' Central air conditioning',\n 'Electrical': ' Electrical system',\n '1stFlrSF': ' First Floor square feet',\n '2ndFlrSF': ' Second floor square feet',\n 'LowQualFinSF': ' Low quality finished square feet (all floors)',\n 'GrLivArea': ' Above grade (ground) living area square feet',\n 'BsmtFullBath': ' Basement full bathrooms',\n 'BsmtHalfBath': ' Basement half bathrooms',\n 'FullBath': ' Full bathrooms above grade',\n 'HalfBath': ' Half baths above grade',\n 'BedroomAbvGr': ' Bedrooms above grade (does NOT include basement bedrooms)',\n 'KitchenAbvGr': ' Kitchens above grade',\n 'KitchenQual': ' Kitchen quality',\n 'TotRmsAbvGrd': ' Total rooms above grade (does not include bathrooms)',\n 'Functional': ' Home functionality (Assume typical unless deductions are warranted)',\n 'Fireplaces': ' Number of fireplaces',\n 'FireplaceQu': ' Fireplace quality',\n 'GarageType': ' Garage location',\n 'GarageYrBlt': ' Year garage was built',\n 'GarageFinish': ' Interior finish of the garage',\n 'GarageCars': ' Size of garage in car capacity',\n 'GarageArea': ' Size of garage in square feet',\n 'GarageQual': ' Garage quality',\n 'GarageCond': ' Garage condition',\n 'PavedDrive': ' Paved driveway',\n 'WoodDeckSF': ' Wood deck area in square feet',\n 'OpenPorchSF': ' Open porch area in square feet',\n 'EnclosedPorch': ' Enclosed porch area in square feet',\n '3SsnPorch': ' Three season porch area in square feet',\n 'ScreenPorch': ' Screen porch area in square feet',\n 'PoolArea': ' Pool area in square feet',\n 'PoolQC': ' Pool quality',\n 'Fence': ' Fence quality',\n 'MiscFeature': ' Miscellaneous feature not covered in other categories',\n 'MiscVal': ' $Value of miscellaneous feature',\n 'MoSold': ' Month Sold (MM)',\n 'YrSold': ' Year Sold (YYYY)',\n 'SaleType': ' Type of sale',\n 'SaleCondition': ' Condition of sale'}"
     },
     "execution_count": 39,
     "metadata": {},
     "output_type": "execute_result"
    }
   ],
   "source": [
    "feature_descriptions = ames_housing.load_feature_descriptions()\n",
    "feature_descriptions"
   ]
  },
  {
   "cell_type": "markdown",
   "metadata": {},
   "source": [
    "Next, we load the transfomers.\n",
    "\n",
    "The first kind of transformer manually imputes the data based on information we know about the dataset.\n",
    "We will call this the `AmesHousingImputer`\n",
    "\n",
    "This imputation code comes from https://www.kaggle.com/juliencs/a-study-on-regression-applied-to-the-ames-dataset"
   ]
  },
  {
   "cell_type": "code",
   "execution_count": 40,
   "metadata": {
    "ExecuteTime": {
     "end_time": "2023-11-02T19:32:37.993999Z",
     "start_time": "2023-11-02T19:32:37.896392100Z"
    }
   },
   "outputs": [
    {
     "data": {
      "text/plain": "[<pyreal.sample_applications.ames_housing.AmesHousingImputer at 0x1d87d086770>,\n <pyreal.transformers.one_hot_encode.OneHotEncoder at 0x1d844e1bdc0>]"
     },
     "execution_count": 40,
     "metadata": {},
     "output_type": "execute_result"
    }
   ],
   "source": [
    "transformers = ames_housing.load_transformers()\n",
    "transformers"
   ]
  },
  {
   "cell_type": "code",
   "execution_count": 41,
   "metadata": {
    "pycharm": {
     "name": "#%%\n"
    },
    "ExecuteTime": {
     "end_time": "2023-11-02T19:32:38.099737600Z",
     "start_time": "2023-11-02T19:32:37.972998200Z"
    }
   },
   "outputs": [
    {
     "data": {
      "text/plain": "Ridge()",
      "text/html": "<style>#sk-container-id-5 {color: black;}#sk-container-id-5 pre{padding: 0;}#sk-container-id-5 div.sk-toggleable {background-color: white;}#sk-container-id-5 label.sk-toggleable__label {cursor: pointer;display: block;width: 100%;margin-bottom: 0;padding: 0.3em;box-sizing: border-box;text-align: center;}#sk-container-id-5 label.sk-toggleable__label-arrow:before {content: \"▸\";float: left;margin-right: 0.25em;color: #696969;}#sk-container-id-5 label.sk-toggleable__label-arrow:hover:before {color: black;}#sk-container-id-5 div.sk-estimator:hover label.sk-toggleable__label-arrow:before {color: black;}#sk-container-id-5 div.sk-toggleable__content {max-height: 0;max-width: 0;overflow: hidden;text-align: left;background-color: #f0f8ff;}#sk-container-id-5 div.sk-toggleable__content pre {margin: 0.2em;color: black;border-radius: 0.25em;background-color: #f0f8ff;}#sk-container-id-5 input.sk-toggleable__control:checked~div.sk-toggleable__content {max-height: 200px;max-width: 100%;overflow: auto;}#sk-container-id-5 input.sk-toggleable__control:checked~label.sk-toggleable__label-arrow:before {content: \"▾\";}#sk-container-id-5 div.sk-estimator input.sk-toggleable__control:checked~label.sk-toggleable__label {background-color: #d4ebff;}#sk-container-id-5 div.sk-label input.sk-toggleable__control:checked~label.sk-toggleable__label {background-color: #d4ebff;}#sk-container-id-5 input.sk-hidden--visually {border: 0;clip: rect(1px 1px 1px 1px);clip: rect(1px, 1px, 1px, 1px);height: 1px;margin: -1px;overflow: hidden;padding: 0;position: absolute;width: 1px;}#sk-container-id-5 div.sk-estimator {font-family: monospace;background-color: #f0f8ff;border: 1px dotted black;border-radius: 0.25em;box-sizing: border-box;margin-bottom: 0.5em;}#sk-container-id-5 div.sk-estimator:hover {background-color: #d4ebff;}#sk-container-id-5 div.sk-parallel-item::after {content: \"\";width: 100%;border-bottom: 1px solid gray;flex-grow: 1;}#sk-container-id-5 div.sk-label:hover label.sk-toggleable__label {background-color: #d4ebff;}#sk-container-id-5 div.sk-serial::before {content: \"\";position: absolute;border-left: 1px solid gray;box-sizing: border-box;top: 0;bottom: 0;left: 50%;z-index: 0;}#sk-container-id-5 div.sk-serial {display: flex;flex-direction: column;align-items: center;background-color: white;padding-right: 0.2em;padding-left: 0.2em;position: relative;}#sk-container-id-5 div.sk-item {position: relative;z-index: 1;}#sk-container-id-5 div.sk-parallel {display: flex;align-items: stretch;justify-content: center;background-color: white;position: relative;}#sk-container-id-5 div.sk-item::before, #sk-container-id-5 div.sk-parallel-item::before {content: \"\";position: absolute;border-left: 1px solid gray;box-sizing: border-box;top: 0;bottom: 0;left: 50%;z-index: -1;}#sk-container-id-5 div.sk-parallel-item {display: flex;flex-direction: column;z-index: 1;position: relative;background-color: white;}#sk-container-id-5 div.sk-parallel-item:first-child::after {align-self: flex-end;width: 50%;}#sk-container-id-5 div.sk-parallel-item:last-child::after {align-self: flex-start;width: 50%;}#sk-container-id-5 div.sk-parallel-item:only-child::after {width: 0;}#sk-container-id-5 div.sk-dashed-wrapped {border: 1px dashed gray;margin: 0 0.4em 0.5em 0.4em;box-sizing: border-box;padding-bottom: 0.4em;background-color: white;}#sk-container-id-5 div.sk-label label {font-family: monospace;font-weight: bold;display: inline-block;line-height: 1.2em;}#sk-container-id-5 div.sk-label-container {text-align: center;}#sk-container-id-5 div.sk-container {/* jupyter's `normalize.less` sets `[hidden] { display: none; }` but bootstrap.min.css set `[hidden] { display: none !important; }` so we also need the `!important` here to be able to override the default hidden behavior on the sphinx rendered scikit-learn.org. See: https://github.com/scikit-learn/scikit-learn/issues/21755 */display: inline-block !important;position: relative;}#sk-container-id-5 div.sk-text-repr-fallback {display: none;}</style><div id=\"sk-container-id-5\" class=\"sk-top-container\"><div class=\"sk-text-repr-fallback\"><pre>Ridge()</pre><b>In a Jupyter environment, please rerun this cell to show the HTML representation or trust the notebook. <br />On GitHub, the HTML representation is unable to render, please try loading this page with nbviewer.org.</b></div><div class=\"sk-container\" hidden><div class=\"sk-item\"><div class=\"sk-estimator sk-toggleable\"><input class=\"sk-toggleable__control sk-hidden--visually\" id=\"sk-estimator-id-5\" type=\"checkbox\" checked><label for=\"sk-estimator-id-5\" class=\"sk-toggleable__label sk-toggleable__label-arrow\">Ridge</label><div class=\"sk-toggleable__content\"><pre>Ridge()</pre></div></div></div></div></div>"
     },
     "execution_count": 41,
     "metadata": {},
     "output_type": "execute_result"
    }
   ],
   "source": [
    "model = ames_housing.load_model()\n",
    "model"
   ]
  },
  {
   "cell_type": "markdown",
   "metadata": {},
   "source": [
    "Now, we can initialize a RealApp object."
   ]
  },
  {
   "cell_type": "code",
   "execution_count": 42,
   "metadata": {
    "ExecuteTime": {
     "end_time": "2023-11-02T19:32:38.241986700Z",
     "start_time": "2023-11-02T19:32:38.099737600Z"
    }
   },
   "outputs": [
    {
     "name": "stdout",
     "output_type": "stream",
     "text": [
      "(10000, 301)\n"
     ]
    }
   ],
   "source": [
    "from pyreal import RealApp\n",
    "\n",
    "realApp =  RealApp(model,\n",
    "                   x_orig,\n",
    "                   y_train=y,\n",
    "                   transformers=transformers,\n",
    "                   feature_descriptions=feature_descriptions,\n",
    "                   id_column=\"Id\"\n",
    "                )\n",
    "print(realApp.base_explainers[0].transform_to_x_model(x_orig).shape)"
   ]
  },
  {
   "cell_type": "markdown",
   "metadata": {},
   "source": [
    "We can make predictions using RealApp objects."
   ]
  },
  {
   "cell_type": "code",
   "execution_count": 43,
   "metadata": {
    "ExecuteTime": {
     "end_time": "2023-11-02T19:32:38.290344500Z",
     "start_time": "2023-11-02T19:32:38.242985900Z"
    }
   },
   "outputs": [
    {
     "data": {
      "text/plain": "{480: 127364.6696073084,\n 38: 160527.55950767384,\n 1080: 133175.3137263746,\n 1354: 380025.7063365868,\n 1271: 228178.34209249905,\n 589: 208338.94508260427,\n 219: 246090.0172280473,\n 233: 93866.13063581112,\n 1213: 78401.50482108358,\n 648: 151169.61432690755}"
     },
     "execution_count": 43,
     "metadata": {},
     "output_type": "execute_result"
    }
   ],
   "source": [
    "realApp.predict(x_orig.iloc[0:10])\n"
   ]
  },
  {
   "cell_type": "code",
   "execution_count": 44,
   "metadata": {
    "pycharm": {
     "name": "#%%\n"
    },
    "ExecuteTime": {
     "end_time": "2023-11-02T19:32:38.636121500Z",
     "start_time": "2023-11-02T19:32:38.290344500Z"
    }
   },
   "outputs": [
    {
     "data": {
      "text/plain": "{480:                                          Feature Name Feature Value  \\\n 0    Identifies the type of dwelling involved in t...            30   \n 1         Linear feet of street connected to property          50.0   \n 2                             Lot size in square feet          5925   \n 3    Rates the overall material and finish of the ...             4   \n 4            Rates the overall condition of the house             7   \n ..                                                ...           ...   \n 74                                       Pool quality           NaN   \n 75                                      Fence quality         MnPrv   \n 76   Miscellaneous feature not covered in other ca...           NaN   \n 77                                       Type of sale            WD   \n 78                                  Condition of sale        Alloca   \n \n     Contribution Average/Mode  \n 0    1874.474656         44.0  \n 1     -51.432144        58.25  \n 2   -2688.758927      12377.4  \n 3  -13599.700017          5.7  \n 4    8482.645232          6.2  \n ..           ...          ...  \n 74      0.000000          NaN  \n 75    352.777735        MnPrv  \n 76    -11.624076          NaN  \n 77  -1400.015195           WD  \n 78   -928.962643       Normal  \n \n [79 rows x 4 columns],\n 38:                                          Feature Name Feature Value  \\\n 0    Identifies the type of dwelling involved in t...            20   \n 1         Linear feet of street connected to property          74.0   \n 2                             Lot size in square feet          8532   \n 3    Rates the overall material and finish of the ...             5   \n 4            Rates the overall condition of the house             6   \n ..                                                ...           ...   \n 74                                       Pool quality           NaN   \n 75                                      Fence quality           NaN   \n 76   Miscellaneous feature not covered in other ca...           NaN   \n 77                                       Type of sale            WD   \n 78                                  Condition of sale        Normal   \n \n     Contribution Average/Mode  \n 0    2449.466882         44.0  \n 1     277.733576        58.25  \n 2    -772.359636      12377.4  \n 3   -6799.850009          5.7  \n 4    3246.444472          6.2  \n ..           ...          ...  \n 74      0.000000          NaN  \n 75    175.846995        MnPrv  \n 76    -11.624076          NaN  \n 77  -1400.015195           WD  \n 78    938.778484       Normal  \n \n [79 rows x 4 columns],\n 1080:                                          Feature Name Feature Value  \\\n 0    Identifies the type of dwelling involved in t...            20   \n 1         Linear feet of street connected to property          65.0   \n 2                             Lot size in square feet          8775   \n 3    Rates the overall material and finish of the ...             5   \n 4            Rates the overall condition of the house             5   \n ..                                                ...           ...   \n 74                                       Pool quality           NaN   \n 75                                      Fence quality           NaN   \n 76   Miscellaneous feature not covered in other ca...           NaN   \n 77                                       Type of sale            WD   \n 78                                  Condition of sale        Normal   \n \n     Contribution Average/Mode  \n 0    2449.466882         44.0  \n 1     154.296431        58.25  \n 2    -593.730933      12377.4  \n 3   -6799.850009          5.7  \n 4   -1989.756289          6.2  \n ..           ...          ...  \n 74      0.000000          NaN  \n 75    175.846995        MnPrv  \n 76    -11.624076          NaN  \n 77  -1400.015195           WD  \n 78    938.778484       Normal  \n \n [79 rows x 4 columns],\n 1354:                                          Feature Name Feature Value  \\\n 0    Identifies the type of dwelling involved in t...            50   \n 1         Linear feet of street connected to property          56.0   \n 2                             Lot size in square feet         14720   \n 3    Rates the overall material and finish of the ...             8   \n 4            Rates the overall condition of the house             5   \n ..                                                ...           ...   \n 74                                       Pool quality           NaN   \n 75                                      Fence quality           NaN   \n 76   Miscellaneous feature not covered in other ca...           NaN   \n 77                                       Type of sale            WD   \n 78                                  Condition of sale        Normal   \n \n     Contribution Average/Mode  \n 0     724.490205         44.0  \n 1      30.859286        58.25  \n 2    3776.423951      12377.4  \n 3   13599.700017          5.7  \n 4   -1989.756289          6.2  \n ..           ...          ...  \n 74      0.000000          NaN  \n 75    175.846995        MnPrv  \n 76    -11.624076          NaN  \n 77  -1400.015195           WD  \n 78    938.778484       Normal  \n \n [79 rows x 4 columns],\n 1271:                                          Feature Name Feature Value  \\\n 0    Identifies the type of dwelling involved in t...            40   \n 1         Linear feet of street connected to property           NaN   \n 2                             Lot size in square feet         23595   \n 3    Rates the overall material and finish of the ...             7   \n 4            Rates the overall condition of the house             6   \n ..                                                ...           ...   \n 74                                       Pool quality           NaN   \n 75                                      Fence quality           NaN   \n 76   Miscellaneous feature not covered in other ca...           NaN   \n 77                                       Type of sale            WD   \n 78                                  Condition of sale        Normal   \n \n     Contribution Average/Mode  \n 0    1299.482430         44.0  \n 1    -737.194059        58.25  \n 2   10300.414632      12377.4  \n 3    6799.850009          5.7  \n 4    3246.444472          6.2  \n ..           ...          ...  \n 74      0.000000          NaN  \n 75    175.846995        MnPrv  \n 76    -11.624076          NaN  \n 77  -1400.015195           WD  \n 78    938.778484       Normal  \n \n [79 rows x 4 columns],\n 589:                                          Feature Name Feature Value  \\\n 0    Identifies the type of dwelling involved in t...            20   \n 1         Linear feet of street connected to property          65.0   \n 2                             Lot size in square feet         25095   \n 3    Rates the overall material and finish of the ...             5   \n 4            Rates the overall condition of the house             8   \n ..                                                ...           ...   \n 74                                       Pool quality           NaN   \n 75                                      Fence quality           NaN   \n 76   Miscellaneous feature not covered in other ca...           NaN   \n 77                                       Type of sale            WD   \n 78                                  Condition of sale       Partial   \n \n     Contribution Average/Mode  \n 0    2449.466882         44.0  \n 1     154.296431        58.25  \n 2   11403.060944      12377.4  \n 3   -6799.850009          5.7  \n 4   13718.845992          6.2  \n ..           ...          ...  \n 74      0.000000          NaN  \n 75    175.846995        MnPrv  \n 76    -11.624076          NaN  \n 77  -1400.015195           WD  \n 78  -6212.354846       Normal  \n \n [79 rows x 4 columns],\n 219:                                          Feature Name Feature Value  \\\n 0    Identifies the type of dwelling involved in t...            50   \n 1         Linear feet of street connected to property           NaN   \n 2                             Lot size in square feet         15660   \n 3    Rates the overall material and finish of the ...             7   \n 4            Rates the overall condition of the house             9   \n ..                                                ...           ...   \n 74                                       Pool quality           NaN   \n 75                                      Fence quality           NaN   \n 76   Miscellaneous feature not covered in other ca...           NaN   \n 77                                       Type of sale            WD   \n 78                                  Condition of sale        Normal   \n \n     Contribution Average/Mode  \n 0     724.490205         44.0  \n 1    -737.194059        58.25  \n 2    4467.415640      12377.4  \n 3    6799.850009          5.7  \n 4   18955.046753          6.2  \n ..           ...          ...  \n 74      0.000000          NaN  \n 75    175.846995        MnPrv  \n 76    -11.624076          NaN  \n 77  -1400.015195           WD  \n 78    938.778484       Normal  \n \n [79 rows x 4 columns],\n 233:                                          Feature Name Feature Value  \\\n 0    Identifies the type of dwelling involved in t...           160   \n 1         Linear feet of street connected to property          21.0   \n 2                             Lot size in square feet          1680   \n 3    Rates the overall material and finish of the ...             6   \n 4            Rates the overall condition of the house             5   \n ..                                                ...           ...   \n 74                                       Pool quality           NaN   \n 75                                      Fence quality           NaN   \n 76   Miscellaneous feature not covered in other ca...           NaN   \n 77                                       Type of sale            WD   \n 78                                  Condition of sale        Normal   \n \n     Contribution Average/Mode  \n 0   -5600.424280         44.0  \n 1    -449.174054        58.25  \n 2   -5809.247990      12377.4  \n 3       0.000000          5.7  \n 4   -1989.756289          6.2  \n ..           ...          ...  \n 74      0.000000          NaN  \n 75    175.846995        MnPrv  \n 76    -11.624076          NaN  \n 77  -1400.015195           WD  \n 78    938.778484       Normal  \n \n [79 rows x 4 columns],\n 1213:                                          Feature Name Feature Value  \\\n 0    Identifies the type of dwelling involved in t...            30   \n 1         Linear feet of street connected to property          50.0   \n 2                             Lot size in square feet          9340   \n 3    Rates the overall material and finish of the ...             4   \n 4            Rates the overall condition of the house             6   \n ..                                                ...           ...   \n 74                                       Pool quality           NaN   \n 75                                      Fence quality           NaN   \n 76   Miscellaneous feature not covered in other ca...           NaN   \n 77                                       Type of sale            WD   \n 78                                  Condition of sale        Normal   \n \n     Contribution Average/Mode  \n 0    1874.474656         44.0  \n 1     -51.432144        58.25  \n 2    -178.400822      12377.4  \n 3  -13599.700017          5.7  \n 4    3246.444472          6.2  \n ..           ...          ...  \n 74      0.000000          NaN  \n 75    175.846995        MnPrv  \n 76    -11.624076          NaN  \n 77  -1400.015195           WD  \n 78    938.778484       Normal  \n \n [79 rows x 4 columns],\n 648:                                          Feature Name Feature Value  \\\n 0    Identifies the type of dwelling involved in t...            20   \n 1         Linear feet of street connected to property          85.0   \n 2                             Lot size in square feet         10452   \n 3    Rates the overall material and finish of the ...             6   \n 4            Rates the overall condition of the house             5   \n ..                                                ...           ...   \n 74                                       Pool quality           NaN   \n 75                                      Fence quality           NaN   \n 76   Miscellaneous feature not covered in other ca...           NaN   \n 77                                       Type of sale            WD   \n 78                                  Condition of sale        Normal   \n \n     Contribution Average/Mode  \n 0    2449.466882         44.0  \n 1     428.601197        58.25  \n 2     639.027644      12377.4  \n 3       0.000000          5.7  \n 4   -1989.756289          6.2  \n ..           ...          ...  \n 74      0.000000          NaN  \n 75    175.846995        MnPrv  \n 76    -11.624076          NaN  \n 77  -1400.015195           WD  \n 78    938.778484       Normal  \n \n [79 rows x 4 columns]}"
     },
     "execution_count": 44,
     "metadata": {},
     "output_type": "execute_result"
    }
   ],
   "source": [
    "realApp.produce_feature_contributions(x_orig.iloc[0:10])\n"
   ]
  },
  {
   "cell_type": "code",
   "execution_count": 45,
   "metadata": {
    "pycharm": {
     "name": "#%%\n"
    },
    "ExecuteTime": {
     "end_time": "2023-11-02T19:32:39.271120300Z",
     "start_time": "2023-11-02T19:32:38.637121200Z"
    }
   },
   "outputs": [
    {
     "data": {
      "text/plain": "0.6159999370574951"
     },
     "execution_count": 45,
     "metadata": {},
     "output_type": "execute_result"
    }
   ],
   "source": [
    "import time\n",
    "start = time.time()\n",
    "realApp.produce_similar_examples(x_orig.iloc[0:10])\n",
    "time.time() - start"
   ]
  },
  {
   "cell_type": "code",
   "execution_count": 45,
   "outputs": [],
   "source": [],
   "metadata": {
    "collapsed": false,
    "ExecuteTime": {
     "end_time": "2023-11-02T19:32:39.331119900Z",
     "start_time": "2023-11-02T19:32:39.272120600Z"
    }
   }
  }
 ],
 "metadata": {
  "kernelspec": {
   "display_name": "Python 3 (ipykernel)",
   "language": "python",
   "name": "python3"
  },
  "language_info": {
   "codemirror_mode": {
    "name": "ipython",
    "version": 3
   },
   "file_extension": ".py",
   "mimetype": "text/x-python",
   "name": "python",
   "nbconvert_exporter": "python",
   "pygments_lexer": "ipython3",
   "version": "3.8.6"
  }
 },
 "nbformat": 4,
 "nbformat_minor": 2
}
