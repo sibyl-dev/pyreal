{
 "cells": [
  {
   "cell_type": "markdown",
   "metadata": {},
   "source": [
    "Data Source:\n",
    "\n",
    "De Cock, D. (2011). Ames, Iowa: Alternative to the Boston Housing Data as an End of Semester Regression Project. Journal of Statistics Education, 19(3). https://doi.org/10.1080/10691898.2011.11889627"
   ]
  },
  {
   "cell_type": "code",
   "execution_count": 22,
   "metadata": {
    "ExecuteTime": {
     "end_time": "2023-11-06T16:47:14.128315Z",
     "start_time": "2023-11-06T16:47:14.118797200Z"
    }
   },
   "outputs": [],
   "source": [
    "from pyreal.sample_applications import ames_housing"
   ]
  },
  {
   "cell_type": "markdown",
   "metadata": {},
   "source": [
    "In this tutorial, we use Pyreal to get feature contribution explanations for the AmesHousing dataset\n",
    "\n",
    "First, we load in the data. Pyreal expects all data as DataFrames, where columns have the feature names."
   ]
  },
  {
   "cell_type": "code",
   "execution_count": 23,
   "metadata": {
    "ExecuteTime": {
     "end_time": "2023-11-06T16:47:14.145275700Z",
     "start_time": "2023-11-06T16:47:14.120804800Z"
    }
   },
   "outputs": [],
   "source": [
    "x_orig, y = ames_housing.load_data(include_targets=True)"
   ]
  },
  {
   "cell_type": "markdown",
   "metadata": {},
   "source": [
    "Next, we load in the interpretable feature descriptions."
   ]
  },
  {
   "cell_type": "code",
   "execution_count": 24,
   "metadata": {
    "ExecuteTime": {
     "end_time": "2023-11-06T16:47:14.173695Z",
     "start_time": "2023-11-06T16:47:14.141769200Z"
    }
   },
   "outputs": [
    {
     "data": {
      "text/plain": "{'MSSubClass': ' Identifies the type of dwelling involved in the sale.',\n 'MSZoning': ' Identifies the general zoning classification of the sale.',\n 'LotFrontage': ' Linear feet of street connected to property',\n 'LotArea': ' Lot size in square feet',\n 'Street': ' Type of road access to property',\n 'Alley': ' Type of alley access to property',\n 'LotShape': ' General shape of property',\n 'LandContour': ' Flatness of the property',\n 'Utilities': ' Type of utilities available',\n 'LotConfig': ' Lot configuration',\n 'LandSlope': ' Slope of property',\n 'Neighborhood': ' Physical locations within Ames city limits',\n 'Condition1': ' Proximity to various conditions',\n 'Condition2': ' Proximity to various conditions (if more than one is present)',\n 'BldgType': ' Type of dwelling',\n 'HouseStyle': ' Style of dwelling',\n 'OverallQual': ' Rates the overall material and finish of the house',\n 'OverallCond': ' Rates the overall condition of the house',\n 'YearBuilt': ' Original construction date',\n 'YearRemodAdd': ' Remodel date (same as construction date if no remodeling or additions)',\n 'RoofStyle': ' Type of roof',\n 'RoofMatl': ' Roof material',\n 'Exterior1st': ' Exterior covering on house',\n 'Exterior2nd': ' Exterior covering on house (if more than one material)',\n 'MasVnrType': ' Masonry veneer type',\n 'MasVnrArea': ' Masonry veneer area in square feet',\n 'ExterQual': ' Evaluates the quality of the material on the exterior',\n 'ExterCond': ' Evaluates the present condition of the material on the exterior',\n 'Foundation': ' Type of foundation',\n 'BsmtQual': ' Evaluates the height of the basement',\n 'BsmtCond': ' Evaluates the general condition of the basement',\n 'BsmtExposure': ' Refers to walkout or garden level walls',\n 'BsmtFinType1': ' Rating of basement finished area',\n 'BsmtFinSF1': ' Type 1 finished square feet',\n 'BsmtFinType2': ' Rating of basement finished area (if multiple types)',\n 'BsmtFinSF2': ' Type 2 finished square feet',\n 'BsmtUnfSF': ' Unfinished square feet of basement area',\n 'TotalBsmtSF': ' Total square feet of basement area',\n 'Heating': ' Type of heating',\n 'HeatingQC': ' Heating quality and condition',\n 'CentralAir': ' Central air conditioning',\n 'Electrical': ' Electrical system',\n '1stFlrSF': ' First Floor square feet',\n '2ndFlrSF': ' Second floor square feet',\n 'LowQualFinSF': ' Low quality finished square feet (all floors)',\n 'GrLivArea': ' Above grade (ground) living area square feet',\n 'BsmtFullBath': ' Basement full bathrooms',\n 'BsmtHalfBath': ' Basement half bathrooms',\n 'FullBath': ' Full bathrooms above grade',\n 'HalfBath': ' Half baths above grade',\n 'BedroomAbvGr': ' Bedrooms above grade (does NOT include basement bedrooms)',\n 'KitchenAbvGr': ' Kitchens above grade',\n 'KitchenQual': ' Kitchen quality',\n 'TotRmsAbvGrd': ' Total rooms above grade (does not include bathrooms)',\n 'Functional': ' Home functionality (Assume typical unless deductions are warranted)',\n 'Fireplaces': ' Number of fireplaces',\n 'FireplaceQu': ' Fireplace quality',\n 'GarageType': ' Garage location',\n 'GarageYrBlt': ' Year garage was built',\n 'GarageFinish': ' Interior finish of the garage',\n 'GarageCars': ' Size of garage in car capacity',\n 'GarageArea': ' Size of garage in square feet',\n 'GarageQual': ' Garage quality',\n 'GarageCond': ' Garage condition',\n 'PavedDrive': ' Paved driveway',\n 'WoodDeckSF': ' Wood deck area in square feet',\n 'OpenPorchSF': ' Open porch area in square feet',\n 'EnclosedPorch': ' Enclosed porch area in square feet',\n '3SsnPorch': ' Three season porch area in square feet',\n 'ScreenPorch': ' Screen porch area in square feet',\n 'PoolArea': ' Pool area in square feet',\n 'PoolQC': ' Pool quality',\n 'Fence': ' Fence quality',\n 'MiscFeature': ' Miscellaneous feature not covered in other categories',\n 'MiscVal': ' $Value of miscellaneous feature',\n 'MoSold': ' Month Sold (MM)',\n 'YrSold': ' Year Sold (YYYY)',\n 'SaleType': ' Type of sale',\n 'SaleCondition': ' Condition of sale'}"
     },
     "execution_count": 24,
     "metadata": {},
     "output_type": "execute_result"
    }
   ],
   "source": [
    "feature_descriptions = ames_housing.load_feature_descriptions()\n",
    "feature_descriptions"
   ]
  },
  {
   "cell_type": "markdown",
   "metadata": {},
   "source": [
    "Next, we load the transfomers.\n",
    "\n",
    "The first kind of transformer manually imputes the data based on information we know about the dataset.\n",
    "We will call this the `AmesHousingImputer`\n",
    "\n",
    "This imputation code comes from https://www.kaggle.com/juliencs/a-study-on-regression-applied-to-the-ames-dataset"
   ]
  },
  {
   "cell_type": "code",
   "execution_count": 25,
   "metadata": {
    "ExecuteTime": {
     "end_time": "2023-11-06T16:47:14.225197700Z",
     "start_time": "2023-11-06T16:47:14.149375500Z"
    }
   },
   "outputs": [
    {
     "data": {
      "text/plain": "[<pyreal.sample_applications.ames_housing.AmesHousingImputer at 0x1f74d53e810>,\n <pyreal.transformers.one_hot_encode.OneHotEncoder at 0x1f74e26a090>]"
     },
     "execution_count": 25,
     "metadata": {},
     "output_type": "execute_result"
    }
   ],
   "source": [
    "transformers = ames_housing.load_transformers()\n",
    "transformers"
   ]
  },
  {
   "cell_type": "code",
   "execution_count": 26,
   "metadata": {
    "pycharm": {
     "name": "#%%\n"
    },
    "ExecuteTime": {
     "end_time": "2023-11-06T16:47:14.321022300Z",
     "start_time": "2023-11-06T16:47:14.206685800Z"
    }
   },
   "outputs": [
    {
     "data": {
      "text/plain": "Ridge()",
      "text/html": "<style>#sk-container-id-3 {color: black;}#sk-container-id-3 pre{padding: 0;}#sk-container-id-3 div.sk-toggleable {background-color: white;}#sk-container-id-3 label.sk-toggleable__label {cursor: pointer;display: block;width: 100%;margin-bottom: 0;padding: 0.3em;box-sizing: border-box;text-align: center;}#sk-container-id-3 label.sk-toggleable__label-arrow:before {content: \"▸\";float: left;margin-right: 0.25em;color: #696969;}#sk-container-id-3 label.sk-toggleable__label-arrow:hover:before {color: black;}#sk-container-id-3 div.sk-estimator:hover label.sk-toggleable__label-arrow:before {color: black;}#sk-container-id-3 div.sk-toggleable__content {max-height: 0;max-width: 0;overflow: hidden;text-align: left;background-color: #f0f8ff;}#sk-container-id-3 div.sk-toggleable__content pre {margin: 0.2em;color: black;border-radius: 0.25em;background-color: #f0f8ff;}#sk-container-id-3 input.sk-toggleable__control:checked~div.sk-toggleable__content {max-height: 200px;max-width: 100%;overflow: auto;}#sk-container-id-3 input.sk-toggleable__control:checked~label.sk-toggleable__label-arrow:before {content: \"▾\";}#sk-container-id-3 div.sk-estimator input.sk-toggleable__control:checked~label.sk-toggleable__label {background-color: #d4ebff;}#sk-container-id-3 div.sk-label input.sk-toggleable__control:checked~label.sk-toggleable__label {background-color: #d4ebff;}#sk-container-id-3 input.sk-hidden--visually {border: 0;clip: rect(1px 1px 1px 1px);clip: rect(1px, 1px, 1px, 1px);height: 1px;margin: -1px;overflow: hidden;padding: 0;position: absolute;width: 1px;}#sk-container-id-3 div.sk-estimator {font-family: monospace;background-color: #f0f8ff;border: 1px dotted black;border-radius: 0.25em;box-sizing: border-box;margin-bottom: 0.5em;}#sk-container-id-3 div.sk-estimator:hover {background-color: #d4ebff;}#sk-container-id-3 div.sk-parallel-item::after {content: \"\";width: 100%;border-bottom: 1px solid gray;flex-grow: 1;}#sk-container-id-3 div.sk-label:hover label.sk-toggleable__label {background-color: #d4ebff;}#sk-container-id-3 div.sk-serial::before {content: \"\";position: absolute;border-left: 1px solid gray;box-sizing: border-box;top: 0;bottom: 0;left: 50%;z-index: 0;}#sk-container-id-3 div.sk-serial {display: flex;flex-direction: column;align-items: center;background-color: white;padding-right: 0.2em;padding-left: 0.2em;position: relative;}#sk-container-id-3 div.sk-item {position: relative;z-index: 1;}#sk-container-id-3 div.sk-parallel {display: flex;align-items: stretch;justify-content: center;background-color: white;position: relative;}#sk-container-id-3 div.sk-item::before, #sk-container-id-3 div.sk-parallel-item::before {content: \"\";position: absolute;border-left: 1px solid gray;box-sizing: border-box;top: 0;bottom: 0;left: 50%;z-index: -1;}#sk-container-id-3 div.sk-parallel-item {display: flex;flex-direction: column;z-index: 1;position: relative;background-color: white;}#sk-container-id-3 div.sk-parallel-item:first-child::after {align-self: flex-end;width: 50%;}#sk-container-id-3 div.sk-parallel-item:last-child::after {align-self: flex-start;width: 50%;}#sk-container-id-3 div.sk-parallel-item:only-child::after {width: 0;}#sk-container-id-3 div.sk-dashed-wrapped {border: 1px dashed gray;margin: 0 0.4em 0.5em 0.4em;box-sizing: border-box;padding-bottom: 0.4em;background-color: white;}#sk-container-id-3 div.sk-label label {font-family: monospace;font-weight: bold;display: inline-block;line-height: 1.2em;}#sk-container-id-3 div.sk-label-container {text-align: center;}#sk-container-id-3 div.sk-container {/* jupyter's `normalize.less` sets `[hidden] { display: none; }` but bootstrap.min.css set `[hidden] { display: none !important; }` so we also need the `!important` here to be able to override the default hidden behavior on the sphinx rendered scikit-learn.org. See: https://github.com/scikit-learn/scikit-learn/issues/21755 */display: inline-block !important;position: relative;}#sk-container-id-3 div.sk-text-repr-fallback {display: none;}</style><div id=\"sk-container-id-3\" class=\"sk-top-container\"><div class=\"sk-text-repr-fallback\"><pre>Ridge()</pre><b>In a Jupyter environment, please rerun this cell to show the HTML representation or trust the notebook. <br />On GitHub, the HTML representation is unable to render, please try loading this page with nbviewer.org.</b></div><div class=\"sk-container\" hidden><div class=\"sk-item\"><div class=\"sk-estimator sk-toggleable\"><input class=\"sk-toggleable__control sk-hidden--visually\" id=\"sk-estimator-id-3\" type=\"checkbox\" checked><label for=\"sk-estimator-id-3\" class=\"sk-toggleable__label sk-toggleable__label-arrow\">Ridge</label><div class=\"sk-toggleable__content\"><pre>Ridge()</pre></div></div></div></div></div>"
     },
     "execution_count": 26,
     "metadata": {},
     "output_type": "execute_result"
    }
   ],
   "source": [
    "model = ames_housing.load_model()\n",
    "model"
   ]
  },
  {
   "cell_type": "markdown",
   "metadata": {},
   "source": [
    "Now, we can initialize a RealApp object."
   ]
  },
  {
   "cell_type": "code",
   "execution_count": 27,
   "metadata": {
    "ExecuteTime": {
     "end_time": "2023-11-06T16:47:14.321022300Z",
     "start_time": "2023-11-06T16:47:14.319510300Z"
    }
   },
   "outputs": [],
   "source": [
    "from pyreal import RealApp\n",
    "\n",
    "realApp =  RealApp(model,\n",
    "                   transformers=transformers,\n",
    "                   feature_descriptions=feature_descriptions,\n",
    "                   id_column=\"Id\"\n",
    "                )"
   ]
  },
  {
   "cell_type": "markdown",
   "metadata": {},
   "source": [
    "We can make predictions using RealApp objects."
   ]
  },
  {
   "cell_type": "code",
   "execution_count": 28,
   "metadata": {
    "ExecuteTime": {
     "end_time": "2023-11-06T16:47:14.358478400Z",
     "start_time": "2023-11-06T16:47:14.322022500Z"
    }
   },
   "outputs": [
    {
     "data": {
      "text/plain": "{0: 157585.24996940728,\n 1: 208451.08625945327,\n 2: 200785.20760564407,\n 3: 208661.74740795366,\n 4: 166794.24940345713,\n 5: 285660.2014755842,\n 6: 156554.26930558987,\n 7: 279133.15592026524,\n 8: 225810.4710434134,\n 9: 138028.17155712598}"
     },
     "execution_count": 28,
     "metadata": {},
     "output_type": "execute_result"
    }
   ],
   "source": [
    "realApp.predict(x_orig.iloc[0:10])\n"
   ]
  },
  {
   "cell_type": "code",
   "execution_count": 29,
   "metadata": {
    "pycharm": {
     "name": "#%%\n"
    },
    "ExecuteTime": {
     "end_time": "2023-11-06T16:47:20.165300700Z",
     "start_time": "2023-11-06T16:47:14.361477900Z"
    }
   },
   "outputs": [
    {
     "name": "stdout",
     "output_type": "stream",
     "text": [
      "4.7435736656188965\n",
      "1.0097253322601318\n"
     ]
    }
   ],
   "source": [
    "from pyreal.explainers import SimilarExamples\n",
    "#realApp.produce_similar_examples(x_orig.iloc[0:10], x_train_orig=x_orig.sample(100000, replace=True), y_train=y.sample(100000, replace=True))\n",
    "\n",
    "big_x = x_orig.sample(100000, replace=True)\n",
    "big_y = y[big_x.index]\n",
    "\n",
    "import time\n",
    "start = time.time()\n",
    "explainer = SimilarExamples(model, x_train_orig=big_x, y_train=big_y, fast=False, transformers=transformers).fit()\n",
    "explainer.produce(x_orig.iloc[0:10], n=5)\n",
    "print(time.time() - start)\n",
    "\n",
    "start = time.time()\n",
    "explainer = SimilarExamples(model, x_train_orig=big_x, y_train=big_y, fast=True, transformers=transformers).fit()\n",
    "explainer.produce(x_orig.iloc[0:10], n=5)\n",
    "print(time.time() - start)"
   ]
  },
  {
   "cell_type": "code",
   "execution_count": 29,
   "outputs": [],
   "source": [],
   "metadata": {
    "collapsed": false,
    "ExecuteTime": {
     "end_time": "2023-11-06T16:47:20.169411300Z",
     "start_time": "2023-11-06T16:47:20.166904400Z"
    }
   }
  }
 ],
 "metadata": {
  "kernelspec": {
   "display_name": "Python 3 (ipykernel)",
   "language": "python",
   "name": "python3"
  },
  "language_info": {
   "codemirror_mode": {
    "name": "ipython",
    "version": 3
   },
   "file_extension": ".py",
   "mimetype": "text/x-python",
   "name": "python",
   "nbconvert_exporter": "python",
   "pygments_lexer": "ipython3",
   "version": "3.8.6"
  }
 },
 "nbformat": 4,
 "nbformat_minor": 2
}
