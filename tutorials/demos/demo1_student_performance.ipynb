{
 "cells": [
  {
   "cell_type": "markdown",
   "metadata": {},
   "source": [
    "# Using Pyreal - Student Performance\n",
    "---\n",
    "In this demonstration, we will be working with the Student Performance Dataset[^1], which predicts the likelihood of students failing a class. We will be taking on the role of a **Pyreal User**, who is just looking to understand their model without a deep understanding of machine learning.\n",
    "\n",
    "## Scenario Details\n",
    "### Goals for this scenario\n",
    "1. Learn how to use Pyreal to better understand your model and data\n",
    "2. Learn how to generate and visualize interpretable explanations using Pyreal\n",
    "3. Understand the contributions of the Pyreal library\n",
    "\n",
    "### User Details\n",
    "In this scenario, we will take on the following role:\n",
    "- **User Role:** School district administrator\n",
    "- **Expertise:**\n",
    "    - **Domain (Education):** Expert\n",
    "    - **Machine Learning:** Minimal\n",
    "    - **Explainable ML techniques:** Minimal\n",
    "- **User Goals:**\n",
    "    1. Identify the risk factors associated with failing the class\n",
    "    2. Identify students at risk of failure, and understand where this risk prediction comes from\n",
    "    3. Identify which factors are associated with higher levels of success\n",
    "\n",
    "### Model and Data Details\n",
    "- 30 Features\n",
    "- Predicts if student is expected to pass class (1 for pass, 0 for fail)\n",
    "\n",
    "[^1]: P. Cortez and A. Silva. Using Data Mining to Predict Secondary School Student Performance. In A. Brito and J. Teixeira Eds., Proceedings of 5th FUture BUsiness TEChnology Conference (FUBUTEC 2008) pp. 5-12, Porto, Portugal, April, 2008, EUROSIS, ISBN 978-9077381-39-7.\n"
   ]
  },
  {
   "cell_type": "markdown",
   "metadata": {
    "collapsed": false
   },
   "source": [
    "## Data Preparation\n",
    "\n",
    "We will begin by loading in a premade `RealApp` object for this scenario. This object was created by a `Pyeral Developer`, or another user with some understanding of machine learning. This may be the same person who originally trained our ML model.\n",
    "\n",
    "We will also load in information about 10 students that we want to learn more about (students), and the training dataset (data), which we will use to better understand the model's historic prediction trends."
   ]
  },
  {
   "cell_type": "code",
   "execution_count": 1,
   "outputs": [],
   "source": [
    "n_rows = 500"
   ],
   "metadata": {
    "collapsed": false,
    "nbmake": {
     "mock": {
      "n_rows": 10
     }
    },
    "ExecuteTime": {
     "end_time": "2023-08-14T17:56:56.274480700Z",
     "start_time": "2023-08-14T17:56:56.191514800Z"
    }
   }
  },
  {
   "cell_type": "code",
   "execution_count": 2,
   "metadata": {
    "ExecuteTime": {
     "end_time": "2023-08-14T17:56:59.772135100Z",
     "start_time": "2023-08-14T17:56:56.199036200Z"
    }
   },
   "outputs": [
    {
     "name": "stderr",
     "output_type": "stream",
     "text": [
      "Using `tqdm.autonotebook.tqdm` in notebook mode. Use `tqdm.tqdm` instead to force console mode (e.g. in jupyter console)\n"
     ]
    },
    {
     "data": {
      "text/plain": "                name school sex  age address famsize Pstatus  Medu  Fedu  \\\n0   Jessica Gonzalez     GP   F   15       U     LE3       T     1     1   \n1     Lucia Thompson     GP   F   15       U     GT3       T     4     2   \n2     Lincoln Bennet     GP   M   16       U     GT3       T     3     3   \n3       Lily Perkins     MS   F   18       R     GT3       T     4     4   \n4      Trevor Butler     GP   M   17       R     GT3       T     3     2   \n5      Rebeca Guzman     MS   F   17       R     GT3       T     1     1   \n6     Arianna Larson     MS   F   16       U     GT3       T     3     1   \n7       Alberto Luna     MS   M   16       U     GT3       T     3     2   \n8        Laura Tyler     MS   F   17       U     GT3       T     4     2   \n9       Adelyn Baker     MS   F   17       U     GT3       T     4     2   \n10         Andre Kim     MS   M   18       U     GT3       T     4     4   \n\n        Mjob  ... higher internet romantic  famrel  freetime  goout Dalc Walc  \\\n0    at_home  ...    yes      yes       no       4         3      2    2    3   \n1     health  ...    yes      yes      yes       3         2      2    1    1   \n2      other  ...    yes       no       no       4         3      2    1    2   \n3      other  ...    yes      yes      yes       3         2      2    4    2   \n4      other  ...    yes      yes      yes       4         4      4    1    4   \n5      other  ...     no      yes       no       5         4      4    2    2   \n6      other  ...    yes      yes       no       3         1      3    1    3   \n7   services  ...    yes      yes       no       3         1      3    1    4   \n8      other  ...    yes      yes       no       4         3      3    1    2   \n9    teacher  ...    yes      yes      yes       4         2      3    3    1   \n10   teacher  ...    yes      yes       no       3         2      4    1    4   \n\n   health absences  \n0       3        6  \n1       5        0  \n2       5        0  \n3       5        0  \n4       3        4  \n5       5        0  \n6       1        0  \n7       3        2  \n8       4        0  \n9       5        0  \n10      2        4  \n\n[11 rows x 31 columns]",
      "text/html": "<div>\n<style scoped>\n    .dataframe tbody tr th:only-of-type {\n        vertical-align: middle;\n    }\n\n    .dataframe tbody tr th {\n        vertical-align: top;\n    }\n\n    .dataframe thead th {\n        text-align: right;\n    }\n</style>\n<table border=\"1\" class=\"dataframe\">\n  <thead>\n    <tr style=\"text-align: right;\">\n      <th></th>\n      <th>name</th>\n      <th>school</th>\n      <th>sex</th>\n      <th>age</th>\n      <th>address</th>\n      <th>famsize</th>\n      <th>Pstatus</th>\n      <th>Medu</th>\n      <th>Fedu</th>\n      <th>Mjob</th>\n      <th>...</th>\n      <th>higher</th>\n      <th>internet</th>\n      <th>romantic</th>\n      <th>famrel</th>\n      <th>freetime</th>\n      <th>goout</th>\n      <th>Dalc</th>\n      <th>Walc</th>\n      <th>health</th>\n      <th>absences</th>\n    </tr>\n  </thead>\n  <tbody>\n    <tr>\n      <th>0</th>\n      <td>Jessica Gonzalez</td>\n      <td>GP</td>\n      <td>F</td>\n      <td>15</td>\n      <td>U</td>\n      <td>LE3</td>\n      <td>T</td>\n      <td>1</td>\n      <td>1</td>\n      <td>at_home</td>\n      <td>...</td>\n      <td>yes</td>\n      <td>yes</td>\n      <td>no</td>\n      <td>4</td>\n      <td>3</td>\n      <td>2</td>\n      <td>2</td>\n      <td>3</td>\n      <td>3</td>\n      <td>6</td>\n    </tr>\n    <tr>\n      <th>1</th>\n      <td>Lucia Thompson</td>\n      <td>GP</td>\n      <td>F</td>\n      <td>15</td>\n      <td>U</td>\n      <td>GT3</td>\n      <td>T</td>\n      <td>4</td>\n      <td>2</td>\n      <td>health</td>\n      <td>...</td>\n      <td>yes</td>\n      <td>yes</td>\n      <td>yes</td>\n      <td>3</td>\n      <td>2</td>\n      <td>2</td>\n      <td>1</td>\n      <td>1</td>\n      <td>5</td>\n      <td>0</td>\n    </tr>\n    <tr>\n      <th>2</th>\n      <td>Lincoln Bennet</td>\n      <td>GP</td>\n      <td>M</td>\n      <td>16</td>\n      <td>U</td>\n      <td>GT3</td>\n      <td>T</td>\n      <td>3</td>\n      <td>3</td>\n      <td>other</td>\n      <td>...</td>\n      <td>yes</td>\n      <td>no</td>\n      <td>no</td>\n      <td>4</td>\n      <td>3</td>\n      <td>2</td>\n      <td>1</td>\n      <td>2</td>\n      <td>5</td>\n      <td>0</td>\n    </tr>\n    <tr>\n      <th>3</th>\n      <td>Lily Perkins</td>\n      <td>MS</td>\n      <td>F</td>\n      <td>18</td>\n      <td>R</td>\n      <td>GT3</td>\n      <td>T</td>\n      <td>4</td>\n      <td>4</td>\n      <td>other</td>\n      <td>...</td>\n      <td>yes</td>\n      <td>yes</td>\n      <td>yes</td>\n      <td>3</td>\n      <td>2</td>\n      <td>2</td>\n      <td>4</td>\n      <td>2</td>\n      <td>5</td>\n      <td>0</td>\n    </tr>\n    <tr>\n      <th>4</th>\n      <td>Trevor Butler</td>\n      <td>GP</td>\n      <td>M</td>\n      <td>17</td>\n      <td>R</td>\n      <td>GT3</td>\n      <td>T</td>\n      <td>3</td>\n      <td>2</td>\n      <td>other</td>\n      <td>...</td>\n      <td>yes</td>\n      <td>yes</td>\n      <td>yes</td>\n      <td>4</td>\n      <td>4</td>\n      <td>4</td>\n      <td>1</td>\n      <td>4</td>\n      <td>3</td>\n      <td>4</td>\n    </tr>\n    <tr>\n      <th>5</th>\n      <td>Rebeca Guzman</td>\n      <td>MS</td>\n      <td>F</td>\n      <td>17</td>\n      <td>R</td>\n      <td>GT3</td>\n      <td>T</td>\n      <td>1</td>\n      <td>1</td>\n      <td>other</td>\n      <td>...</td>\n      <td>no</td>\n      <td>yes</td>\n      <td>no</td>\n      <td>5</td>\n      <td>4</td>\n      <td>4</td>\n      <td>2</td>\n      <td>2</td>\n      <td>5</td>\n      <td>0</td>\n    </tr>\n    <tr>\n      <th>6</th>\n      <td>Arianna Larson</td>\n      <td>MS</td>\n      <td>F</td>\n      <td>16</td>\n      <td>U</td>\n      <td>GT3</td>\n      <td>T</td>\n      <td>3</td>\n      <td>1</td>\n      <td>other</td>\n      <td>...</td>\n      <td>yes</td>\n      <td>yes</td>\n      <td>no</td>\n      <td>3</td>\n      <td>1</td>\n      <td>3</td>\n      <td>1</td>\n      <td>3</td>\n      <td>1</td>\n      <td>0</td>\n    </tr>\n    <tr>\n      <th>7</th>\n      <td>Alberto Luna</td>\n      <td>MS</td>\n      <td>M</td>\n      <td>16</td>\n      <td>U</td>\n      <td>GT3</td>\n      <td>T</td>\n      <td>3</td>\n      <td>2</td>\n      <td>services</td>\n      <td>...</td>\n      <td>yes</td>\n      <td>yes</td>\n      <td>no</td>\n      <td>3</td>\n      <td>1</td>\n      <td>3</td>\n      <td>1</td>\n      <td>4</td>\n      <td>3</td>\n      <td>2</td>\n    </tr>\n    <tr>\n      <th>8</th>\n      <td>Laura Tyler</td>\n      <td>MS</td>\n      <td>F</td>\n      <td>17</td>\n      <td>U</td>\n      <td>GT3</td>\n      <td>T</td>\n      <td>4</td>\n      <td>2</td>\n      <td>other</td>\n      <td>...</td>\n      <td>yes</td>\n      <td>yes</td>\n      <td>no</td>\n      <td>4</td>\n      <td>3</td>\n      <td>3</td>\n      <td>1</td>\n      <td>2</td>\n      <td>4</td>\n      <td>0</td>\n    </tr>\n    <tr>\n      <th>9</th>\n      <td>Adelyn Baker</td>\n      <td>MS</td>\n      <td>F</td>\n      <td>17</td>\n      <td>U</td>\n      <td>GT3</td>\n      <td>T</td>\n      <td>4</td>\n      <td>2</td>\n      <td>teacher</td>\n      <td>...</td>\n      <td>yes</td>\n      <td>yes</td>\n      <td>yes</td>\n      <td>4</td>\n      <td>2</td>\n      <td>3</td>\n      <td>3</td>\n      <td>1</td>\n      <td>5</td>\n      <td>0</td>\n    </tr>\n    <tr>\n      <th>10</th>\n      <td>Andre Kim</td>\n      <td>MS</td>\n      <td>M</td>\n      <td>18</td>\n      <td>U</td>\n      <td>GT3</td>\n      <td>T</td>\n      <td>4</td>\n      <td>4</td>\n      <td>teacher</td>\n      <td>...</td>\n      <td>yes</td>\n      <td>yes</td>\n      <td>no</td>\n      <td>3</td>\n      <td>2</td>\n      <td>4</td>\n      <td>1</td>\n      <td>4</td>\n      <td>2</td>\n      <td>4</td>\n    </tr>\n  </tbody>\n</table>\n<p>11 rows × 31 columns</p>\n</div>"
     },
     "execution_count": 2,
     "metadata": {},
     "output_type": "execute_result"
    }
   ],
   "source": [
    "from pyreal.sample_applications import student_performance\n",
    "from pyreal import visualize\n",
    "\n",
    "real_app = student_performance.load_app(n_rows)\n",
    "students = student_performance.load_students()\n",
    "data, y = student_performance.load_data(n_rows)\n",
    "\n",
    "students"
   ]
  },
  {
   "cell_type": "markdown",
   "metadata": {
    "collapsed": false
   },
   "source": [
    "## Goal 1: Understanding risk factors\n",
    "\n",
    "Let's start by getting a general sense of what information the model thinks is most important for whether a student will pass or fail the class. We will start by generating a global explanation, that shows which features are overall most important.\n",
    "\n",
    "Generating explanations using Pyreal is extremely easy, and they come out easily readable with no further effort. We just need to call the desired `produce()` function.\n",
    "\n",
    "In this case, we will try `realApp.produce_feature_importance()`:"
   ]
  },
  {
   "cell_type": "code",
   "execution_count": 3,
   "metadata": {
    "collapsed": false,
    "pycharm": {
     "name": "#%%\n"
    },
    "ExecuteTime": {
     "end_time": "2023-08-14T17:57:06.476011700Z",
     "start_time": "2023-08-14T17:56:59.760590200Z"
    }
   },
   "outputs": [
    {
     "data": {
      "text/plain": "                                                                                  Feature Name  \\\nAge                                                                                        Age   \nFamily size                                                                        Family size   \nMother's education                                                          Mother's education   \nFather's education                                                          Father's education   \nHome to school travel time                                          Home to school travel time   \nWeekly study time                                                            Weekly study time   \nNumber of past class failures                                    Number of past class failures   \nExtra education support                                                Extra education support   \nFamily eductional support                                            Family eductional support   \nExtra paid classes within the subject                    Extra paid classes within the subject   \nExtra-curricular activities                                        Extra-curricular activities   \nAttended nursery school                                                Attended nursery school   \nWants to take higher education                                  Wants to take higher education   \nHas internet at home                                                      Has internet at home   \nIn a romantic relationship                                          In a romantic relationship   \nQuality of family relationships (1-5)                    Quality of family relationships (1-5)   \nAmount of free time after school (1-5)                  Amount of free time after school (1-5)   \nFrequency of going out with friends (1-5)            Frequency of going out with friends (1-5)   \nFrequency of workday alcohol consumption (1-5)  Frequency of workday alcohol consumption (1-5)   \nFrequency of weekend alcohol consumption (1-5)  Frequency of weekend alcohol consumption (1-5)   \nCurrent health status (1-5)                                        Current health status (1-5)   \nNumber of school absences                                            Number of school absences   \nSchool                                                                                  School   \nSex                                                                                        Sex   \nAddress type                                                                      Address type   \nParent's cohibition status                                          Parent's cohibition status   \nReason for choosing this school                                Reason for choosing this school   \nStudent's guardian                                                          Student's guardian   \nMother's job                                                                      Mother's job   \nFather's job                                                                      Father's job   \n\n                                                Importance  \nAge                                               0.137259  \nFamily size                                       0.077579  \nMother's education                                0.092555  \nFather's education                                0.272704  \nHome to school travel time                        0.114747  \nWeekly study time                                 0.176336  \nNumber of past class failures                     1.123005  \nExtra education support                           0.213939  \nFamily eductional support                         0.052463  \nExtra paid classes within the subject             0.007059  \nExtra-curricular activities                       0.164961  \nAttended nursery school                           0.057409  \nWants to take higher education                    0.401922  \nHas internet at home                              0.033354  \nIn a romantic relationship                        0.190343  \nQuality of family relationships (1-5)             0.165850  \nAmount of free time after school (1-5)            0.221426  \nFrequency of going out with friends (1-5)         0.092069  \nFrequency of workday alcohol consumption (1-5)    0.085063  \nFrequency of weekend alcohol consumption (1-5)    0.196795  \nCurrent health status (1-5)                       0.200542  \nNumber of school absences                         0.294134  \nSchool                                            0.790362  \nSex                                               0.364669  \nAddress type                                      0.169060  \nParent's cohibition status                        0.034047  \nReason for choosing this school                   0.378299  \nStudent's guardian                                0.321043  \nMother's job                                      0.151463  \nFather's job                                      0.211249  ",
      "text/html": "<div>\n<style scoped>\n    .dataframe tbody tr th:only-of-type {\n        vertical-align: middle;\n    }\n\n    .dataframe tbody tr th {\n        vertical-align: top;\n    }\n\n    .dataframe thead th {\n        text-align: right;\n    }\n</style>\n<table border=\"1\" class=\"dataframe\">\n  <thead>\n    <tr style=\"text-align: right;\">\n      <th></th>\n      <th>Feature Name</th>\n      <th>Importance</th>\n    </tr>\n  </thead>\n  <tbody>\n    <tr>\n      <th>Age</th>\n      <td>Age</td>\n      <td>0.137259</td>\n    </tr>\n    <tr>\n      <th>Family size</th>\n      <td>Family size</td>\n      <td>0.077579</td>\n    </tr>\n    <tr>\n      <th>Mother's education</th>\n      <td>Mother's education</td>\n      <td>0.092555</td>\n    </tr>\n    <tr>\n      <th>Father's education</th>\n      <td>Father's education</td>\n      <td>0.272704</td>\n    </tr>\n    <tr>\n      <th>Home to school travel time</th>\n      <td>Home to school travel time</td>\n      <td>0.114747</td>\n    </tr>\n    <tr>\n      <th>Weekly study time</th>\n      <td>Weekly study time</td>\n      <td>0.176336</td>\n    </tr>\n    <tr>\n      <th>Number of past class failures</th>\n      <td>Number of past class failures</td>\n      <td>1.123005</td>\n    </tr>\n    <tr>\n      <th>Extra education support</th>\n      <td>Extra education support</td>\n      <td>0.213939</td>\n    </tr>\n    <tr>\n      <th>Family eductional support</th>\n      <td>Family eductional support</td>\n      <td>0.052463</td>\n    </tr>\n    <tr>\n      <th>Extra paid classes within the subject</th>\n      <td>Extra paid classes within the subject</td>\n      <td>0.007059</td>\n    </tr>\n    <tr>\n      <th>Extra-curricular activities</th>\n      <td>Extra-curricular activities</td>\n      <td>0.164961</td>\n    </tr>\n    <tr>\n      <th>Attended nursery school</th>\n      <td>Attended nursery school</td>\n      <td>0.057409</td>\n    </tr>\n    <tr>\n      <th>Wants to take higher education</th>\n      <td>Wants to take higher education</td>\n      <td>0.401922</td>\n    </tr>\n    <tr>\n      <th>Has internet at home</th>\n      <td>Has internet at home</td>\n      <td>0.033354</td>\n    </tr>\n    <tr>\n      <th>In a romantic relationship</th>\n      <td>In a romantic relationship</td>\n      <td>0.190343</td>\n    </tr>\n    <tr>\n      <th>Quality of family relationships (1-5)</th>\n      <td>Quality of family relationships (1-5)</td>\n      <td>0.165850</td>\n    </tr>\n    <tr>\n      <th>Amount of free time after school (1-5)</th>\n      <td>Amount of free time after school (1-5)</td>\n      <td>0.221426</td>\n    </tr>\n    <tr>\n      <th>Frequency of going out with friends (1-5)</th>\n      <td>Frequency of going out with friends (1-5)</td>\n      <td>0.092069</td>\n    </tr>\n    <tr>\n      <th>Frequency of workday alcohol consumption (1-5)</th>\n      <td>Frequency of workday alcohol consumption (1-5)</td>\n      <td>0.085063</td>\n    </tr>\n    <tr>\n      <th>Frequency of weekend alcohol consumption (1-5)</th>\n      <td>Frequency of weekend alcohol consumption (1-5)</td>\n      <td>0.196795</td>\n    </tr>\n    <tr>\n      <th>Current health status (1-5)</th>\n      <td>Current health status (1-5)</td>\n      <td>0.200542</td>\n    </tr>\n    <tr>\n      <th>Number of school absences</th>\n      <td>Number of school absences</td>\n      <td>0.294134</td>\n    </tr>\n    <tr>\n      <th>School</th>\n      <td>School</td>\n      <td>0.790362</td>\n    </tr>\n    <tr>\n      <th>Sex</th>\n      <td>Sex</td>\n      <td>0.364669</td>\n    </tr>\n    <tr>\n      <th>Address type</th>\n      <td>Address type</td>\n      <td>0.169060</td>\n    </tr>\n    <tr>\n      <th>Parent's cohibition status</th>\n      <td>Parent's cohibition status</td>\n      <td>0.034047</td>\n    </tr>\n    <tr>\n      <th>Reason for choosing this school</th>\n      <td>Reason for choosing this school</td>\n      <td>0.378299</td>\n    </tr>\n    <tr>\n      <th>Student's guardian</th>\n      <td>Student's guardian</td>\n      <td>0.321043</td>\n    </tr>\n    <tr>\n      <th>Mother's job</th>\n      <td>Mother's job</td>\n      <td>0.151463</td>\n    </tr>\n    <tr>\n      <th>Father's job</th>\n      <td>Father's job</td>\n      <td>0.211249</td>\n    </tr>\n  </tbody>\n</table>\n</div>"
     },
     "execution_count": 3,
     "metadata": {},
     "output_type": "execute_result"
    }
   ],
   "source": [
    "feature_importance = real_app.produce_feature_importance()\n",
    "feature_importance"
   ]
  },
  {
   "cell_type": "markdown",
   "metadata": {
    "collapsed": false
   },
   "source": [
    "As you can see, we get a DataFrame from this function that gives a relative importance score for each feature the model uses. This DataFrame is fully readable and ready to be plugged into the visualization tool of your choice. For this demo, we will use Pyreal's built-in visualization functions:"
   ]
  },
  {
   "cell_type": "code",
   "execution_count": 4,
   "metadata": {
    "collapsed": false,
    "pycharm": {
     "name": "#%%\n"
    },
    "ExecuteTime": {
     "end_time": "2023-08-14T17:57:08.570243600Z",
     "start_time": "2023-08-14T17:57:06.469648400Z"
    }
   },
   "outputs": [
    {
     "ename": "TypeError",
     "evalue": "pyreal.visualize.feature_based_vis.feature_bar_plot() got multiple values for keyword argument 'n'",
     "output_type": "error",
     "traceback": [
      "\u001B[1;31m---------------------------------------------------------------------------\u001B[0m",
      "\u001B[1;31mTypeError\u001B[0m                                 Traceback (most recent call last)",
      "Cell \u001B[1;32mIn[4], line 1\u001B[0m\n\u001B[1;32m----> 1\u001B[0m \u001B[43mvisualize\u001B[49m\u001B[38;5;241;43m.\u001B[39;49m\u001B[43mplot_explanation\u001B[49m\u001B[43m(\u001B[49m\u001B[43mfeature_importance\u001B[49m\u001B[43m,\u001B[49m\u001B[43m \u001B[49m\u001B[43mn\u001B[49m\u001B[38;5;241;43m=\u001B[39;49m\u001B[38;5;241;43m5\u001B[39;49m\u001B[43m,\u001B[49m\u001B[43m \u001B[49m\u001B[43minclude_axis\u001B[49m\u001B[38;5;241;43m=\u001B[39;49m\u001B[38;5;28;43;01mFalse\u001B[39;49;00m\u001B[43m)\u001B[49m\n",
      "File \u001B[1;32m~\\Documents\\github\\pyreal\\pyreal\\visualize\\base.py:69\u001B[0m, in \u001B[0;36mplot_explanation\u001B[1;34m(explanation, feature, num_features, show, filename, **kwargs)\u001B[0m\n\u001B[0;32m     65\u001B[0m         \u001B[38;5;28;01mreturn\u001B[39;00m feature_scatter_plot(\n\u001B[0;32m     66\u001B[0m             explanation, feature\u001B[38;5;241m=\u001B[39mfeature, show\u001B[38;5;241m=\u001B[39mshow, filename\u001B[38;5;241m=\u001B[39mfilename, \u001B[38;5;241m*\u001B[39m\u001B[38;5;241m*\u001B[39mkwargs\n\u001B[0;32m     67\u001B[0m         )\n\u001B[0;32m     68\u001B[0m \u001B[38;5;28;01mif\u001B[39;00m \u001B[38;5;28misinstance\u001B[39m(explanation, pd\u001B[38;5;241m.\u001B[39mDataFrame):  \u001B[38;5;66;03m# Assume importance or one-entity contributions\u001B[39;00m\n\u001B[1;32m---> 69\u001B[0m     \u001B[38;5;28;01mreturn\u001B[39;00m feature_bar_plot(\n\u001B[0;32m     70\u001B[0m         explanation, n\u001B[38;5;241m=\u001B[39mnum_features, show\u001B[38;5;241m=\u001B[39mshow, filename\u001B[38;5;241m=\u001B[39mfilename, \u001B[38;5;241m*\u001B[39m\u001B[38;5;241m*\u001B[39mkwargs\n\u001B[0;32m     71\u001B[0m     )\n\u001B[0;32m     73\u001B[0m \u001B[38;5;28;01mraise\u001B[39;00m \u001B[38;5;167;01mValueError\u001B[39;00m(\u001B[38;5;124m\"\u001B[39m\u001B[38;5;124mGiven an explanation of an unrecognized format.\u001B[39m\u001B[38;5;124m\"\u001B[39m)\n",
      "\u001B[1;31mTypeError\u001B[0m: pyreal.visualize.feature_based_vis.feature_bar_plot() got multiple values for keyword argument 'n'"
     ]
    }
   ],
   "source": [
    "visualize.plot_explanation(feature_importance, n=5, include_axis=False)"
   ]
  },
  {
   "cell_type": "markdown",
   "metadata": {
    "collapsed": false
   },
   "source": [
    "In the plot above, you can see the six features that the model considered most important. It looks like the number of past failures is highly predictive (makes sense!), as well as th school they attend and their reasons for choosing it.\n",
    "\n",
    "We now have a rough sense of which features are important, but we want to understand this better. Which schools are more correlated with failure? Which reasons for choosing the school? Are male or female students predicted to struggle more in class?\n",
    "\n",
    "To answer these questions, we can take a look at the feauture contributions in individual cases on the dataset as a whole. Let's generate feature contribution predictions on the full historic dataset."
   ]
  },
  {
   "cell_type": "code",
   "execution_count": null,
   "metadata": {
    "collapsed": false,
    "pycharm": {
     "name": "#%%\n"
    },
    "ExecuteTime": {
     "start_time": "2023-08-14T17:57:08.544664200Z"
    }
   },
   "outputs": [],
   "source": [
    "all_contributions = real_app.produce_feature_contributions(data)\n",
    "visualize.strip_plot(all_contributions, discrete=True, n=5)"
   ]
  },
  {
   "cell_type": "markdown",
   "metadata": {
    "collapsed": false
   },
   "source": [
    "The features in the swarm plot above are sorted by average contribution. Each dot represents a row in the dataset. Along the x-axis, we see how much each feature value contributed in each individual case.\n",
    "\n",
    "We can see that having no past failures increases the prediction of passing the class (again, makes sense!). In the second row of the figure, we can see that attending school GP is correlated with passing the class, while MS reduces the model's prediction of passing. We can continue reading through the plot like this to better understand how our model considers its more important features.\n",
    "\n",
    "Now, we (the school administrator) believe that attending class is extremely important for success, and we want to demonstrate that with past data. We can generate a plot to look just at contribution of this specific feature to the model prediction, to better highlight its correlation with success. We will also"
   ]
  },
  {
   "cell_type": "code",
   "execution_count": null,
   "metadata": {
    "collapsed": false,
    "pycharm": {
     "name": "#%%\n"
    },
    "ExecuteTime": {
     "start_time": "2023-08-14T17:57:08.550180Z"
    }
   },
   "outputs": [],
   "source": [
    "predictions = real_app.predict(data)\n",
    "\n",
    "visualize.plot_explanation(all_contributions, feature=\"Number of school absences\", predictions=predictions)"
   ]
  },
  {
   "cell_type": "markdown",
   "metadata": {
    "collapsed": false
   },
   "source": [
    "In the plot above, we can see a significant increase in predicted risk as number of absences passes about 5."
   ]
  },
  {
   "cell_type": "markdown",
   "metadata": {
    "collapsed": false
   },
   "source": [
    "## Goal 2: Understanding students at risk\n",
    "\n",
    "Now that we understand risk factors in general, let's take a look at some individual students at risk of failure.\n",
    "\n",
    "We can begin by seeing which students our model believes are at risk of failure, using the `.predict()` function. This function handles all transformation needed to generate a model prediction. Here, a prediction of 0 means \"failure\", while a prediction of 1 means \"no failure\""
   ]
  },
  {
   "cell_type": "code",
   "execution_count": null,
   "metadata": {
    "collapsed": false,
    "pycharm": {
     "name": "#%%\n"
    },
    "ExecuteTime": {
     "start_time": "2023-08-14T17:57:08.554190400Z"
    }
   },
   "outputs": [],
   "source": [
    "def format_prediction(prediction):\n",
    "    return \"%s (%s)\" % (prediction, [\"Fail\", \"Pass\"][prediction])\n",
    "\n",
    "predictions = real_app.predict(students)\n",
    "predictions"
   ]
  },
  {
   "cell_type": "markdown",
   "metadata": {},
   "source": [
    "Looks like five students are predicted to be at risk of failure. Let's take a closer look at Trevor Butler, to see where her prediction comes from. This RealApp is set up to have \"name\" as the row id column, so we can access the needed explanation with the name.\n",
    "\n",
    "We will add the model's positive prediction to the title of the plot to make the plot more clear."
   ]
  },
  {
   "cell_type": "code",
   "execution_count": null,
   "metadata": {
    "ExecuteTime": {
     "start_time": "2023-08-14T17:57:08.556199300Z"
    }
   },
   "outputs": [],
   "source": [
    "student_contributions = real_app.produce_feature_contributions(students)\n",
    "visualize.feature_bar_plot(student_contributions[\"Trevor Butler\"], prediction=format_prediction(predictions[\"Trevor Butler\"]))"
   ]
  },
  {
   "cell_type": "markdown",
   "metadata": {},
   "source": [
    "We can see that Trevor's two past failures are greatly increasing his prediction towards failure. There is also a slight increase in risk for him being a male, receiving extra support, his lack of extra-curricular activities, and the fact that he chose the school do to course preference.\n",
    "\n",
    "Let's take a look at another student, Arianna Larson:"
   ]
  },
  {
   "cell_type": "code",
   "execution_count": null,
   "metadata": {
    "collapsed": false,
    "pycharm": {
     "name": "#%%\n"
    },
    "ExecuteTime": {
     "start_time": "2023-08-14T17:57:08.560718600Z"
    }
   },
   "outputs": [],
   "source": [
    "#visualize.feature_bar_plot(student_contributions[\"Arianna Larson\"], prediction=format_prediction(predictions[\"Arianna Larson\"]))\n",
    "visualize.plot_explanation(student_contributions[\"Arianna Larson\"], prediction=format_prediction(predictions[\"Arianna Larson\"]))"
   ]
  },
  {
   "cell_type": "markdown",
   "metadata": {
    "collapsed": false
   },
   "source": [
    "It looks like Arianna has never failed before, but her risk is greatly increasing due to her school. We can infer here that Arianna herself may benefit more from improvements to her school that personal extra attention."
   ]
  },
  {
   "cell_type": "markdown",
   "metadata": {
    "collapsed": false
   },
   "source": [
    "## Goal 3: Identify factors associated with success\n",
    "\n",
    "We have been told that Andre Kim is especially likely to pass according to the model, despite his attending the at-risk school, MS. Let's take a look at what factors are increasing his score, so we better understand what correlates with success:"
   ]
  },
  {
   "cell_type": "code",
   "execution_count": null,
   "metadata": {
    "collapsed": false,
    "pycharm": {
     "name": "#%%\n"
    },
    "ExecuteTime": {
     "start_time": "2023-08-14T17:57:08.564722600Z"
    }
   },
   "outputs": [],
   "source": [
    "visualize.feature_bar_plot(student_contributions[\"Andre Kim\"], n=6, prediction=predictions[\"Andre Kim\"])"
   ]
  },
  {
   "cell_type": "markdown",
   "metadata": {
    "collapsed": false
   },
   "source": [
    "A highly educated father and no history of failures seem to be important here, as well as the fact that the student chose the school because it was close to their home ."
   ]
  },
  {
   "cell_type": "markdown",
   "metadata": {
    "collapsed": false
   },
   "source": [
    "## Comparison to existing methods\n",
    "\n",
    "Pyreal is not the only library to offer these kinds of explanations, but it offers easier-to-use explanations without a deeper understanding of ML or XAI.\n",
    "\n",
    "Let's compare the code required and explanation generated by another library, `shap`. With the code below, we are once again getting a local feature contributions explanation for Trevor Butler. For comparison, we repeat the Pyreal version of the explanation below.\n",
    "\n",
    "Both explanations hold the same information, but you may find the Pyreal version quicker to parse, with significantly less required code."
   ]
  },
  {
   "cell_type": "code",
   "execution_count": null,
   "metadata": {
    "collapsed": false,
    "pycharm": {
     "name": "#%%\n"
    },
    "ExecuteTime": {
     "start_time": "2023-08-14T17:57:08.569243200Z"
    }
   },
   "outputs": [],
   "source": [
    "import shap\n",
    "\n",
    "transformers = student_performance.load_transformers()\n",
    "model = student_performance.load_model()\n",
    "students_transformed = students.copy()\n",
    "data_transformed = data.copy()\n",
    "students_transformed = students_transformed.drop(\"name\", axis=\"columns\")\n",
    "for transformer in transformers:\n",
    "    students_transformed = transformer.transform(students_transformed)\n",
    "    data_transformed = transformer.transform(data_transformed)\n",
    "\n",
    "explainer = shap.TreeExplainer(model, data=data_transformed)\n",
    "\n",
    "shap_values = explainer(students_transformed)\n",
    "shap.plots.bar(shap_values[4]) # Trevor is row 4 in students\n",
    "\n",
    "# Using Pyreal:\n",
    "visualize.feature_bar_plot(student_contributions[\"Trevor Butler\"], prediction=predictions[\"Trevor Butler\"])\n"
   ]
  }
 ],
 "metadata": {
  "kernelspec": {
   "display_name": "Python 3 (ipykernel)",
   "language": "python",
   "name": "python3"
  },
  "language_info": {
   "codemirror_mode": {
    "name": "ipython",
    "version": 3
   },
   "file_extension": ".py",
   "mimetype": "text/x-python",
   "name": "python",
   "nbconvert_exporter": "python",
   "pygments_lexer": "ipython3",
   "version": "3.8.6"
  }
 },
 "nbformat": 4,
 "nbformat_minor": 2
}
