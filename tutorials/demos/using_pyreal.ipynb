{
 "cells": [
  {
   "cell_type": "code",
   "execution_count": null,
   "metadata": {
    "collapsed": true,
    "is_executing": true
   },
   "outputs": [],
   "source": [
    "import pyreal.sample_applications.titanic as titanic\n",
    "import numpy as np\n",
    "\n",
    "real_app = titanic.load_app()\n",
    "sample_data = titanic.load_data(n_rows=300)"
   ]
  },
  {
   "cell_type": "code",
   "execution_count": 1,
   "outputs": [
    {
     "ename": "NameError",
     "evalue": "name 'real_app' is not defined",
     "output_type": "error",
     "traceback": [
      "\u001B[1;31m---------------------------------------------------------------------------\u001B[0m",
      "\u001B[1;31mNameError\u001B[0m                                 Traceback (most recent call last)",
      "Cell \u001B[1;32mIn[1], line 2\u001B[0m\n\u001B[0;32m      1\u001B[0m passenger_id \u001B[38;5;241m=\u001B[39m \u001B[38;5;241m1\u001B[39m\n\u001B[1;32m----> 2\u001B[0m predictions \u001B[38;5;241m=\u001B[39m \u001B[43mreal_app\u001B[49m\u001B[38;5;241m.\u001B[39mpredict(sample_data)\n\u001B[0;32m      4\u001B[0m \u001B[38;5;28mprint\u001B[39m(\u001B[38;5;124m\"\u001B[39m\u001B[38;5;124mPassenger \u001B[39m\u001B[38;5;132;01m%s\u001B[39;00m\u001B[38;5;124m is predicted to have \u001B[39m\u001B[38;5;132;01m%s\u001B[39;00m\u001B[38;5;124m\"\u001B[39m \u001B[38;5;241m%\u001B[39m\n\u001B[0;32m      5\u001B[0m       (passenger_id, [\u001B[38;5;124m\"\u001B[39m\u001B[38;5;124mDied\u001B[39m\u001B[38;5;124m\"\u001B[39m, \u001B[38;5;124m\"\u001B[39m\u001B[38;5;124mSurvived\u001B[39m\u001B[38;5;124m\"\u001B[39m][predictions[passenger_id]]))\n",
      "\u001B[1;31mNameError\u001B[0m: name 'real_app' is not defined"
     ]
    }
   ],
   "source": [
    "passenger_id = 1\n",
    "predictions = real_app.predict(sample_data)\n",
    "\n",
    "print(\"Passenger %s is predicted to have %s\" %\n",
    "      (passenger_id, [\"Died\", \"Survived\"][predictions[passenger_id]]))"
   ],
   "metadata": {
    "collapsed": false,
    "pycharm": {
     "name": "#%%\n"
    },
    "ExecuteTime": {
     "end_time": "2023-08-31T13:27:37.284528400Z",
     "start_time": "2023-08-31T13:27:35.734418Z"
    }
   }
  },
  {
   "cell_type": "code",
   "execution_count": null,
   "outputs": [],
   "source": [
    "explanation = real_app.produce_feature_contributions(sample_data)"
   ],
   "metadata": {
    "collapsed": false,
    "pycharm": {
     "name": "#%%\n"
    },
    "ExecuteTime": {
     "start_time": "2023-08-31T13:27:35.946625700Z"
    }
   }
  },
  {
   "cell_type": "code",
   "execution_count": null,
   "outputs": [],
   "source": [
    "from pyreal.visualize import feature_bar_plot\n",
    "\n",
    "prediction_strings = np.array([\"Died\" if predictions[passenger]==0 else \"Survived\" for passenger in predictions])\n",
    "\n",
    "feature_bar_plot(explanation[1], prediction=prediction_strings[passenger_id])"
   ],
   "metadata": {
    "collapsed": false,
    "pycharm": {
     "name": "#%%\n"
    },
    "ExecuteTime": {
     "start_time": "2023-08-31T13:27:35.947625Z"
    }
   }
  },
  {
   "cell_type": "code",
   "execution_count": null,
   "outputs": [],
   "source": [
    "from pyreal.visualize import strip_plot\n",
    "\n",
    "strip_plot(explanation, type=\"strip\")"
   ],
   "metadata": {
    "collapsed": false,
    "pycharm": {
     "name": "#%%\n"
    },
    "ExecuteTime": {
     "start_time": "2023-08-31T13:27:35.948624300Z"
    }
   }
  },
  {
   "cell_type": "code",
   "execution_count": null,
   "outputs": [],
   "source": [
    "from pyreal.visualize import feature_scatter_plot\n",
    "\n",
    "feature_scatter_plot(explanation, \"Age\", prediction_strings)"
   ],
   "metadata": {
    "collapsed": false,
    "pycharm": {
     "name": "#%%\n"
    },
    "ExecuteTime": {
     "start_time": "2023-08-31T13:27:35.949624700Z"
    }
   }
  },
  {
   "cell_type": "code",
   "execution_count": null,
   "outputs": [],
   "source": [],
   "metadata": {
    "collapsed": false,
    "ExecuteTime": {
     "start_time": "2023-08-31T13:27:35.950624300Z"
    }
   }
  }
 ],
 "metadata": {
  "kernelspec": {
   "display_name": "Python 3",
   "language": "python",
   "name": "python3"
  },
  "language_info": {
   "codemirror_mode": {
    "name": "ipython",
    "version": 2
   },
   "file_extension": ".py",
   "mimetype": "text/x-python",
   "name": "python",
   "nbconvert_exporter": "python",
   "pygments_lexer": "ipython2",
   "version": "2.7.6"
  }
 },
 "nbformat": 4,
 "nbformat_minor": 0
}
