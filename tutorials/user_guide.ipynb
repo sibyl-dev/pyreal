{
 "cells": [
  {
   "cell_type": "markdown",
   "source": [
    "# User Guide Follow-Along Code\n",
    "\n",
    "This tutorial contains all the code used in the [Pyreal User Guides](https://dtail.gitbook.io/pyreal/user-guides/data-preparation-and-modelling). We recommend following along with the text there.\n",
    "\n",
    "This tutorial uses a smaller version of the Ames Housing Dataset [1], with 8 key features selected. In this guide, we will train an ML model that predicts the sale price of houses based on these features. \n",
    "\n",
    "[1] De Cock, D. (2011). Ames, Iowa: Alternative to the Boston Housing Data as an End of Semester Regression Project. Journal of Statistics Education, 19(3). https://doi.org/10.1080/10691898.2011.11889627"
   ],
   "metadata": {
    "collapsed": false
   },
   "id": "e47dbc3ca3ca5491"
  },
  {
   "cell_type": "markdown",
   "source": [
    "# Data Preparation and Modelling\n",
    "## Training and Input Data\n",
    "\n",
    "Pyreal expects data in the format of Pandas DataFrames. Each row refers to one data instance (a person, place, thing, or entity), and each column refers to a feature, or piece of information about that instance. Column headers are the names of feature. Each instance may optionally have an instance ID, which can either be stored as the DataFrame's indices (row IDs) or as a separate column.\n",
    "\n",
    "There are two categories of data relevant to ML decision-making: the training data and the input data.\n",
    "We will load in the training data from Pyreal's `sample_applicatons` module, and then inspect it."
   ],
   "metadata": {
    "collapsed": false
   },
   "id": "c7199f948c5d5624"
  },
  {
   "cell_type": "code",
   "outputs": [
    {
     "name": "stderr",
     "output_type": "stream",
     "text": [
      "Using `tqdm.autonotebook.tqdm` in notebook mode. Use `tqdm.tqdm` instead to force console mode (e.g. in jupyter console)\n"
     ]
    },
    {
     "data": {
      "text/plain": "     LotArea    Neighborhood  OverallQual  YearBuilt   Exterior1st  \\\n165  22950.0        Old Town          NaN     1892.0   Wood Siding   \n73   11911.0         Gilbert          6.0     2005.0  Vinyl Siding   \n431   9291.0             NaN          6.0     1993.0    Hard Board   \n448  12243.0  Northwest Ames          5.0        NaN           NaN   \n857  11029.0      North Ames          6.0     1958.0  Metal Siding   \n\n     TotalBsmtSF CentralAir  GrLivArea  \n165       1107.0       True     3608.0  \n73         684.0       True     1560.0  \n431        832.0        NaN     1710.0  \n448       1484.0       True     1484.0  \n857       1184.0       True     1414.0  ",
      "text/html": "<div>\n<style scoped>\n    .dataframe tbody tr th:only-of-type {\n        vertical-align: middle;\n    }\n\n    .dataframe tbody tr th {\n        vertical-align: top;\n    }\n\n    .dataframe thead th {\n        text-align: right;\n    }\n</style>\n<table border=\"1\" class=\"dataframe\">\n  <thead>\n    <tr style=\"text-align: right;\">\n      <th></th>\n      <th>LotArea</th>\n      <th>Neighborhood</th>\n      <th>OverallQual</th>\n      <th>YearBuilt</th>\n      <th>Exterior1st</th>\n      <th>TotalBsmtSF</th>\n      <th>CentralAir</th>\n      <th>GrLivArea</th>\n    </tr>\n  </thead>\n  <tbody>\n    <tr>\n      <th>165</th>\n      <td>22950.0</td>\n      <td>Old Town</td>\n      <td>NaN</td>\n      <td>1892.0</td>\n      <td>Wood Siding</td>\n      <td>1107.0</td>\n      <td>True</td>\n      <td>3608.0</td>\n    </tr>\n    <tr>\n      <th>73</th>\n      <td>11911.0</td>\n      <td>Gilbert</td>\n      <td>6.0</td>\n      <td>2005.0</td>\n      <td>Vinyl Siding</td>\n      <td>684.0</td>\n      <td>True</td>\n      <td>1560.0</td>\n    </tr>\n    <tr>\n      <th>431</th>\n      <td>9291.0</td>\n      <td>NaN</td>\n      <td>6.0</td>\n      <td>1993.0</td>\n      <td>Hard Board</td>\n      <td>832.0</td>\n      <td>NaN</td>\n      <td>1710.0</td>\n    </tr>\n    <tr>\n      <th>448</th>\n      <td>12243.0</td>\n      <td>Northwest Ames</td>\n      <td>5.0</td>\n      <td>NaN</td>\n      <td>NaN</td>\n      <td>1484.0</td>\n      <td>True</td>\n      <td>1484.0</td>\n    </tr>\n    <tr>\n      <th>857</th>\n      <td>11029.0</td>\n      <td>North Ames</td>\n      <td>6.0</td>\n      <td>1958.0</td>\n      <td>Metal Siding</td>\n      <td>1184.0</td>\n      <td>True</td>\n      <td>1414.0</td>\n    </tr>\n  </tbody>\n</table>\n</div>"
     },
     "execution_count": 1,
     "metadata": {},
     "output_type": "execute_result"
    }
   ],
   "source": [
    "from pyreal.sample_applications import ames_housing_small\n",
    "from sklearn.model_selection import train_test_split\n",
    "\n",
    "X, y = ames_housing_small.load_data(include_targets=True)\n",
    "X_train_orig, X_test_orig, y_train, y_test = train_test_split(X, y)\n",
    "\n",
    "X_train_orig.head()"
   ],
   "metadata": {
    "collapsed": false,
    "ExecuteTime": {
     "end_time": "2024-03-19T14:15:45.654844Z",
     "start_time": "2024-03-19T14:15:43.809377Z"
    }
   },
   "id": "26e2eb02bc958536",
   "execution_count": 1
  },
  {
   "cell_type": "markdown",
   "source": [
    "The training data is used to train the ML model and explainers. The input data is the data that you actively wish to get predictions on and understand better. The main difference between these two types is data is that you usually will have the ground truth values (the \"correct\" answer for the value your model tries to predict) for your training data but not your input data.\n",
    "\n",
    "In the cell below, we inspect our ground-truth information for our training data, `y_train`, stored in a pandas Series."
   ],
   "metadata": {
    "collapsed": false
   },
   "id": "1b96fd48acd8dc9a"
  },
  {
   "cell_type": "code",
   "execution_count": 2,
   "id": "initial_id",
   "metadata": {
    "collapsed": true,
    "ExecuteTime": {
     "end_time": "2024-03-19T14:15:45.659337Z",
     "start_time": "2024-03-19T14:15:45.655849Z"
    }
   },
   "outputs": [
    {
     "data": {
      "text/plain": "165    475000\n73     174000\n431    187000\n448    175000\n857    176500\nName: SalePrice, dtype: int64"
     },
     "execution_count": 2,
     "metadata": {},
     "output_type": "execute_result"
    }
   ],
   "source": [
    "y_train.head()"
   ]
  },
  {
   "cell_type": "markdown",
   "source": [
    "In the cell below, we load in and inspect out input data. For this data we have no ground truth values."
   ],
   "metadata": {
    "collapsed": false
   },
   "id": "95aee1d4f9e9f624"
  },
  {
   "cell_type": "code",
   "outputs": [
    {
     "data": {
      "text/plain": "    House ID  LotArea    Neighborhood  OverallQual  YearBuilt   Exterior1st  \\\n0  House 101     9937         Edwards            5       1965    Hard Board   \n1  House 102     8450   College Creek            7       2003  Vinyl Siding   \n2  House 103     9600         Veenker            6       1976  Metal Siding   \n3  House 104    11250   College Creek            7       2001  Vinyl Siding   \n4  House 105     9550        Crawford            7       1915   Wood Siding   \n5  House 106    14260      Northridge            8       2000  Vinyl Siding   \n6  House 107    14115        Mitchell            5       1993  Vinyl Siding   \n7  House 108    10084        Somerset            8       2004  Vinyl Siding   \n8  House 109    10382  Northwest Ames            7       1973    Hard Board   \n\n   TotalBsmtSF  CentralAir  GrLivArea  \n0         1256        True       1256  \n1          856        True       1710  \n2         1262        True       1262  \n3          920        True       1786  \n4          756        True       1717  \n5         1145        True       2198  \n6          796        True       1362  \n7         1686        True       1694  \n8         1107        True       2090  ",
      "text/html": "<div>\n<style scoped>\n    .dataframe tbody tr th:only-of-type {\n        vertical-align: middle;\n    }\n\n    .dataframe tbody tr th {\n        vertical-align: top;\n    }\n\n    .dataframe thead th {\n        text-align: right;\n    }\n</style>\n<table border=\"1\" class=\"dataframe\">\n  <thead>\n    <tr style=\"text-align: right;\">\n      <th></th>\n      <th>House ID</th>\n      <th>LotArea</th>\n      <th>Neighborhood</th>\n      <th>OverallQual</th>\n      <th>YearBuilt</th>\n      <th>Exterior1st</th>\n      <th>TotalBsmtSF</th>\n      <th>CentralAir</th>\n      <th>GrLivArea</th>\n    </tr>\n  </thead>\n  <tbody>\n    <tr>\n      <th>0</th>\n      <td>House 101</td>\n      <td>9937</td>\n      <td>Edwards</td>\n      <td>5</td>\n      <td>1965</td>\n      <td>Hard Board</td>\n      <td>1256</td>\n      <td>True</td>\n      <td>1256</td>\n    </tr>\n    <tr>\n      <th>1</th>\n      <td>House 102</td>\n      <td>8450</td>\n      <td>College Creek</td>\n      <td>7</td>\n      <td>2003</td>\n      <td>Vinyl Siding</td>\n      <td>856</td>\n      <td>True</td>\n      <td>1710</td>\n    </tr>\n    <tr>\n      <th>2</th>\n      <td>House 103</td>\n      <td>9600</td>\n      <td>Veenker</td>\n      <td>6</td>\n      <td>1976</td>\n      <td>Metal Siding</td>\n      <td>1262</td>\n      <td>True</td>\n      <td>1262</td>\n    </tr>\n    <tr>\n      <th>3</th>\n      <td>House 104</td>\n      <td>11250</td>\n      <td>College Creek</td>\n      <td>7</td>\n      <td>2001</td>\n      <td>Vinyl Siding</td>\n      <td>920</td>\n      <td>True</td>\n      <td>1786</td>\n    </tr>\n    <tr>\n      <th>4</th>\n      <td>House 105</td>\n      <td>9550</td>\n      <td>Crawford</td>\n      <td>7</td>\n      <td>1915</td>\n      <td>Wood Siding</td>\n      <td>756</td>\n      <td>True</td>\n      <td>1717</td>\n    </tr>\n    <tr>\n      <th>5</th>\n      <td>House 106</td>\n      <td>14260</td>\n      <td>Northridge</td>\n      <td>8</td>\n      <td>2000</td>\n      <td>Vinyl Siding</td>\n      <td>1145</td>\n      <td>True</td>\n      <td>2198</td>\n    </tr>\n    <tr>\n      <th>6</th>\n      <td>House 107</td>\n      <td>14115</td>\n      <td>Mitchell</td>\n      <td>5</td>\n      <td>1993</td>\n      <td>Vinyl Siding</td>\n      <td>796</td>\n      <td>True</td>\n      <td>1362</td>\n    </tr>\n    <tr>\n      <th>7</th>\n      <td>House 108</td>\n      <td>10084</td>\n      <td>Somerset</td>\n      <td>8</td>\n      <td>2004</td>\n      <td>Vinyl Siding</td>\n      <td>1686</td>\n      <td>True</td>\n      <td>1694</td>\n    </tr>\n    <tr>\n      <th>8</th>\n      <td>House 109</td>\n      <td>10382</td>\n      <td>Northwest Ames</td>\n      <td>7</td>\n      <td>1973</td>\n      <td>Hard Board</td>\n      <td>1107</td>\n      <td>True</td>\n      <td>2090</td>\n    </tr>\n  </tbody>\n</table>\n</div>"
     },
     "execution_count": 3,
     "metadata": {},
     "output_type": "execute_result"
    }
   ],
   "source": [
    "x_input = ames_housing_small.load_input_data()\n",
    "x_input"
   ],
   "metadata": {
    "collapsed": false,
    "ExecuteTime": {
     "end_time": "2024-03-19T14:15:45.670027Z",
     "start_time": "2024-03-19T14:15:45.659337Z"
    }
   },
   "id": "b7e2ad14e7741b9",
   "execution_count": 3
  },
  {
   "cell_type": "markdown",
   "source": [
    "## Transformers\n",
    "\n",
    "Many ML models either require data to be in a specific format, or preform significantly better when data is a specific format. \n",
    "For example, many models require all data to be numeric, cannot handle missing data, or expect all features to be on similar numeric scales. But this is rarely the case in real-world applications, so we need to perform feature engineering using data transformers.\n",
    "\n",
    "In the cell below, we initialize all the transformers we will need to make predictions with our model. See the [Pyreal User Guide](https://dtail.gitbook.io/pyreal/user-guides/data-preparation-and-modelling/transformers) for details.\n",
    "\n",
    "We then fit the transformers to our training data, and inspect the resulting transformed data."
   ],
   "metadata": {
    "collapsed": false
   },
   "id": "8b634e22220e9e88"
  },
  {
   "cell_type": "code",
   "outputs": [
    {
     "data": {
      "text/plain": "      LotArea  OverallQual     YearBuilt  TotalBsmtSF  CentralAir  GrLivArea  \\\n165  1.223200     0.000000 -2.713342e+00     0.149527    0.251161   4.169153   \n73   0.136138    -0.066189  1.164953e+00    -0.916721    0.251161   0.100505   \n431 -0.121866    -0.066189  7.530990e-01    -0.543660    0.251161   0.398502   \n448  0.168832    -0.820747 -7.803736e-15     1.099824    0.251161  -0.050480   \n857  0.049283    -0.066189 -4.481427e-01     0.343620    0.251161  -0.189545   \n\n     Neighborhood_Bloomington Heights  Neighborhood_Bluestem  \\\n165                         -0.117502              -0.044151   \n73                          -0.117502              -0.044151   \n431                         -0.117502              -0.044151   \n448                         -0.117502              -0.044151   \n857                         -0.117502              -0.044151   \n\n     Neighborhood_Briardale  Neighborhood_Brookside  ...  \\\n165               -0.099112               -0.206389  ...   \n73                -0.099112               -0.206389  ...   \n431               -0.099112               -0.206389  ...   \n448               -0.099112               -0.206389  ...   \n857               -0.099112               -0.206389  ...   \n\n     Exterior1st_Cement Board  Exterior1st_Hard Board  \\\n165                 -0.176333               -0.416552   \n73                  -0.176333               -0.416552   \n431                 -0.176333                2.400658   \n448                 -0.176333               -0.416552   \n857                 -0.176333               -0.416552   \n\n     Exterior1st_Imitation Stucco  Exterior1st_Metal Siding  \\\n165                     -0.031204                 -0.392122   \n73                      -0.031204                 -0.392122   \n431                     -0.031204                 -0.392122   \n448                     -0.031204                 -0.392122   \n857                     -0.031204                  2.550225   \n\n     Exterior1st_Plywood  Exterior1st_Stucco  Exterior1st_Vinyl Siding  \\\n165            -0.280533           -0.129673                 -0.720044   \n73             -0.280533           -0.129673                  1.388803   \n431            -0.280533           -0.129673                 -0.720044   \n448            -0.280533           -0.129673                 -0.720044   \n857            -0.280533           -0.129673                 -0.720044   \n\n     Exterior1st_Wood Shingles  Exterior1st_Wood Siding  Exterior1st_nan  \n165                  -0.144409                 2.487732        -0.211460  \n73                   -0.144409                -0.401973        -0.211460  \n431                  -0.144409                -0.401973        -0.211460  \n448                  -0.144409                -0.401973         4.729021  \n857                  -0.144409                -0.401973        -0.211460  \n\n[5 rows x 46 columns]",
      "text/html": "<div>\n<style scoped>\n    .dataframe tbody tr th:only-of-type {\n        vertical-align: middle;\n    }\n\n    .dataframe tbody tr th {\n        vertical-align: top;\n    }\n\n    .dataframe thead th {\n        text-align: right;\n    }\n</style>\n<table border=\"1\" class=\"dataframe\">\n  <thead>\n    <tr style=\"text-align: right;\">\n      <th></th>\n      <th>LotArea</th>\n      <th>OverallQual</th>\n      <th>YearBuilt</th>\n      <th>TotalBsmtSF</th>\n      <th>CentralAir</th>\n      <th>GrLivArea</th>\n      <th>Neighborhood_Bloomington Heights</th>\n      <th>Neighborhood_Bluestem</th>\n      <th>Neighborhood_Briardale</th>\n      <th>Neighborhood_Brookside</th>\n      <th>...</th>\n      <th>Exterior1st_Cement Board</th>\n      <th>Exterior1st_Hard Board</th>\n      <th>Exterior1st_Imitation Stucco</th>\n      <th>Exterior1st_Metal Siding</th>\n      <th>Exterior1st_Plywood</th>\n      <th>Exterior1st_Stucco</th>\n      <th>Exterior1st_Vinyl Siding</th>\n      <th>Exterior1st_Wood Shingles</th>\n      <th>Exterior1st_Wood Siding</th>\n      <th>Exterior1st_nan</th>\n    </tr>\n  </thead>\n  <tbody>\n    <tr>\n      <th>165</th>\n      <td>1.223200</td>\n      <td>0.000000</td>\n      <td>-2.713342e+00</td>\n      <td>0.149527</td>\n      <td>0.251161</td>\n      <td>4.169153</td>\n      <td>-0.117502</td>\n      <td>-0.044151</td>\n      <td>-0.099112</td>\n      <td>-0.206389</td>\n      <td>...</td>\n      <td>-0.176333</td>\n      <td>-0.416552</td>\n      <td>-0.031204</td>\n      <td>-0.392122</td>\n      <td>-0.280533</td>\n      <td>-0.129673</td>\n      <td>-0.720044</td>\n      <td>-0.144409</td>\n      <td>2.487732</td>\n      <td>-0.211460</td>\n    </tr>\n    <tr>\n      <th>73</th>\n      <td>0.136138</td>\n      <td>-0.066189</td>\n      <td>1.164953e+00</td>\n      <td>-0.916721</td>\n      <td>0.251161</td>\n      <td>0.100505</td>\n      <td>-0.117502</td>\n      <td>-0.044151</td>\n      <td>-0.099112</td>\n      <td>-0.206389</td>\n      <td>...</td>\n      <td>-0.176333</td>\n      <td>-0.416552</td>\n      <td>-0.031204</td>\n      <td>-0.392122</td>\n      <td>-0.280533</td>\n      <td>-0.129673</td>\n      <td>1.388803</td>\n      <td>-0.144409</td>\n      <td>-0.401973</td>\n      <td>-0.211460</td>\n    </tr>\n    <tr>\n      <th>431</th>\n      <td>-0.121866</td>\n      <td>-0.066189</td>\n      <td>7.530990e-01</td>\n      <td>-0.543660</td>\n      <td>0.251161</td>\n      <td>0.398502</td>\n      <td>-0.117502</td>\n      <td>-0.044151</td>\n      <td>-0.099112</td>\n      <td>-0.206389</td>\n      <td>...</td>\n      <td>-0.176333</td>\n      <td>2.400658</td>\n      <td>-0.031204</td>\n      <td>-0.392122</td>\n      <td>-0.280533</td>\n      <td>-0.129673</td>\n      <td>-0.720044</td>\n      <td>-0.144409</td>\n      <td>-0.401973</td>\n      <td>-0.211460</td>\n    </tr>\n    <tr>\n      <th>448</th>\n      <td>0.168832</td>\n      <td>-0.820747</td>\n      <td>-7.803736e-15</td>\n      <td>1.099824</td>\n      <td>0.251161</td>\n      <td>-0.050480</td>\n      <td>-0.117502</td>\n      <td>-0.044151</td>\n      <td>-0.099112</td>\n      <td>-0.206389</td>\n      <td>...</td>\n      <td>-0.176333</td>\n      <td>-0.416552</td>\n      <td>-0.031204</td>\n      <td>-0.392122</td>\n      <td>-0.280533</td>\n      <td>-0.129673</td>\n      <td>-0.720044</td>\n      <td>-0.144409</td>\n      <td>-0.401973</td>\n      <td>4.729021</td>\n    </tr>\n    <tr>\n      <th>857</th>\n      <td>0.049283</td>\n      <td>-0.066189</td>\n      <td>-4.481427e-01</td>\n      <td>0.343620</td>\n      <td>0.251161</td>\n      <td>-0.189545</td>\n      <td>-0.117502</td>\n      <td>-0.044151</td>\n      <td>-0.099112</td>\n      <td>-0.206389</td>\n      <td>...</td>\n      <td>-0.176333</td>\n      <td>-0.416552</td>\n      <td>-0.031204</td>\n      <td>2.550225</td>\n      <td>-0.280533</td>\n      <td>-0.129673</td>\n      <td>-0.720044</td>\n      <td>-0.144409</td>\n      <td>-0.401973</td>\n      <td>-0.211460</td>\n    </tr>\n  </tbody>\n</table>\n<p>5 rows × 46 columns</p>\n</div>"
     },
     "execution_count": 4,
     "metadata": {},
     "output_type": "execute_result"
    }
   ],
   "source": [
    "from pyreal.transformers import OneHotEncoder, MultiTypeImputer, StandardScaler, fit_transformers\n",
    "\n",
    "oh_encoder = OneHotEncoder(columns=[\"Neighborhood\", \"Exterior1st\"], handle_unknown=\"ignore\")\n",
    "imputer = MultiTypeImputer()\n",
    "scaler = StandardScaler()\n",
    "\n",
    "transformers = [oh_encoder, imputer, scaler]\n",
    "fit_transformers(transformers, X_train_orig).head()"
   ],
   "metadata": {
    "collapsed": false,
    "ExecuteTime": {
     "end_time": "2024-03-19T14:15:45.705458Z",
     "start_time": "2024-03-19T14:15:45.670027Z"
    }
   },
   "id": "da666fc9d0b86df6",
   "execution_count": 4
  },
  {
   "cell_type": "markdown",
   "source": [
    "## Modelling\n",
    "\n",
    "We can now transform our training and testing data, and initialize, train, and evaluate our ML model."
   ],
   "metadata": {
    "collapsed": false
   },
   "id": "e6249bff7ce879d4"
  },
  {
   "cell_type": "code",
   "outputs": [
    {
     "name": "stdout",
     "output_type": "stream",
     "text": [
      "0.8413540333073528\n"
     ]
    },
    {
     "data": {
      "text/plain": "0.955077097301512"
     },
     "execution_count": 18,
     "metadata": {},
     "output_type": "execute_result"
    }
   ],
   "source": [
    "from pyreal.transformers import run_transformers\n",
    "from lightgbm import LGBMRegressor\n",
    "\n",
    "X_train_model = run_transformers(transformers, X_train_orig)\n",
    "X_test_model = run_transformers(transformers, X_test_orig)\n",
    "\n",
    "model = LGBMRegressor().fit(X_train_model, y_train)\n",
    "\n",
    "print(model.score(X_test_model, y_test))\n",
    "model.score(X_train_model, y_train)"
   ],
   "metadata": {
    "collapsed": false,
    "ExecuteTime": {
     "end_time": "2024-03-19T14:17:31.544024Z",
     "start_time": "2024-03-19T14:17:31.457765Z"
    }
   },
   "id": "834ff0a3692c0d27",
   "execution_count": 18
  },
  {
   "cell_type": "code",
   "outputs": [],
   "source": [],
   "metadata": {
    "collapsed": false,
    "ExecuteTime": {
     "end_time": "2024-03-19T14:15:45.819536Z",
     "start_time": "2024-03-19T14:15:45.817009Z"
    }
   },
   "id": "d0d2aed2a921365",
   "execution_count": 5
  }
 ],
 "metadata": {
  "kernelspec": {
   "display_name": "Python 3",
   "language": "python",
   "name": "python3"
  },
  "language_info": {
   "codemirror_mode": {
    "name": "ipython",
    "version": 2
   },
   "file_extension": ".py",
   "mimetype": "text/x-python",
   "name": "python",
   "nbconvert_exporter": "python",
   "pygments_lexer": "ipython2",
   "version": "2.7.6"
  }
 },
 "nbformat": 4,
 "nbformat_minor": 5
}
