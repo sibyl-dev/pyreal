{
 "cells": [
  {
   "cell_type": "markdown",
   "source": [
    "# Migrating to Pyreal\n",
    "\n",
    "In this tutorial, we'll go through an example of migrating your existing ML pipeline to Pyreal, \n",
    "so you can start getting explanations and using your model more effectively.\n",
    "\n",
    "## Tutorial goals\n",
    "1. Learn how to migrate your existing data transformers to the Pyreal framework\n",
    "2. Learn how to create a `RealApp` from an existing model\n",
    "3. Learn how to use your new `RealApp` to interact with and understand your ML model\n",
    "\n",
    "In this tutorial, we will use the [Titanic dataset](https://www.kaggle.com/c/titanic/data)"
   ],
   "metadata": {
    "collapsed": false
   },
   "id": "4ee31a0d7d123f9e"
  },
  {
   "cell_type": "markdown",
   "source": [
    "## Problem setup\n",
    "\n",
    "In this tutorial, we will assume you have the following inputs:\n",
    "1. A pretrained ML model (an object with a `.predict()` method, that takes in input data and outputs a prediction)\n",
    "2. A dataset (a pandas DataFrame) used that train explanation methods\n",
    "3. Input data that you'd like to get predictions and explanations for\n",
    "4. Optionally, data transformers used to transform the dataset and input data into the feature space expected by the ML model.\n",
    "\n",
    "We will go through two examples of migrating to Pyreal: first, using the `from_sklearn` function, useful \n",
    "when your original inputs use an sklearn pipeline, and second using the Pyreal transformer module to manually \n",
    "wrap your transformers.\n",
    "\n",
    "## Migrating from Sklearn Pipelines\n",
    "\n",
    "In this example, we will demonstrate migrating to Pyreal from an sklearn pipeline using the `from_sklearn` function.\n",
    "In the code cell below, we set up a basic sklearn pipeline that uses the Titanic dataset to predict survival.\n"
   ],
   "metadata": {
    "collapsed": false
   },
   "id": "349bbcb4b316f4da"
  },
  {
   "cell_type": "code",
   "outputs": [
    {
     "data": {
      "text/plain": "Pipeline(steps=[('preprocessor',\n                 ColumnTransformer(transformers=[('column_dropper', 'drop',\n                                                  ['PassengerId', 'Name',\n                                                   'Ticket', 'Cabin']),\n                                                 ('mean_imputer',\n                                                  SimpleImputer(),\n                                                  ['Pclass', 'Age', 'SibSp',\n                                                   'Parch', 'Fare']),\n                                                 ('categorical_transformer',\n                                                  Pipeline(steps=[('imputer',\n                                                                   SimpleImputer(strategy='most_frequent')),\n                                                                  ('onehot',\n                                                                   OneHotEncoder(sparse_output=False))]),\n                                                  ['Sex', 'Embarked'])])),\n                ('model', GradientBoostingClassifier())])",
      "text/html": "<style>#sk-container-id-1 {color: black;}#sk-container-id-1 pre{padding: 0;}#sk-container-id-1 div.sk-toggleable {background-color: white;}#sk-container-id-1 label.sk-toggleable__label {cursor: pointer;display: block;width: 100%;margin-bottom: 0;padding: 0.3em;box-sizing: border-box;text-align: center;}#sk-container-id-1 label.sk-toggleable__label-arrow:before {content: \"▸\";float: left;margin-right: 0.25em;color: #696969;}#sk-container-id-1 label.sk-toggleable__label-arrow:hover:before {color: black;}#sk-container-id-1 div.sk-estimator:hover label.sk-toggleable__label-arrow:before {color: black;}#sk-container-id-1 div.sk-toggleable__content {max-height: 0;max-width: 0;overflow: hidden;text-align: left;background-color: #f0f8ff;}#sk-container-id-1 div.sk-toggleable__content pre {margin: 0.2em;color: black;border-radius: 0.25em;background-color: #f0f8ff;}#sk-container-id-1 input.sk-toggleable__control:checked~div.sk-toggleable__content {max-height: 200px;max-width: 100%;overflow: auto;}#sk-container-id-1 input.sk-toggleable__control:checked~label.sk-toggleable__label-arrow:before {content: \"▾\";}#sk-container-id-1 div.sk-estimator input.sk-toggleable__control:checked~label.sk-toggleable__label {background-color: #d4ebff;}#sk-container-id-1 div.sk-label input.sk-toggleable__control:checked~label.sk-toggleable__label {background-color: #d4ebff;}#sk-container-id-1 input.sk-hidden--visually {border: 0;clip: rect(1px 1px 1px 1px);clip: rect(1px, 1px, 1px, 1px);height: 1px;margin: -1px;overflow: hidden;padding: 0;position: absolute;width: 1px;}#sk-container-id-1 div.sk-estimator {font-family: monospace;background-color: #f0f8ff;border: 1px dotted black;border-radius: 0.25em;box-sizing: border-box;margin-bottom: 0.5em;}#sk-container-id-1 div.sk-estimator:hover {background-color: #d4ebff;}#sk-container-id-1 div.sk-parallel-item::after {content: \"\";width: 100%;border-bottom: 1px solid gray;flex-grow: 1;}#sk-container-id-1 div.sk-label:hover label.sk-toggleable__label {background-color: #d4ebff;}#sk-container-id-1 div.sk-serial::before {content: \"\";position: absolute;border-left: 1px solid gray;box-sizing: border-box;top: 0;bottom: 0;left: 50%;z-index: 0;}#sk-container-id-1 div.sk-serial {display: flex;flex-direction: column;align-items: center;background-color: white;padding-right: 0.2em;padding-left: 0.2em;position: relative;}#sk-container-id-1 div.sk-item {position: relative;z-index: 1;}#sk-container-id-1 div.sk-parallel {display: flex;align-items: stretch;justify-content: center;background-color: white;position: relative;}#sk-container-id-1 div.sk-item::before, #sk-container-id-1 div.sk-parallel-item::before {content: \"\";position: absolute;border-left: 1px solid gray;box-sizing: border-box;top: 0;bottom: 0;left: 50%;z-index: -1;}#sk-container-id-1 div.sk-parallel-item {display: flex;flex-direction: column;z-index: 1;position: relative;background-color: white;}#sk-container-id-1 div.sk-parallel-item:first-child::after {align-self: flex-end;width: 50%;}#sk-container-id-1 div.sk-parallel-item:last-child::after {align-self: flex-start;width: 50%;}#sk-container-id-1 div.sk-parallel-item:only-child::after {width: 0;}#sk-container-id-1 div.sk-dashed-wrapped {border: 1px dashed gray;margin: 0 0.4em 0.5em 0.4em;box-sizing: border-box;padding-bottom: 0.4em;background-color: white;}#sk-container-id-1 div.sk-label label {font-family: monospace;font-weight: bold;display: inline-block;line-height: 1.2em;}#sk-container-id-1 div.sk-label-container {text-align: center;}#sk-container-id-1 div.sk-container {/* jupyter's `normalize.less` sets `[hidden] { display: none; }` but bootstrap.min.css set `[hidden] { display: none !important; }` so we also need the `!important` here to be able to override the default hidden behavior on the sphinx rendered scikit-learn.org. See: https://github.com/scikit-learn/scikit-learn/issues/21755 */display: inline-block !important;position: relative;}#sk-container-id-1 div.sk-text-repr-fallback {display: none;}</style><div id=\"sk-container-id-1\" class=\"sk-top-container\"><div class=\"sk-text-repr-fallback\"><pre>Pipeline(steps=[(&#x27;preprocessor&#x27;,\n                 ColumnTransformer(transformers=[(&#x27;column_dropper&#x27;, &#x27;drop&#x27;,\n                                                  [&#x27;PassengerId&#x27;, &#x27;Name&#x27;,\n                                                   &#x27;Ticket&#x27;, &#x27;Cabin&#x27;]),\n                                                 (&#x27;mean_imputer&#x27;,\n                                                  SimpleImputer(),\n                                                  [&#x27;Pclass&#x27;, &#x27;Age&#x27;, &#x27;SibSp&#x27;,\n                                                   &#x27;Parch&#x27;, &#x27;Fare&#x27;]),\n                                                 (&#x27;categorical_transformer&#x27;,\n                                                  Pipeline(steps=[(&#x27;imputer&#x27;,\n                                                                   SimpleImputer(strategy=&#x27;most_frequent&#x27;)),\n                                                                  (&#x27;onehot&#x27;,\n                                                                   OneHotEncoder(sparse_output=False))]),\n                                                  [&#x27;Sex&#x27;, &#x27;Embarked&#x27;])])),\n                (&#x27;model&#x27;, GradientBoostingClassifier())])</pre><b>In a Jupyter environment, please rerun this cell to show the HTML representation or trust the notebook. <br />On GitHub, the HTML representation is unable to render, please try loading this page with nbviewer.org.</b></div><div class=\"sk-container\" hidden><div class=\"sk-item sk-dashed-wrapped\"><div class=\"sk-label-container\"><div class=\"sk-label sk-toggleable\"><input class=\"sk-toggleable__control sk-hidden--visually\" id=\"sk-estimator-id-1\" type=\"checkbox\" ><label for=\"sk-estimator-id-1\" class=\"sk-toggleable__label sk-toggleable__label-arrow\">Pipeline</label><div class=\"sk-toggleable__content\"><pre>Pipeline(steps=[(&#x27;preprocessor&#x27;,\n                 ColumnTransformer(transformers=[(&#x27;column_dropper&#x27;, &#x27;drop&#x27;,\n                                                  [&#x27;PassengerId&#x27;, &#x27;Name&#x27;,\n                                                   &#x27;Ticket&#x27;, &#x27;Cabin&#x27;]),\n                                                 (&#x27;mean_imputer&#x27;,\n                                                  SimpleImputer(),\n                                                  [&#x27;Pclass&#x27;, &#x27;Age&#x27;, &#x27;SibSp&#x27;,\n                                                   &#x27;Parch&#x27;, &#x27;Fare&#x27;]),\n                                                 (&#x27;categorical_transformer&#x27;,\n                                                  Pipeline(steps=[(&#x27;imputer&#x27;,\n                                                                   SimpleImputer(strategy=&#x27;most_frequent&#x27;)),\n                                                                  (&#x27;onehot&#x27;,\n                                                                   OneHotEncoder(sparse_output=False))]),\n                                                  [&#x27;Sex&#x27;, &#x27;Embarked&#x27;])])),\n                (&#x27;model&#x27;, GradientBoostingClassifier())])</pre></div></div></div><div class=\"sk-serial\"><div class=\"sk-item sk-dashed-wrapped\"><div class=\"sk-label-container\"><div class=\"sk-label sk-toggleable\"><input class=\"sk-toggleable__control sk-hidden--visually\" id=\"sk-estimator-id-2\" type=\"checkbox\" ><label for=\"sk-estimator-id-2\" class=\"sk-toggleable__label sk-toggleable__label-arrow\">preprocessor: ColumnTransformer</label><div class=\"sk-toggleable__content\"><pre>ColumnTransformer(transformers=[(&#x27;column_dropper&#x27;, &#x27;drop&#x27;,\n                                 [&#x27;PassengerId&#x27;, &#x27;Name&#x27;, &#x27;Ticket&#x27;, &#x27;Cabin&#x27;]),\n                                (&#x27;mean_imputer&#x27;, SimpleImputer(),\n                                 [&#x27;Pclass&#x27;, &#x27;Age&#x27;, &#x27;SibSp&#x27;, &#x27;Parch&#x27;, &#x27;Fare&#x27;]),\n                                (&#x27;categorical_transformer&#x27;,\n                                 Pipeline(steps=[(&#x27;imputer&#x27;,\n                                                  SimpleImputer(strategy=&#x27;most_frequent&#x27;)),\n                                                 (&#x27;onehot&#x27;,\n                                                  OneHotEncoder(sparse_output=False))]),\n                                 [&#x27;Sex&#x27;, &#x27;Embarked&#x27;])])</pre></div></div></div><div class=\"sk-parallel\"><div class=\"sk-parallel-item\"><div class=\"sk-item\"><div class=\"sk-label-container\"><div class=\"sk-label sk-toggleable\"><input class=\"sk-toggleable__control sk-hidden--visually\" id=\"sk-estimator-id-3\" type=\"checkbox\" ><label for=\"sk-estimator-id-3\" class=\"sk-toggleable__label sk-toggleable__label-arrow\">column_dropper</label><div class=\"sk-toggleable__content\"><pre>[&#x27;PassengerId&#x27;, &#x27;Name&#x27;, &#x27;Ticket&#x27;, &#x27;Cabin&#x27;]</pre></div></div></div><div class=\"sk-serial\"><div class=\"sk-item\"><div class=\"sk-estimator sk-toggleable\"><input class=\"sk-toggleable__control sk-hidden--visually\" id=\"sk-estimator-id-4\" type=\"checkbox\" ><label for=\"sk-estimator-id-4\" class=\"sk-toggleable__label sk-toggleable__label-arrow\">drop</label><div class=\"sk-toggleable__content\"><pre>drop</pre></div></div></div></div></div></div><div class=\"sk-parallel-item\"><div class=\"sk-item\"><div class=\"sk-label-container\"><div class=\"sk-label sk-toggleable\"><input class=\"sk-toggleable__control sk-hidden--visually\" id=\"sk-estimator-id-5\" type=\"checkbox\" ><label for=\"sk-estimator-id-5\" class=\"sk-toggleable__label sk-toggleable__label-arrow\">mean_imputer</label><div class=\"sk-toggleable__content\"><pre>[&#x27;Pclass&#x27;, &#x27;Age&#x27;, &#x27;SibSp&#x27;, &#x27;Parch&#x27;, &#x27;Fare&#x27;]</pre></div></div></div><div class=\"sk-serial\"><div class=\"sk-item\"><div class=\"sk-estimator sk-toggleable\"><input class=\"sk-toggleable__control sk-hidden--visually\" id=\"sk-estimator-id-6\" type=\"checkbox\" ><label for=\"sk-estimator-id-6\" class=\"sk-toggleable__label sk-toggleable__label-arrow\">SimpleImputer</label><div class=\"sk-toggleable__content\"><pre>SimpleImputer()</pre></div></div></div></div></div></div><div class=\"sk-parallel-item\"><div class=\"sk-item\"><div class=\"sk-label-container\"><div class=\"sk-label sk-toggleable\"><input class=\"sk-toggleable__control sk-hidden--visually\" id=\"sk-estimator-id-7\" type=\"checkbox\" ><label for=\"sk-estimator-id-7\" class=\"sk-toggleable__label sk-toggleable__label-arrow\">categorical_transformer</label><div class=\"sk-toggleable__content\"><pre>[&#x27;Sex&#x27;, &#x27;Embarked&#x27;]</pre></div></div></div><div class=\"sk-serial\"><div class=\"sk-item\"><div class=\"sk-serial\"><div class=\"sk-item\"><div class=\"sk-estimator sk-toggleable\"><input class=\"sk-toggleable__control sk-hidden--visually\" id=\"sk-estimator-id-8\" type=\"checkbox\" ><label for=\"sk-estimator-id-8\" class=\"sk-toggleable__label sk-toggleable__label-arrow\">SimpleImputer</label><div class=\"sk-toggleable__content\"><pre>SimpleImputer(strategy=&#x27;most_frequent&#x27;)</pre></div></div></div><div class=\"sk-item\"><div class=\"sk-estimator sk-toggleable\"><input class=\"sk-toggleable__control sk-hidden--visually\" id=\"sk-estimator-id-9\" type=\"checkbox\" ><label for=\"sk-estimator-id-9\" class=\"sk-toggleable__label sk-toggleable__label-arrow\">OneHotEncoder</label><div class=\"sk-toggleable__content\"><pre>OneHotEncoder(sparse_output=False)</pre></div></div></div></div></div></div></div></div></div></div><div class=\"sk-item\"><div class=\"sk-estimator sk-toggleable\"><input class=\"sk-toggleable__control sk-hidden--visually\" id=\"sk-estimator-id-10\" type=\"checkbox\" ><label for=\"sk-estimator-id-10\" class=\"sk-toggleable__label sk-toggleable__label-arrow\">GradientBoostingClassifier</label><div class=\"sk-toggleable__content\"><pre>GradientBoostingClassifier()</pre></div></div></div></div></div></div></div>"
     },
     "execution_count": 1,
     "metadata": {},
     "output_type": "execute_result"
    }
   ],
   "source": [
    "from pyreal.sample_applications import titanic\n",
    "\n",
    "from sklearn.compose import ColumnTransformer\n",
    "from sklearn.impute import SimpleImputer\n",
    "from sklearn.ensemble import GradientBoostingClassifier\n",
    "from sklearn.pipeline import Pipeline\n",
    "from sklearn.preprocessing import OneHotEncoder\n",
    "\n",
    "# Define the column transformer\n",
    "categorical_transforms = Pipeline(steps=[('imputer', SimpleImputer(strategy='most_frequent')),\n",
    "                                         ('onehot', OneHotEncoder(sparse_output=False))])\n",
    "preprocessor = ColumnTransformer(\n",
    "    transformers=[\n",
    "        ('column_dropper', 'drop', [\"PassengerId\", \"Name\", \"Ticket\", \"Cabin\"]),  # Drop columns\n",
    "        ('mean_imputer', SimpleImputer(strategy='mean'), [\"Pclass\", \"Age\", \"SibSp\", \"Parch\", \"Fare\"]),  # Impute with mean\n",
    "        ('categorical_transformer', categorical_transforms, [\"Sex\", \"Embarked\"])\n",
    "    ]\n",
    ")\n",
    "\n",
    "# Define the pipeline\n",
    "pipeline = Pipeline([\n",
    "    ('preprocessor', preprocessor),\n",
    "    ('model', GradientBoostingClassifier())  # Step 5: Logistic Regression\n",
    "])\n",
    "\n",
    "X_train, y_train = titanic.load_data(include_targets=True)\n",
    "pipeline.fit(X_train, y_train)"
   ],
   "metadata": {
    "collapsed": true,
    "ExecuteTime": {
     "end_time": "2024-03-07T15:50:15.979820Z",
     "start_time": "2024-03-07T15:50:13.873507600Z"
    }
   },
   "id": "initial_id",
   "execution_count": 1
  },
  {
   "cell_type": "markdown",
   "source": [
    "For simple sklearn pipelines like this one, you can quickly migrate the pipeline to Pyreal using the `from_sklearn` function, as shown below.\n",
    "We set the verbosity to 1, so we can review the transformers created and ensure they make sense.\n",
    "\n",
    "See the final section of this tutorial for examples of using the resulting RealApp object."
   ],
   "metadata": {
    "collapsed": false
   },
   "id": "34fe79e162b3f880"
  },
  {
   "cell_type": "code",
   "outputs": [
    {
     "name": "stdout",
     "output_type": "stream",
     "text": [
      "Adding ColumnDropTransformer for columns ['PassengerId', 'Name', 'Ticket', 'Cabin']\n",
      "Adding SimpleImputer() for columns ['Pclass', 'Age', 'SibSp', 'Parch', 'Fare']\n",
      "Adding SimpleImputer(strategy='most_frequent') for columns ['Sex', 'Embarked']\n",
      "Adding OneHotEncoder for columns ['Sex', 'Embarked']\n",
      "Skipping step GradientBoostingClassifier() as it does not appear to be a transformer\n"
     ]
    }
   ],
   "source": [
    "from pyreal import RealApp\n",
    "\n",
    "real_app = RealApp.from_sklearn(pipeline, X_train=X_train, y_train=y_train, verbose=1)"
   ],
   "metadata": {
    "collapsed": false,
    "ExecuteTime": {
     "end_time": "2024-03-07T15:50:16.045063500Z",
     "start_time": "2024-03-07T15:50:15.980822100Z"
    }
   },
   "id": "d64ad53008151e5b",
   "execution_count": 2
  },
  {
   "cell_type": "markdown",
   "source": [
    "## Manually setting up Pyreal transformers\n",
    "\n",
    "In some cases, the `from_sklearn` function may not be able to infer the correct transformers from your sklearn pipeline.\n",
    "In particular, this will happen if your code uses custom transformers that add, remove, or aggregate features and are not currently supported by Pyreal by default.\n",
    "\n",
    "Additionally, you may have your transformers in a different format than an sklearn pipeline. In these cases, you can set up your app by manually creating Pyreal transformers.\n",
    "For each data transformer, there are three possibilities:\n",
    "\n",
    "1. If an equivalent transformer exists in Pyreal, you can use the Pyreal transformer directly. This is recommended when possible as using Pyreal transformers will result in more interpretable explanations. See the [Pyreal transformer documentation](https://sibyl-ml.dev/pyreal/api_reference/transformer.html) for the full list of supported transformers.\n"
   ],
   "metadata": {
    "collapsed": false
   },
   "id": "e54a464af0fdba4a"
  },
  {
   "cell_type": "code",
   "outputs": [],
   "source": [
    "from pyreal.transformers import OneHotEncoder, ColumnDropTransformer\n",
    "\n",
    "column_dropper = ColumnDropTransformer(columns=[\"PassengerId\", \"Name\", \"Ticket\", \"Cabin\"])\n",
    "one_hot_encoder = OneHotEncoder(columns=[\"Sex\", \"Embarked\"])"
   ],
   "metadata": {
    "collapsed": false,
    "ExecuteTime": {
     "end_time": "2024-03-07T15:50:16.045063500Z",
     "start_time": "2024-03-07T15:50:16.027625100Z"
    }
   },
   "id": "2c4a984472dd894c",
   "execution_count": 3
  },
  {
   "cell_type": "markdown",
   "source": [
    "2. For simple transformations that operate on a single feature, you can use the [`pyreal.Transformer`](https://sibyl-ml.dev/pyreal/api_reference/api/pyreal.transformers.Transformer.html#pyreal.transformers.Transformer) class to wrap your transformer. "
   ],
   "metadata": {
    "collapsed": false
   },
   "id": "a83988fdb5aa0dd2"
  },
  {
   "cell_type": "code",
   "outputs": [],
   "source": [
    "from pyreal.transformers import Transformer\n",
    "\n",
    "# Assuming your transformer is an object with a .transform() method, you can use:\n",
    "#      pyreal.Transformer(transformer, columns=COLUMNS_TO_OPERATE_ON)\n",
    "categorical_imputer = Transformer(categorical_transforms['imputer'], columns=[\"Sex\", \"Embarked\"])\n",
    "\n",
    "# If instead your transformer is a function that takes in data and returns the transformed data, you can instead use:\n",
    "#      pyreal.Transformer.from_transform_function(transform_function)\n",
    "def numeric_impute(x):\n",
    "    x_trans = x.copy()\n",
    "    x_trans[[\"Pclass\", \"Age\", \"SibSp\", \"Parch\", \"Fare\"]].fillna(x[[\"Pclass\", \"Age\", \"SibSp\", \"Parch\", \"Fare\"]].mean())\n",
    "    return x_trans\n",
    "\n",
    "numeric_imputer = Transformer.from_transform_function(numeric_impute)"
   ],
   "metadata": {
    "collapsed": false,
    "ExecuteTime": {
     "end_time": "2024-03-07T15:50:16.085813300Z",
     "start_time": "2024-03-07T15:50:16.046074400Z"
    }
   },
   "id": "a65e9a9187ccc5ef",
   "execution_count": 4
  },
  {
   "cell_type": "markdown",
   "source": [
    "3. For more complex data transformations that add, remove, or aggregrate features, you can still use the options in step 2 but will need to make sure your original transform() function takes in and returns data as a pandas dataframe. Alternatively, you can extend the `TransformerBase` class to create your own custom Pyreal transformer. See the [custom transformer tutorial](https://github.com/sibyl-dev/pyreal/blob/dev/tutorials/custom_transformers.ipynb) for more details on this process.\n",
    "\n",
    "Once you have your pyreal transformers set up, you can initialize your RealApp object:"
   ],
   "metadata": {
    "collapsed": false
   },
   "id": "df6bde83568e157"
  },
  {
   "cell_type": "code",
   "outputs": [],
   "source": [
    "from pyreal.transformers import fit_transformers\n",
    "\n",
    "transformers = [column_dropper, categorical_imputer, numeric_imputer, one_hot_encoder]\n",
    "fit_transformers(transformers, X_train)\n",
    "\n",
    "# We define a functions to present the predictions in a more readable format\n",
    "pred_format_func=lambda x: \"Survived\" if x else \"Died\"\n",
    "real_app = RealApp(pipeline['model'], transformers=transformers, X_train_orig=X_train, y_train=y_train, pred_format_func=pred_format_func)"
   ],
   "metadata": {
    "collapsed": false,
    "ExecuteTime": {
     "end_time": "2024-03-07T15:51:30.319600100Z",
     "start_time": "2024-03-07T15:51:30.298755200Z"
    }
   },
   "id": "8acddfb24281ff6c",
   "execution_count": 8
  },
  {
   "cell_type": "markdown",
   "source": [
    "## Using the RealApp object\n",
    "Now that your RealApp is set up, you can get model predictions and generate explanations."
   ],
   "metadata": {
    "collapsed": false
   },
   "id": "579875c727196b88"
  },
  {
   "cell_type": "code",
   "outputs": [
    {
     "name": "stdout",
     "output_type": "stream",
     "text": [
      "Predictions: {0: 'Died', 1: 'Survived', 2: 'Died'}\n"
     ]
    },
    {
     "name": "stderr",
     "output_type": "stream",
     "text": [
      "X has feature names, but GradientBoostingClassifier was fitted without feature names\n"
     ]
    },
    {
     "data": {
      "text/plain": "            Feature Name  Importance\nPassengerId  PassengerId    0.000000\nPclass            Pclass    0.561018\nName                Name    0.000000\nSex                  Sex    0.906257\nAge                  Age    1.234344",
      "text/html": "<div>\n<style scoped>\n    .dataframe tbody tr th:only-of-type {\n        vertical-align: middle;\n    }\n\n    .dataframe tbody tr th {\n        vertical-align: top;\n    }\n\n    .dataframe thead th {\n        text-align: right;\n    }\n</style>\n<table border=\"1\" class=\"dataframe\">\n  <thead>\n    <tr style=\"text-align: right;\">\n      <th></th>\n      <th>Feature Name</th>\n      <th>Importance</th>\n    </tr>\n  </thead>\n  <tbody>\n    <tr>\n      <th>PassengerId</th>\n      <td>PassengerId</td>\n      <td>0.000000</td>\n    </tr>\n    <tr>\n      <th>Pclass</th>\n      <td>Pclass</td>\n      <td>0.561018</td>\n    </tr>\n    <tr>\n      <th>Name</th>\n      <td>Name</td>\n      <td>0.000000</td>\n    </tr>\n    <tr>\n      <th>Sex</th>\n      <td>Sex</td>\n      <td>0.906257</td>\n    </tr>\n    <tr>\n      <th>Age</th>\n      <td>Age</td>\n      <td>1.234344</td>\n    </tr>\n  </tbody>\n</table>\n</div>"
     },
     "metadata": {},
     "output_type": "display_data"
    },
    {
     "data": {
      "text/plain": "<Figure size 640x480 with 1 Axes>",
      "image/png": "[encoded data removed]"
     },
     "metadata": {},
     "output_type": "display_data"
    }
   ],
   "source": [
    "from pyreal.visualize import feature_bar_plot\n",
    "\n",
    "passengers_of_interest = X_train.iloc[0:3]\n",
    "\n",
    "# Get model predictions\n",
    "predictions = real_app.predict(passengers_of_interest)\n",
    "print(\"Predictions:\", predictions)\n",
    "\n",
    "# Get global importance\n",
    "importance = real_app.produce_feature_importance()\n",
    "display(importance.head())\n",
    "\n",
    "# Get local contributions\n",
    "contributions = real_app.produce_feature_contributions(passengers_of_interest)\n",
    "feature_bar_plot(contributions[0], prediction=predictions[0])"
   ],
   "metadata": {
    "collapsed": false,
    "ExecuteTime": {
     "end_time": "2024-03-07T15:53:00.408025600Z",
     "start_time": "2024-03-07T15:53:00.259797700Z"
    }
   },
   "id": "f11d3a1705fb0875",
   "execution_count": 14
  },
  {
   "cell_type": "code",
   "outputs": [],
   "source": [],
   "metadata": {
    "collapsed": false,
    "ExecuteTime": {
     "end_time": "2024-03-07T15:50:16.151676500Z",
     "start_time": "2024-03-07T15:50:16.124419300Z"
    }
   },
   "id": "47cc0afdc55ef06",
   "execution_count": 6
  }
 ],
 "metadata": {
  "kernelspec": {
   "display_name": "Python 3",
   "language": "python",
   "name": "python3"
  },
  "language_info": {
   "codemirror_mode": {
    "name": "ipython",
    "version": 2
   },
   "file_extension": ".py",
   "mimetype": "text/x-python",
   "name": "python",
   "nbconvert_exporter": "python",
   "pygments_lexer": "ipython2",
   "version": "2.7.6"
  }
 },
 "nbformat": 4,
 "nbformat_minor": 5
}
