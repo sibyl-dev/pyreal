{
 "cells": [
  {
   "cell_type": "markdown",
   "metadata": {
    "id": "kr9Ut95fpCN5"
   },
   "source": [
    "# Using Custom Transformers in Pyreal\n",
    "\n",
    "In this tutorial, we will be using Pyreal to investigate the California Housing Dataset.\n",
    "\n",
    "In order to generate useful explanations, we will making a few custom transformers, with functionality specific to this use-case."
   ]
  },
  {
   "cell_type": "markdown",
   "metadata": {},
   "source": [
    "## Data Loading\n",
    "\n",
    "This dataset includes 9 predictor variables, and one target variable. Each row in the dataset refers to a block of houses in California. The target variable is the median house value in this block.\n",
    "\n",
    "**Run the cell below to load in the California Housing Dataset.**"
   ]
  },
  {
   "cell_type": "code",
   "execution_count": 1,
   "metadata": {
    "id": "jo606ew7GUGS",
    "ExecuteTime": {
     "start_time": "2023-08-10T21:34:06.003473300Z"
    }
   },
   "outputs": [
    {
     "name": "stderr",
     "output_type": "stream",
     "text": [
      "Using `tqdm.autonotebook.tqdm` in notebook mode. Use `tqdm.tqdm` instead to force console mode (e.g. in jupyter console)\n"
     ]
    },
    {
     "data": {
      "text/plain": "      longitude  latitude  housing_median_age  total_rooms  total_bedrooms  \\\n1763    -122.34     37.95                  45         1128           240.0   \n2673    -115.62     33.04                  20         1121           244.0   \n2271    -119.80     36.78                  43         2382           431.0   \n2412    -119.45     36.61                  24         1302             NaN   \n2768    -115.94     33.38                   5          186            43.0   \n4428    -118.22     34.09                  40         1081           282.0   \n4536    -118.21     34.03                  52          497           132.0   \n689     -122.12     37.70                  41         3495           787.0   \n3185    -119.79     36.30                  16         1717           277.0   \n2159    -119.81     36.77                  48         1805           329.0   \n\n      population  households  median_income ocean_proximity  \n1763         702         270         3.6719        NEAR BAY  \n2673         766         230         2.2969          INLAND  \n2271         874         380         3.5542          INLAND  \n2412         693         243         3.7917          INLAND  \n2768          41          21         2.7000          INLAND  \n4428         970         263         1.8750       <1H OCEAN  \n4536         547         121         2.2083       <1H OCEAN  \n689         1849         750         2.6790        NEAR BAY  \n3185         903         289         4.3438          INLAND  \n2159         741         331         2.5804          INLAND  ",
      "text/html": "<div>\n<style scoped>\n    .dataframe tbody tr th:only-of-type {\n        vertical-align: middle;\n    }\n\n    .dataframe tbody tr th {\n        vertical-align: top;\n    }\n\n    .dataframe thead th {\n        text-align: right;\n    }\n</style>\n<table border=\"1\" class=\"dataframe\">\n  <thead>\n    <tr style=\"text-align: right;\">\n      <th></th>\n      <th>longitude</th>\n      <th>latitude</th>\n      <th>housing_median_age</th>\n      <th>total_rooms</th>\n      <th>total_bedrooms</th>\n      <th>population</th>\n      <th>households</th>\n      <th>median_income</th>\n      <th>ocean_proximity</th>\n    </tr>\n  </thead>\n  <tbody>\n    <tr>\n      <th>1763</th>\n      <td>-122.34</td>\n      <td>37.95</td>\n      <td>45</td>\n      <td>1128</td>\n      <td>240.0</td>\n      <td>702</td>\n      <td>270</td>\n      <td>3.6719</td>\n      <td>NEAR BAY</td>\n    </tr>\n    <tr>\n      <th>2673</th>\n      <td>-115.62</td>\n      <td>33.04</td>\n      <td>20</td>\n      <td>1121</td>\n      <td>244.0</td>\n      <td>766</td>\n      <td>230</td>\n      <td>2.2969</td>\n      <td>INLAND</td>\n    </tr>\n    <tr>\n      <th>2271</th>\n      <td>-119.80</td>\n      <td>36.78</td>\n      <td>43</td>\n      <td>2382</td>\n      <td>431.0</td>\n      <td>874</td>\n      <td>380</td>\n      <td>3.5542</td>\n      <td>INLAND</td>\n    </tr>\n    <tr>\n      <th>2412</th>\n      <td>-119.45</td>\n      <td>36.61</td>\n      <td>24</td>\n      <td>1302</td>\n      <td>NaN</td>\n      <td>693</td>\n      <td>243</td>\n      <td>3.7917</td>\n      <td>INLAND</td>\n    </tr>\n    <tr>\n      <th>2768</th>\n      <td>-115.94</td>\n      <td>33.38</td>\n      <td>5</td>\n      <td>186</td>\n      <td>43.0</td>\n      <td>41</td>\n      <td>21</td>\n      <td>2.7000</td>\n      <td>INLAND</td>\n    </tr>\n    <tr>\n      <th>4428</th>\n      <td>-118.22</td>\n      <td>34.09</td>\n      <td>40</td>\n      <td>1081</td>\n      <td>282.0</td>\n      <td>970</td>\n      <td>263</td>\n      <td>1.8750</td>\n      <td>&lt;1H OCEAN</td>\n    </tr>\n    <tr>\n      <th>4536</th>\n      <td>-118.21</td>\n      <td>34.03</td>\n      <td>52</td>\n      <td>497</td>\n      <td>132.0</td>\n      <td>547</td>\n      <td>121</td>\n      <td>2.2083</td>\n      <td>&lt;1H OCEAN</td>\n    </tr>\n    <tr>\n      <th>689</th>\n      <td>-122.12</td>\n      <td>37.70</td>\n      <td>41</td>\n      <td>3495</td>\n      <td>787.0</td>\n      <td>1849</td>\n      <td>750</td>\n      <td>2.6790</td>\n      <td>NEAR BAY</td>\n    </tr>\n    <tr>\n      <th>3185</th>\n      <td>-119.79</td>\n      <td>36.30</td>\n      <td>16</td>\n      <td>1717</td>\n      <td>277.0</td>\n      <td>903</td>\n      <td>289</td>\n      <td>4.3438</td>\n      <td>INLAND</td>\n    </tr>\n    <tr>\n      <th>2159</th>\n      <td>-119.81</td>\n      <td>36.77</td>\n      <td>48</td>\n      <td>1805</td>\n      <td>329.0</td>\n      <td>741</td>\n      <td>331</td>\n      <td>2.5804</td>\n      <td>INLAND</td>\n    </tr>\n  </tbody>\n</table>\n</div>"
     },
     "execution_count": 1,
     "metadata": {},
     "output_type": "execute_result"
    }
   ],
   "source": [
    "import pandas as pd\n",
    "from pyreal.sample_applications import california_housing\n",
    "\n",
    "X, y = california_housing.load_data(n_rows=5000)\n",
    "cities = california_housing.load_city_data()\n",
    "\n",
    "X.sample(10)"
   ]
  },
  {
   "cell_type": "markdown",
   "metadata": {
    "id": "BfmXzJH_HgiP"
   },
   "source": [
    "## Custom Transformers Basics\n",
    "\n",
    "Pyreal generates ML explanations using Explainer objects, which take in data Transformers through their `transformer` parameter. These Transformers take in three flags in their initialization, two of which we will use in this tutorial:\n",
    "\n",
    "- Transformers with a `model=True` flag take data from the original feature space (as we loaded in above) to the feature space used by the model.\n",
    "- Transformers with an `interpret=True` flag take data from the original feature space to a feature space more readable or interpretable by humans.\n",
    "\n",
    "<div class=\"alert alert-block alert-info\" style=\"background-color: white; border: 2px solid; padding: 10px\">\n",
    "    <b><i class=\"fa fa-info-circle\" aria-hidden=\"true\"></i>&nbsp; Note</b><br>\n",
    "    <p style=\"color: black\">\n",
    "         For information about the third transformer flag (<code>algorithm</code>), please see the <a href=\"https://github.com/sibyl-dev/pyreal/blob/dev/tutorials/advanced_explanation_generation.ipynb\">advanced explanation generation tutorial.</a>\n",
    "    </p>\n",
    "</div>\n",
    "\n",
    "The Pyreal `transformer` module has some common transformers available for use, but some use-cases may require you to write your own transformer. This can be done by extending the base `Transformer` class.\n",
    "\n",
    "### Transformer Functions\n",
    "When defining a custom transformer, you will need to consider three types of functions:\n",
    "- `data_transform` (*required*): A single function that transforms the data from space A to B.\n",
    "- `inverse_transform_explanation_XXX` (*optional*): Functions that transform an explanation from space B to A. This type of function only needs to be considered if the transformer is used by the explanation algorithm and leads to the data being more obfuscated/less interpretable (ie, will have the `algorithm` flag set to True and the `interpret` flag set to False)\n",
    "- `transform_explanation_XXX` (*optional*): Functions that transform an explanation from space A to B. This type of function only needs to be considered if the transformer is used to make data and explanations more interpretable than the algorithm-ready state (ie, will have the `algorithm` flag set to False and the `interpret` flag set to True)\n",
    "\n",
    "The `transform_explantion` type functions are written per Explanation output type. For this tutorial, we will consider additive local feature contribution and additive global feature importance explanations. At the end of this tutorial, we will consider some special cases."
   ]
  },
  {
   "cell_type": "markdown",
   "metadata": {
    "id": "ZsXVvpTYaLs7"
   },
   "source": [
    "### Custom Transformer Example 1: Per-Household Averager\n",
    "\n",
    "Let's take a look at one possible custom transformer we can add, which will average the values of certain features per household. We will follow these steps to write the function:\n",
    "\n",
    "1. Define the transformer `__init__()` method, using a `super()` call for the parent `Transformer` class. The function can take optional arguments to configure the transformer. We will take in a list of columns to average.\n",
    "2. Define the `data_transform()` function, which takes an input DataFrame `x` and returns `x` after undergoing the transformation. In this case, we simply divide the selected columns by the households feature.\n",
    "3. Consider which flags we expect to be used with this transformer. In this case, our transformation will be used for the explanation algorithm, but also makes the data more interpretable, so our flags are `interpret=True` and `algorithm=True`. Therefore, we do not need to define any explanation transform functions for this use case.\n",
    "\n",
    "**Run the cell below to define the PerHouseholdAverager**\n"
   ]
  },
  {
   "cell_type": "code",
   "execution_count": 2,
   "metadata": {
    "id": "Yg9PZ5HDHD_C",
    "ExecuteTime": {
     "start_time": "2023-08-10T21:34:08.770070800Z"
    }
   },
   "outputs": [],
   "source": [
    "from pyreal.transformers import OneHotEncoder, MultiTypeImputer, Transformer, fit_transformers, run_transformers\n",
    "\n",
    "class PerHouseholdAverager(Transformer):\n",
    "    def __init__(self, columns, **kwargs):\n",
    "        # columns: the columns to average. Must be list of strings (column names)\n",
    "        self.columns = columns\n",
    "        super().__init__(**kwargs)\n",
    "\n",
    "    def data_transform(self, x):\n",
    "        # Transform the data by adding a new column from total_[column] called\n",
    "        #   average_[column]. This feature represents the average value of\n",
    "        #   [column] per household.\n",
    "        for column in self.columns:\n",
    "            name = column.replace(\"total\", \"average\")\n",
    "            x[name] = x[column] / x[\"households\"]\n",
    "        return x"
   ]
  },
  {
   "cell_type": "markdown",
   "metadata": {},
   "source": [
    "### Custom Transformer Example 2: City Converter\n",
    "\n",
    "Now, let's take a look at another custom transformer, this one requiring an explanation transform. This transformer will be used to convert latitude/longitude values into city areas, based on the closest city to the given coordinates.\n",
    "\n",
    "Again, we will follow the following steps:\n",
    "\n",
    "1. Define the transformer `__init__()` method, using a `super()` call for the parent `Transformer` class. The function can take optional arguments to configure the transformer. In this case, we will not take in any parameters.\n",
    "2. Define the `data_transform()` function, which takes an input DataFrame `x` and returns `x` after undergoing the transformation. In this case, we convert long/lat values to nearby cities.\n",
    "3. Consider which flags we expect to be used with this transformer. In this case, our transformation will be used to make the data more interpretable, but will not be fed into the model, so our flags are `interpret=True` and `algorithm=model=False`. Therefore, the `transform_explanation_XXX` functions will be called, but not the `inverse_transform_explanation` functions.\n",
    "4. Consider the explanation output types you are interested in. For now, let's consider additive local feature contribution and additive global feature importance explanations. These are explanations that provide an importance weighting to each feature, and where these importances can be meaningfully added together to represent the importance of multiple features. We will need to define `transform_explanation_additive_feature_contribution` and `transform_explanation_additive_feature_importance` functions.\n",
    "\n",
    "\n",
    "<div class=\"alert alert-block alert-info\" style=\"background-color: white; border: 2px solid; padding: 10px\">\n",
    "    <b><i class=\"fa fa-info-circle\" aria-hidden=\"true\"></i>&nbsp; Note</b><br>\n",
    "    <p style=\"color: black\">\n",
    "         Note that explanation output types are heirarchial, and Pyreal will use the explanation transforms of higher-level types when the lower-level types are not available. For example, if <code>transform_explanation_additive_feature_contribution</code> is not defined, Pyreal will attempt to use <code>transform_explanation_feature_contribution</code>.\n",
    "    </p>\n",
    "</div>\n"
   ]
  },
  {
   "cell_type": "code",
   "execution_count": 3,
   "metadata": {
    "ExecuteTime": {
     "start_time": "2023-08-10T21:34:08.795864600Z"
    }
   },
   "outputs": [],
   "source": [
    "from pyreal.explanation_types import AdditiveFeatureContributionExplanation, AdditiveFeatureImportanceExplanation\n",
    "\n",
    "class CityConverter(Transformer):\n",
    "    def __init__(self, **kwargs):\n",
    "        self.cities = cities\n",
    "        super().__init__(**kwargs)\n",
    "\n",
    "    def data_transform(self, x):\n",
    "        # Converts latitude/longitude coordinates to closest city name. Note that\n",
    "        #    we are using a very rough estimate here, assuming constant size.\n",
    "        flag = False\n",
    "        if isinstance(x, pd.Series):\n",
    "            x = x.to_frame().T\n",
    "            flag = True\n",
    "        for index, row in self.cities.iterrows():\n",
    "            lat = row[\"Latitude\"]\n",
    "            lon = row[\"Longitude\"]\n",
    "            x.loc[(x[\"latitude\"] > lat-0.1) & (x[\"latitude\"] < lat+0.1) & (x[\"longitude\"] > lon-0.1) & (x[\"longitude\"] < lon+0.1), \"city\"] = row[\"Name\"]\n",
    "        x = x.drop(\"latitude\", axis=1)\n",
    "        x = x.drop(\"longitude\", axis=1)\n",
    "        if flag:\n",
    "            x = x.squeeze(axis=0)\n",
    "        return x\n",
    "\n",
    "    def transform_explanation_additive_feature_contribution(self, explanation):\n",
    "        df = explanation.get()  # A DataFrame with one row per instance and one column per feature\n",
    "        return AdditiveFeatureContributionExplanation(CityConverter.helper_sum_lat_long_columns(df))\n",
    "\n",
    "    def transform_explanation_additive_feature_importance(self, explanation):\n",
    "        df = explanation.get()  # A DataFrame with one row and one column per feature\n",
    "        return AdditiveFeatureImportanceExplanation(CityConverter.helper_sum_lat_long_columns(df))\n",
    "\n",
    "    def helper_sum_lat_long_columns(explanation):\n",
    "        # In the case of additive contributions or importances, we can combine the latitude and\n",
    "        #    longitude explanation contributions by summing to get the city contribution. In this\n",
    "        #    case, our implementation is almost identical for both types of explanations\n",
    "        explanation[\"city\"] = explanation[\"longitude\"] + explanation[\"latitude\"]\n",
    "        explanation = explanation.drop(\"longitude\", axis=1)\n",
    "        explanation = explanation.drop(\"latitude\", axis=1)\n",
    "        return explanation"
   ]
  },
  {
   "cell_type": "markdown",
   "metadata": {
    "id": "uPtavPkfKf91"
   },
   "source": [
    "## Using Transformers\n",
    "\n",
    "In the next code cell, we will using our custom defined transformers, as well as some predefined Pyreal transformers, to generate local and global explanations."
   ]
  },
  {
   "cell_type": "code",
   "execution_count": 4,
   "metadata": {
    "ExecuteTime": {
     "start_time": "2023-08-10T21:34:08.861546500Z"
    }
   },
   "outputs": [],
   "source": [
    "from pyreal.explainers import LocalFeatureContribution, GlobalFeatureImportance\n",
    "from pyreal.transformers import OneHotEncoder, MultiTypeImputer, fit_transformers, run_transformers\n",
    "from lightgbm import LGBMRegressor\n",
    "\n",
    "# Initialize and fit transformers using fit_transformers\n",
    "transformers = [MultiTypeImputer(model=True),\n",
    "                OneHotEncoder(columns=\"ocean_proximity\", model=True),\n",
    "                PerHouseholdAverager(columns=[\"total_bedrooms\", \"total_rooms\"], model=True, interpret=True),\n",
    "                CityConverter(model=False, interpret=True)]\n",
    "fit_transformers(transformers, X)\n",
    "\n",
    "model = LGBMRegressor()\n",
    "model.fit(run_transformers(transformers[:-1], X), y)\n",
    "\n",
    "# Initialize and fit the explainers\n",
    "local_explainer = LocalFeatureContribution(model=model, x_train_orig=X, transformers=transformers, fit_on_init=True)"
   ]
  },
  {
   "cell_type": "code",
   "execution_count": 5,
   "metadata": {
    "id": "L5N5xe0dIuTt",
    "ExecuteTime": {
     "start_time": "2023-08-10T21:34:10.240102800Z"
    }
   },
   "outputs": [
    {
     "data": {
      "text/plain": "<Figure size 640x480 with 1 Axes>",
      "image/png": "[encoded data removed]"
     },
     "metadata": {},
     "output_type": "display_data"
    }
   ],
   "source": [
    "from pyreal import visualize\n",
    "\n",
    "# Generate and visualize the explanation\n",
    "local_explanation = local_explainer.produce(X.iloc[1])\n",
    "\n",
    "visualize.feature_bar_plot(local_explanation, select_by=\"absolute\", show=True)"
   ]
  },
  {
   "cell_type": "code",
   "execution_count": 5,
   "outputs": [],
   "source": [],
   "metadata": {
    "collapsed": false,
    "pycharm": {
     "name": "#%%\n"
    },
    "ExecuteTime": {
     "start_time": "2023-08-10T21:34:10.996748900Z"
    }
   }
  }
 ],
 "metadata": {
  "colab": {
   "collapsed_sections": [],
   "name": "Pyreal Usability Study",
   "private_outputs": true,
   "provenance": []
  },
  "kernelspec": {
   "display_name": "Python 3 (ipykernel)",
   "language": "python",
   "name": "python3"
  },
  "language_info": {
   "codemirror_mode": {
    "name": "ipython",
    "version": 3
   },
   "file_extension": ".py",
   "mimetype": "text/x-python",
   "name": "python",
   "nbconvert_exporter": "python",
   "pygments_lexer": "ipython3",
   "version": "3.8.8"
  }
 },
 "nbformat": 4,
 "nbformat_minor": 1
}
