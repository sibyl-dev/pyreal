{
 "cells": [
  {
   "cell_type": "markdown",
   "metadata": {},
   "source": [
    "## Univariate Timeseries Classification"
   ]
  },
  {
   "cell_type": "code",
   "execution_count": 1,
   "metadata": {
    "pycharm": {
     "is_executing": true
    },
    "scrolled": true
   },
   "outputs": [],
   "source": [
    "import os\n",
    "import pandas as pd\n",
    "\n",
    "filename = os.path.join(\"data\", \"arrowhead\", \"ArrowHead.txt\")\n",
    "data = pd.read_csv(filename, sep='  ', header=None, engine=\"python\")\n",
    "\n",
    "X_train_orig = data.iloc[:, 1:]\n",
    "y_train_orig = pd.get_dummies(data.iloc[:, 0].astype('int'))"
   ]
  },
  {
   "cell_type": "code",
   "execution_count": 2,
   "metadata": {},
   "outputs": [],
   "source": [
    "from pyreal.transformers import DimensionAdder\n",
    "\n",
    "formatter = DimensionAdder()"
   ]
  },
  {
   "cell_type": "code",
   "execution_count": 3,
   "metadata": {},
   "outputs": [],
   "source": [
    "import tensorflow as tf\n",
    "from tensorflow import keras\n",
    "from tensorflow.keras import layers\n",
    "\n",
    "tf.get_logger().setLevel('INFO')\n",
    "\n",
    "model = keras.Sequential()\n",
    "model.add(layers.LSTM(128, input_shape=(X_train_orig.shape[1], 1)))\n",
    "model.add(layers.BatchNormalization())\n",
    "model.add(layers.Dense(3))\n",
    "\n",
    "model.compile(\n",
    "    loss=keras.losses.CategoricalCrossentropy(from_logits=True),\n",
    "    optimizer=\"adam\",\n",
    "    metrics=[\"accuracy\"],\n",
    ")\n"
   ]
  },
  {
   "cell_type": "code",
   "execution_count": null,
   "metadata": {},
   "outputs": [
    {
     "name": "stdout",
     "output_type": "stream",
     "text": [
      "Epoch 1/5\n"
     ]
    }
   ],
   "source": [
    "model.fit(formatter.transform(X_train_orig), y_train_orig, epochs=5, batch_size=16)"
   ]
  },
  {
   "cell_type": "code",
   "execution_count": null,
   "metadata": {
    "pycharm": {
     "is_executing": true,
     "name": "#%%\n"
    }
   },
   "outputs": [],
   "source": [
    "import importlib\n",
    "import pyreal.explainers.time_series.saliency.univariate_occlusion_saliency as oi\n",
    "import time\n",
    "\n",
    "transformers = [formatter]\n",
    "\n",
    "explainer = oi.UnivariateOcclusionSaliency(model, X_train_orig, transformers=transformers, width=5, k=0, classes=[1, 2, 3])\n",
    "explainer.fit()\n",
    "\n",
    "start = time.time()\n",
    "explanation1 = explainer.produce(X_train_orig.iloc[0])\n",
    "explanation2 = explainer.produce(X_train_orig.iloc[1])"
   ]
  },
  {
   "cell_type": "code",
   "execution_count": null,
   "metadata": {
    "pycharm": {
     "is_executing": true,
     "name": "#%%\n"
    }
   },
   "outputs": [],
   "source": [
    "import pyreal.utils.visualize as vis\n",
    "\n",
    "vis.plot_timeseries_saliency(X_train_orig.iloc[0], explanation1[0].iloc[0, :])"
   ]
  },
  {
   "cell_type": "code",
   "execution_count": null,
   "metadata": {},
   "outputs": [],
   "source": []
  }
 ],
 "metadata": {
  "kernelspec": {
   "display_name": "Python 3 (ipykernel)",
   "language": "python",
   "name": "python3"
  },
  "language_info": {
   "codemirror_mode": {
    "name": "ipython",
    "version": 3
   },
   "file_extension": ".py",
   "mimetype": "text/x-python",
   "name": "python",
   "nbconvert_exporter": "python",
   "pygments_lexer": "ipython3",
   "version": "3.8.8"
  }
 },
 "nbformat": 4,
 "nbformat_minor": 1
}