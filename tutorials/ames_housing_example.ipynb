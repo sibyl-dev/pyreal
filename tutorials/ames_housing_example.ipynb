{
 "cells": [
  {
   "cell_type": "markdown",
   "metadata": {},
   "source": [
    "Data Source:\n",
    "\n",
    "De Cock, D. (2011). Ames, Iowa: Alternative to the Boston Housing Data as an End of Semester Regression Project. Journal of Statistics Education, 19(3). https://doi.org/10.1080/10691898.2011.11889627"
   ]
  },
  {
   "cell_type": "code",
   "execution_count": 1,
   "metadata": {
    "ExecuteTime": {
     "end_time": "2024-07-19T16:07:09.847195Z",
     "start_time": "2024-07-19T16:07:08.025782Z"
    }
   },
   "outputs": [
    {
     "name": "stderr",
     "output_type": "stream",
     "text": [
      "Using `tqdm.autonotebook.tqdm` in notebook mode. Use `tqdm.tqdm` instead to force console mode (e.g. in jupyter console)\n"
     ]
    }
   ],
   "source": [
    "from pyreal.sample_applications import ames_housing"
   ]
  },
  {
   "cell_type": "markdown",
   "metadata": {},
   "source": [
    "In this tutorial, we use Pyreal to get feature contribution explanations for the AmesHousing dataset\n",
    "\n",
    "First, we load in the data. Pyreal expects all data as DataFrames, where columns have the feature names."
   ]
  },
  {
   "cell_type": "code",
   "execution_count": 2,
   "metadata": {
    "ExecuteTime": {
     "end_time": "2024-07-19T16:07:09.866810Z",
     "start_time": "2024-07-19T16:07:09.848201Z"
    }
   },
   "outputs": [],
   "source": [
    "x_orig, y = ames_housing.load_data(include_targets=True)\n",
    "sample_houses = ames_housing.load_sample_houses()\n",
    "sample_houses.set_index(\"Address\", inplace=True)"
   ]
  },
  {
   "cell_type": "markdown",
   "metadata": {},
   "source": [
    "Next, we load in the interpretable feature descriptions."
   ]
  },
  {
   "cell_type": "code",
   "execution_count": 3,
   "metadata": {
    "ExecuteTime": {
     "end_time": "2024-07-19T16:07:09.874423Z",
     "start_time": "2024-07-19T16:07:09.866810Z"
    }
   },
   "outputs": [
    {
     "data": {
      "text/plain": "{'MSSubClass': 'Identifies the type of dwelling involved in the sale.',\n 'MSZoning': 'Identifies the general zoning classification of the sale.',\n 'LotFrontage': 'Linear feet of street connected to property',\n 'LotArea': 'Lot size in square feet',\n 'Street': 'Type of road access to property',\n 'Alley': 'Type of alley access to property',\n 'LotShape': 'General shape of property',\n 'LandContour': 'Flatness of the property',\n 'Utilities': 'Type of utilities available',\n 'LotConfig': 'Lot configuration',\n 'LandSlope': 'Slope of property',\n 'Neighborhood': 'Physical locations within Ames city limits',\n 'Condition1': 'Proximity to various conditions',\n 'Condition2': 'Proximity to various conditions (if more than one is present)',\n 'BldgType': 'Type of dwelling',\n 'HouseStyle': 'Style of dwelling',\n 'OverallQual': 'Rates the overall material and finish of the house',\n 'OverallCond': 'Rates the overall condition of the house',\n 'YearBuilt': 'Original construction date',\n 'YearRemodAdd': 'Remodel date (same as construction date if no remodeling or additions)',\n 'RoofStyle': 'Type of roof',\n 'RoofMatl': 'Roof material',\n 'Exterior1st': 'Exterior covering on house',\n 'Exterior2nd': 'Exterior covering on house (if more than one material)',\n 'MasVnrType': 'Masonry veneer type',\n 'MasVnrArea': 'Masonry veneer area in square feet',\n 'ExterQual': 'Evaluates the quality of the material on the exterior',\n 'ExterCond': 'Evaluates the present condition of the material on the exterior',\n 'Foundation': 'Type of foundation',\n 'BsmtQual': 'Evaluates the height of the basement',\n 'BsmtCond': 'Evaluates the general condition of the basement',\n 'BsmtExposure': 'Refers to walkout or garden level walls',\n 'BsmtFinType1': 'Rating of basement finished area',\n 'BsmtFinSF1': 'Type 1 finished square feet',\n 'BsmtFinType2': 'Rating of basement finished area (if multiple types)',\n 'BsmtFinSF2': 'Type 2 finished square feet',\n 'BsmtUnfSF': 'Unfinished square feet of basement area',\n 'TotalBsmtSF': 'Total square feet of basement area',\n 'Heating': 'Type of heating',\n 'HeatingQC': 'Heating quality and condition',\n 'CentralAir': 'Central air conditioning',\n 'Electrical': 'Electrical system',\n '1stFlrSF': 'First Floor square feet',\n '2ndFlrSF': 'Second floor square feet',\n 'LowQualFinSF': 'Low quality finished square feet (all floors)',\n 'GrLivArea': 'Above grade (ground) living area square feet',\n 'BsmtFullBath': 'Basement full bathrooms',\n 'BsmtHalfBath': 'Basement half bathrooms',\n 'FullBath': 'Full bathrooms above grade',\n 'HalfBath': 'Half baths above grade',\n 'BedroomAbvGr': 'Bedrooms above grade (does NOT include basement bedrooms)',\n 'KitchenAbvGr': 'Kitchens above grade',\n 'KitchenQual': 'Kitchen quality',\n 'TotRmsAbvGrd': 'Total rooms above grade (does not include bathrooms)',\n 'Functional': 'Home functionality (Assume typical unless deductions are warranted)',\n 'Fireplaces': 'Number of fireplaces',\n 'FireplaceQu': 'Fireplace quality',\n 'GarageType': 'Garage location',\n 'GarageYrBlt': 'Year garage was built',\n 'GarageFinish': 'Interior finish of the garage',\n 'GarageCars': 'Size of garage in car capacity',\n 'GarageArea': 'Size of garage in square feet',\n 'GarageQual': 'Garage quality',\n 'GarageCond': 'Garage condition',\n 'PavedDrive': 'Paved driveway',\n 'WoodDeckSF': 'Wood deck area in square feet',\n 'OpenPorchSF': 'Open porch area in square feet',\n 'EnclosedPorch': 'Enclosed porch area in square feet',\n '3SsnPorch': 'Three season porch area in square feet',\n 'ScreenPorch': 'Screen porch area in square feet',\n 'PoolArea': 'Pool area in square feet',\n 'PoolQC': 'Pool quality',\n 'Fence': 'Fence quality',\n 'MiscFeature': 'Miscellaneous feature not covered in other categories',\n 'MiscVal': '$Value of miscellaneous feature',\n 'MoSold': 'Month Sold (MM)',\n 'YrSold': 'Year Sold (YYYY)',\n 'SaleType': 'Type of sale',\n 'SaleCondition': 'Condition of sale'}"
     },
     "execution_count": 3,
     "metadata": {},
     "output_type": "execute_result"
    }
   ],
   "source": [
    "feature_descriptions = ames_housing.load_feature_descriptions()\n",
    "feature_descriptions"
   ]
  },
  {
   "cell_type": "markdown",
   "metadata": {},
   "source": [
    "Next, we load the transfomers.\n",
    "\n",
    "The first kind of transformer manually imputes the data based on information we know about the dataset.\n",
    "We will call this the `AmesHousingImputer`\n",
    "\n",
    "This imputation code comes from https://www.kaggle.com/juliencs/a-study-on-regression-applied-to-the-ames-dataset"
   ]
  },
  {
   "cell_type": "code",
   "execution_count": 4,
   "metadata": {
    "ExecuteTime": {
     "end_time": "2024-07-19T16:07:09.923695Z",
     "start_time": "2024-07-19T16:07:09.874423Z"
    }
   },
   "outputs": [
    {
     "data": {
      "text/plain": "[<pyreal.sample_applications.ames_housing.AmesHousingImputer at 0x2a4f05df8d0>,\n <pyreal.transformers.one_hot_encode.OneHotEncoder at 0x2a4b4d79410>]"
     },
     "execution_count": 4,
     "metadata": {},
     "output_type": "execute_result"
    }
   ],
   "source": [
    "transformers = ames_housing.load_transformers()\n",
    "transformers"
   ]
  },
  {
   "cell_type": "code",
   "execution_count": 5,
   "metadata": {
    "pycharm": {
     "name": "#%%\n"
    },
    "ExecuteTime": {
     "end_time": "2024-07-19T16:07:10.016736Z",
     "start_time": "2024-07-19T16:07:09.923695Z"
    }
   },
   "outputs": [
    {
     "data": {
      "text/plain": "Ridge()",
      "text/html": "<style>#sk-container-id-1 {color: black;}#sk-container-id-1 pre{padding: 0;}#sk-container-id-1 div.sk-toggleable {background-color: white;}#sk-container-id-1 label.sk-toggleable__label {cursor: pointer;display: block;width: 100%;margin-bottom: 0;padding: 0.3em;box-sizing: border-box;text-align: center;}#sk-container-id-1 label.sk-toggleable__label-arrow:before {content: \"▸\";float: left;margin-right: 0.25em;color: #696969;}#sk-container-id-1 label.sk-toggleable__label-arrow:hover:before {color: black;}#sk-container-id-1 div.sk-estimator:hover label.sk-toggleable__label-arrow:before {color: black;}#sk-container-id-1 div.sk-toggleable__content {max-height: 0;max-width: 0;overflow: hidden;text-align: left;background-color: #f0f8ff;}#sk-container-id-1 div.sk-toggleable__content pre {margin: 0.2em;color: black;border-radius: 0.25em;background-color: #f0f8ff;}#sk-container-id-1 input.sk-toggleable__control:checked~div.sk-toggleable__content {max-height: 200px;max-width: 100%;overflow: auto;}#sk-container-id-1 input.sk-toggleable__control:checked~label.sk-toggleable__label-arrow:before {content: \"▾\";}#sk-container-id-1 div.sk-estimator input.sk-toggleable__control:checked~label.sk-toggleable__label {background-color: #d4ebff;}#sk-container-id-1 div.sk-label input.sk-toggleable__control:checked~label.sk-toggleable__label {background-color: #d4ebff;}#sk-container-id-1 input.sk-hidden--visually {border: 0;clip: rect(1px 1px 1px 1px);clip: rect(1px, 1px, 1px, 1px);height: 1px;margin: -1px;overflow: hidden;padding: 0;position: absolute;width: 1px;}#sk-container-id-1 div.sk-estimator {font-family: monospace;background-color: #f0f8ff;border: 1px dotted black;border-radius: 0.25em;box-sizing: border-box;margin-bottom: 0.5em;}#sk-container-id-1 div.sk-estimator:hover {background-color: #d4ebff;}#sk-container-id-1 div.sk-parallel-item::after {content: \"\";width: 100%;border-bottom: 1px solid gray;flex-grow: 1;}#sk-container-id-1 div.sk-label:hover label.sk-toggleable__label {background-color: #d4ebff;}#sk-container-id-1 div.sk-serial::before {content: \"\";position: absolute;border-left: 1px solid gray;box-sizing: border-box;top: 0;bottom: 0;left: 50%;z-index: 0;}#sk-container-id-1 div.sk-serial {display: flex;flex-direction: column;align-items: center;background-color: white;padding-right: 0.2em;padding-left: 0.2em;position: relative;}#sk-container-id-1 div.sk-item {position: relative;z-index: 1;}#sk-container-id-1 div.sk-parallel {display: flex;align-items: stretch;justify-content: center;background-color: white;position: relative;}#sk-container-id-1 div.sk-item::before, #sk-container-id-1 div.sk-parallel-item::before {content: \"\";position: absolute;border-left: 1px solid gray;box-sizing: border-box;top: 0;bottom: 0;left: 50%;z-index: -1;}#sk-container-id-1 div.sk-parallel-item {display: flex;flex-direction: column;z-index: 1;position: relative;background-color: white;}#sk-container-id-1 div.sk-parallel-item:first-child::after {align-self: flex-end;width: 50%;}#sk-container-id-1 div.sk-parallel-item:last-child::after {align-self: flex-start;width: 50%;}#sk-container-id-1 div.sk-parallel-item:only-child::after {width: 0;}#sk-container-id-1 div.sk-dashed-wrapped {border: 1px dashed gray;margin: 0 0.4em 0.5em 0.4em;box-sizing: border-box;padding-bottom: 0.4em;background-color: white;}#sk-container-id-1 div.sk-label label {font-family: monospace;font-weight: bold;display: inline-block;line-height: 1.2em;}#sk-container-id-1 div.sk-label-container {text-align: center;}#sk-container-id-1 div.sk-container {/* jupyter's `normalize.less` sets `[hidden] { display: none; }` but bootstrap.min.css set `[hidden] { display: none !important; }` so we also need the `!important` here to be able to override the default hidden behavior on the sphinx rendered scikit-learn.org. See: https://github.com/scikit-learn/scikit-learn/issues/21755 */display: inline-block !important;position: relative;}#sk-container-id-1 div.sk-text-repr-fallback {display: none;}</style><div id=\"sk-container-id-1\" class=\"sk-top-container\"><div class=\"sk-text-repr-fallback\"><pre>Ridge()</pre><b>In a Jupyter environment, please rerun this cell to show the HTML representation or trust the notebook. <br />On GitHub, the HTML representation is unable to render, please try loading this page with nbviewer.org.</b></div><div class=\"sk-container\" hidden><div class=\"sk-item\"><div class=\"sk-estimator sk-toggleable\"><input class=\"sk-toggleable__control sk-hidden--visually\" id=\"sk-estimator-id-1\" type=\"checkbox\" checked><label for=\"sk-estimator-id-1\" class=\"sk-toggleable__label sk-toggleable__label-arrow\">Ridge</label><div class=\"sk-toggleable__content\"><pre>Ridge()</pre></div></div></div></div></div>"
     },
     "execution_count": 5,
     "metadata": {},
     "output_type": "execute_result"
    }
   ],
   "source": [
    "model = ames_housing.load_model()\n",
    "model"
   ]
  },
  {
   "cell_type": "markdown",
   "metadata": {},
   "source": [
    "Now, we can initialize a RealApp object."
   ]
  },
  {
   "cell_type": "code",
   "execution_count": 6,
   "metadata": {
    "ExecuteTime": {
     "end_time": "2024-07-19T16:07:10.020506Z",
     "start_time": "2024-07-19T16:07:10.017742Z"
    }
   },
   "outputs": [],
   "source": [
    "from pyreal import RealApp\n",
    "\n",
    "realApp =  RealApp(model,\n",
    "                   X_train_orig=x_orig,\n",
    "                   y_train=y,\n",
    "                   transformers=transformers,\n",
    "                   feature_descriptions=feature_descriptions,\n",
    "                )"
   ]
  },
  {
   "cell_type": "markdown",
   "metadata": {},
   "source": [
    "We can make predictions using RealApp objects."
   ]
  },
  {
   "cell_type": "code",
   "execution_count": 7,
   "metadata": {
    "ExecuteTime": {
     "end_time": "2024-07-19T16:07:10.051464Z",
     "start_time": "2024-07-19T16:07:10.020506Z"
    }
   },
   "outputs": [
    {
     "data": {
      "text/plain": "{'312 Oakway Lane': 157609.44775291218,\n '3699 Jenna Lane': 208022.03968356713,\n '3880 Hazelwood Avenue': 205414.6183077359,\n '842 Jenna Lane': 208627.0181243478,\n '1580 Cameron Road': 172556.73662400094,\n '2231 Hillhaven Drive': 288442.94486161857,\n '215 Green Acres Road': 165163.16885054007,\n '2119 Edsel Road': 276234.6844264518,\n '642 Fulton Street': 232024.47875784046}"
     },
     "execution_count": 7,
     "metadata": {},
     "output_type": "execute_result"
    }
   ],
   "source": [
    "realApp.predict(sample_houses)"
   ]
  },
  {
   "cell_type": "markdown",
   "source": [
    "And generate different types of explanations"
   ],
   "metadata": {
    "collapsed": false
   }
  },
  {
   "cell_type": "code",
   "execution_count": 10,
   "outputs": [
    {
     "ename": "KeyError",
     "evalue": "'312 Oakway Lane'",
     "output_type": "error",
     "traceback": [
      "\u001B[1;31m---------------------------------------------------------------------------\u001B[0m",
      "\u001B[1;31mKeyError\u001B[0m                                  Traceback (most recent call last)",
      "Cell \u001B[1;32mIn[10], line 1\u001B[0m\n\u001B[1;32m----> 1\u001B[0m \u001B[43mrealApp\u001B[49m\u001B[38;5;241;43m.\u001B[39;49m\u001B[43mproduce_feature_contributions\u001B[49m\u001B[43m(\u001B[49m\u001B[43msample_houses\u001B[49m\u001B[38;5;241;43m.\u001B[39;49m\u001B[43miloc\u001B[49m\u001B[43m[\u001B[49m\u001B[38;5;241;43m0\u001B[39;49m\u001B[43m:\u001B[49m\u001B[38;5;241;43m1\u001B[39;49m\u001B[43m]\u001B[49m\u001B[43m)\u001B[49m\u001B[43m[\u001B[49m\u001B[38;5;124;43m\"\u001B[39;49m\u001B[38;5;124;43m312 Oakway Lane\u001B[39;49m\u001B[38;5;124;43m\"\u001B[39;49m\u001B[43m]\u001B[49m\n",
      "\u001B[1;31mKeyError\u001B[0m: '312 Oakway Lane'"
     ]
    }
   ],
   "source": [
    "realApp.produce_feature_contributions(sample_houses.iloc[0:1])[\"312 Oakway Lane\"]"
   ],
   "metadata": {
    "collapsed": false,
    "ExecuteTime": {
     "end_time": "2024-07-19T16:07:27.717059Z",
     "start_time": "2024-07-19T16:07:27.676178Z"
    }
   }
  },
  {
   "cell_type": "code",
   "execution_count": null,
   "metadata": {
    "pycharm": {
     "name": "#%%\n"
    },
    "ExecuteTime": {
     "end_time": "2024-07-19T16:07:10.559240Z",
     "start_time": "2024-07-19T16:07:10.559240Z"
    }
   },
   "outputs": [],
   "source": [
    "realApp.produce_similar_examples(sample_houses.iloc[0], num_examples=2, fast=True)"
   ]
  },
  {
   "cell_type": "code",
   "outputs": [],
   "source": [
    "realApp.produce_feature_importance()"
   ],
   "metadata": {
    "collapsed": false,
    "ExecuteTime": {
     "start_time": "2024-07-19T16:07:10.559240Z"
    }
   },
   "execution_count": null
  },
  {
   "cell_type": "code",
   "execution_count": null,
   "outputs": [],
   "source": [],
   "metadata": {
    "collapsed": false,
    "ExecuteTime": {
     "start_time": "2024-07-19T16:07:10.560239Z"
    }
   }
  },
  {
   "cell_type": "code",
   "execution_count": null,
   "outputs": [],
   "source": [],
   "metadata": {
    "collapsed": false,
    "ExecuteTime": {
     "start_time": "2024-07-19T16:07:10.561240Z"
    }
   }
  }
 ],
 "metadata": {
  "kernelspec": {
   "display_name": "Python 3 (ipykernel)",
   "language": "python",
   "name": "python3"
  },
  "language_info": {
   "codemirror_mode": {
    "name": "ipython",
    "version": 3
   },
   "file_extension": ".py",
   "mimetype": "text/x-python",
   "name": "python",
   "nbconvert_exporter": "python",
   "pygments_lexer": "ipython3",
   "version": "3.8.6"
  }
 },
 "nbformat": 4,
 "nbformat_minor": 2
}
