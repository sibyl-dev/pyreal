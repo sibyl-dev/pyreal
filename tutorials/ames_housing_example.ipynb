{
 "cells": [
  {
   "cell_type": "markdown",
   "metadata": {},
   "source": [
    "Data Source:\n",
    "\n",
    "De Cock, D. (2011). Ames, Iowa: Alternative to the Boston Housing Data as an End of Semester Regression Project. Journal of Statistics Education, 19(3). https://doi.org/10.1080/10691898.2011.11889627"
   ]
  },
  {
   "cell_type": "code",
   "metadata": {
    "ExecuteTime": {
     "end_time": "2024-08-29T13:52:00.082442Z",
     "start_time": "2024-08-29T13:51:58.476032Z"
    }
   },
   "source": [
    "from pyreal.sample_applications import ames_housing"
   ],
   "outputs": [
    {
     "name": "stderr",
     "output_type": "stream",
     "text": [
      "Using `tqdm.autonotebook.tqdm` in notebook mode. Use `tqdm.tqdm` instead to force console mode (e.g. in jupyter console)\n"
     ]
    }
   ],
   "execution_count": 1
  },
  {
   "cell_type": "markdown",
   "metadata": {},
   "source": [
    "In this tutorial, we use Pyreal to get feature contribution explanations for the AmesHousing dataset\n",
    "\n",
    "First, we load in the data. Pyreal expects all data as DataFrames, where columns have the feature names."
   ]
  },
  {
   "cell_type": "code",
   "metadata": {
    "ExecuteTime": {
     "end_time": "2024-08-29T13:52:00.113859Z",
     "start_time": "2024-08-29T13:52:00.083450Z"
    }
   },
   "source": [
    "x_orig, y = ames_housing.load_data(include_targets=True)\n",
    "sample_houses = ames_housing.load_sample_houses()"
   ],
   "outputs": [],
   "execution_count": 2
  },
  {
   "cell_type": "markdown",
   "metadata": {},
   "source": [
    "Next, we load in the interpretable feature descriptions."
   ]
  },
  {
   "cell_type": "code",
   "metadata": {
    "ExecuteTime": {
     "end_time": "2024-08-29T13:52:00.129050Z",
     "start_time": "2024-08-29T13:52:00.116053Z"
    }
   },
   "source": [
    "feature_descriptions = ames_housing.load_feature_descriptions()\n",
    "feature_descriptions"
   ],
   "outputs": [
    {
     "data": {
      "text/plain": [
       "{'MSSubClass': 'Identifies the type of dwelling involved in the sale.',\n",
       " 'MSZoning': 'Identifies the general zoning classification of the sale.',\n",
       " 'LotFrontage': 'Linear feet of street connected to property',\n",
       " 'LotArea': 'Lot size in square feet',\n",
       " 'Street': 'Type of road access to property',\n",
       " 'Alley': 'Type of alley access to property',\n",
       " 'LotShape': 'General shape of property',\n",
       " 'LandContour': 'Flatness of the property',\n",
       " 'Utilities': 'Type of utilities available',\n",
       " 'LotConfig': 'Lot configuration',\n",
       " 'LandSlope': 'Slope of property',\n",
       " 'Neighborhood': 'Physical locations within Ames city limits',\n",
       " 'Condition1': 'Proximity to various conditions',\n",
       " 'Condition2': 'Proximity to various conditions (if more than one is present)',\n",
       " 'BldgType': 'Type of dwelling',\n",
       " 'HouseStyle': 'Style of dwelling',\n",
       " 'OverallQual': 'Rates the overall material and finish of the house',\n",
       " 'OverallCond': 'Rates the overall condition of the house',\n",
       " 'YearBuilt': 'Original construction date',\n",
       " 'YearRemodAdd': 'Remodel date (same as construction date if no remodeling or additions)',\n",
       " 'RoofStyle': 'Type of roof',\n",
       " 'RoofMatl': 'Roof material',\n",
       " 'Exterior1st': 'Exterior covering on house',\n",
       " 'Exterior2nd': 'Exterior covering on house (if more than one material)',\n",
       " 'MasVnrType': 'Masonry veneer type',\n",
       " 'MasVnrArea': 'Masonry veneer area in square feet',\n",
       " 'ExterQual': 'Evaluates the quality of the material on the exterior',\n",
       " 'ExterCond': 'Evaluates the present condition of the material on the exterior',\n",
       " 'Foundation': 'Type of foundation',\n",
       " 'BsmtQual': 'Evaluates the height of the basement',\n",
       " 'BsmtCond': 'Evaluates the general condition of the basement',\n",
       " 'BsmtExposure': 'Refers to walkout or garden level walls',\n",
       " 'BsmtFinType1': 'Rating of basement finished area',\n",
       " 'BsmtFinSF1': 'Type 1 finished square feet',\n",
       " 'BsmtFinType2': 'Rating of basement finished area (if multiple types)',\n",
       " 'BsmtFinSF2': 'Type 2 finished square feet',\n",
       " 'BsmtUnfSF': 'Unfinished square feet of basement area',\n",
       " 'TotalBsmtSF': 'Total square feet of basement area',\n",
       " 'Heating': 'Type of heating',\n",
       " 'HeatingQC': 'Heating quality and condition',\n",
       " 'CentralAir': 'Central air conditioning',\n",
       " 'Electrical': 'Electrical system',\n",
       " '1stFlrSF': 'First Floor square feet',\n",
       " '2ndFlrSF': 'Second floor square feet',\n",
       " 'LowQualFinSF': 'Low quality finished square feet (all floors)',\n",
       " 'GrLivArea': 'Above grade (ground) living area square feet',\n",
       " 'BsmtFullBath': 'Basement full bathrooms',\n",
       " 'BsmtHalfBath': 'Basement half bathrooms',\n",
       " 'FullBath': 'Full bathrooms above grade',\n",
       " 'HalfBath': 'Half baths above grade',\n",
       " 'BedroomAbvGr': 'Bedrooms above grade (does NOT include basement bedrooms)',\n",
       " 'KitchenAbvGr': 'Kitchens above grade',\n",
       " 'KitchenQual': 'Kitchen quality',\n",
       " 'TotRmsAbvGrd': 'Total rooms above grade (does not include bathrooms)',\n",
       " 'Functional': 'Home functionality (Assume typical unless deductions are warranted)',\n",
       " 'Fireplaces': 'Number of fireplaces',\n",
       " 'FireplaceQu': 'Fireplace quality',\n",
       " 'GarageType': 'Garage location',\n",
       " 'GarageYrBlt': 'Year garage was built',\n",
       " 'GarageFinish': 'Interior finish of the garage',\n",
       " 'GarageCars': 'Size of garage in car capacity',\n",
       " 'GarageArea': 'Size of garage in square feet',\n",
       " 'GarageQual': 'Garage quality',\n",
       " 'GarageCond': 'Garage condition',\n",
       " 'PavedDrive': 'Paved driveway',\n",
       " 'WoodDeckSF': 'Wood deck area in square feet',\n",
       " 'OpenPorchSF': 'Open porch area in square feet',\n",
       " 'EnclosedPorch': 'Enclosed porch area in square feet',\n",
       " '3SsnPorch': 'Three season porch area in square feet',\n",
       " 'ScreenPorch': 'Screen porch area in square feet',\n",
       " 'PoolArea': 'Pool area in square feet',\n",
       " 'PoolQC': 'Pool quality',\n",
       " 'Fence': 'Fence quality',\n",
       " 'MiscFeature': 'Miscellaneous feature not covered in other categories',\n",
       " 'MiscVal': '$Value of miscellaneous feature',\n",
       " 'MoSold': 'Month Sold (MM)',\n",
       " 'YrSold': 'Year Sold (YYYY)',\n",
       " 'SaleType': 'Type of sale',\n",
       " 'SaleCondition': 'Condition of sale'}"
      ]
     },
     "execution_count": 3,
     "metadata": {},
     "output_type": "execute_result"
    }
   ],
   "execution_count": 3
  },
  {
   "cell_type": "markdown",
   "metadata": {},
   "source": [
    "Next, we load the transfomers.\n",
    "\n",
    "The first kind of transformer manually imputes the data based on information we know about the dataset.\n",
    "We will call this the `AmesHousingImputer`\n",
    "\n",
    "This imputation code comes from https://www.kaggle.com/juliencs/a-study-on-regression-applied-to-the-ames-dataset"
   ]
  },
  {
   "cell_type": "code",
   "metadata": {
    "ExecuteTime": {
     "end_time": "2024-08-29T13:52:00.191534Z",
     "start_time": "2024-08-29T13:52:00.130041Z"
    }
   },
   "source": [
    "transformers = ames_housing.load_transformers()\n",
    "transformers"
   ],
   "outputs": [
    {
     "data": {
      "text/plain": [
       "[<pyreal.sample_applications.ames_housing.AmesHousingImputer at 0x158c84b7f70>,\n",
       " <pyreal.transformers.one_hot_encode.OneHotEncoder at 0x158c84fa2c0>]"
      ]
     },
     "execution_count": 4,
     "metadata": {},
     "output_type": "execute_result"
    }
   ],
   "execution_count": 4
  },
  {
   "cell_type": "code",
   "metadata": {
    "pycharm": {
     "name": "#%%\n"
    },
    "ExecuteTime": {
     "end_time": "2024-08-29T13:52:00.301135Z",
     "start_time": "2024-08-29T13:52:00.192508Z"
    }
   },
   "source": [
    "model = ames_housing.load_model()\n",
    "model"
   ],
   "outputs": [
    {
     "data": {
      "text/plain": [
       "Ridge()"
      ],
      "text/html": [
       "<style>#sk-container-id-1 {color: black;}#sk-container-id-1 pre{padding: 0;}#sk-container-id-1 div.sk-toggleable {background-color: white;}#sk-container-id-1 label.sk-toggleable__label {cursor: pointer;display: block;width: 100%;margin-bottom: 0;padding: 0.3em;box-sizing: border-box;text-align: center;}#sk-container-id-1 label.sk-toggleable__label-arrow:before {content: \"▸\";float: left;margin-right: 0.25em;color: #696969;}#sk-container-id-1 label.sk-toggleable__label-arrow:hover:before {color: black;}#sk-container-id-1 div.sk-estimator:hover label.sk-toggleable__label-arrow:before {color: black;}#sk-container-id-1 div.sk-toggleable__content {max-height: 0;max-width: 0;overflow: hidden;text-align: left;background-color: #f0f8ff;}#sk-container-id-1 div.sk-toggleable__content pre {margin: 0.2em;color: black;border-radius: 0.25em;background-color: #f0f8ff;}#sk-container-id-1 input.sk-toggleable__control:checked~div.sk-toggleable__content {max-height: 200px;max-width: 100%;overflow: auto;}#sk-container-id-1 input.sk-toggleable__control:checked~label.sk-toggleable__label-arrow:before {content: \"▾\";}#sk-container-id-1 div.sk-estimator input.sk-toggleable__control:checked~label.sk-toggleable__label {background-color: #d4ebff;}#sk-container-id-1 div.sk-label input.sk-toggleable__control:checked~label.sk-toggleable__label {background-color: #d4ebff;}#sk-container-id-1 input.sk-hidden--visually {border: 0;clip: rect(1px 1px 1px 1px);clip: rect(1px, 1px, 1px, 1px);height: 1px;margin: -1px;overflow: hidden;padding: 0;position: absolute;width: 1px;}#sk-container-id-1 div.sk-estimator {font-family: monospace;background-color: #f0f8ff;border: 1px dotted black;border-radius: 0.25em;box-sizing: border-box;margin-bottom: 0.5em;}#sk-container-id-1 div.sk-estimator:hover {background-color: #d4ebff;}#sk-container-id-1 div.sk-parallel-item::after {content: \"\";width: 100%;border-bottom: 1px solid gray;flex-grow: 1;}#sk-container-id-1 div.sk-label:hover label.sk-toggleable__label {background-color: #d4ebff;}#sk-container-id-1 div.sk-serial::before {content: \"\";position: absolute;border-left: 1px solid gray;box-sizing: border-box;top: 0;bottom: 0;left: 50%;z-index: 0;}#sk-container-id-1 div.sk-serial {display: flex;flex-direction: column;align-items: center;background-color: white;padding-right: 0.2em;padding-left: 0.2em;position: relative;}#sk-container-id-1 div.sk-item {position: relative;z-index: 1;}#sk-container-id-1 div.sk-parallel {display: flex;align-items: stretch;justify-content: center;background-color: white;position: relative;}#sk-container-id-1 div.sk-item::before, #sk-container-id-1 div.sk-parallel-item::before {content: \"\";position: absolute;border-left: 1px solid gray;box-sizing: border-box;top: 0;bottom: 0;left: 50%;z-index: -1;}#sk-container-id-1 div.sk-parallel-item {display: flex;flex-direction: column;z-index: 1;position: relative;background-color: white;}#sk-container-id-1 div.sk-parallel-item:first-child::after {align-self: flex-end;width: 50%;}#sk-container-id-1 div.sk-parallel-item:last-child::after {align-self: flex-start;width: 50%;}#sk-container-id-1 div.sk-parallel-item:only-child::after {width: 0;}#sk-container-id-1 div.sk-dashed-wrapped {border: 1px dashed gray;margin: 0 0.4em 0.5em 0.4em;box-sizing: border-box;padding-bottom: 0.4em;background-color: white;}#sk-container-id-1 div.sk-label label {font-family: monospace;font-weight: bold;display: inline-block;line-height: 1.2em;}#sk-container-id-1 div.sk-label-container {text-align: center;}#sk-container-id-1 div.sk-container {/* jupyter's `normalize.less` sets `[hidden] { display: none; }` but bootstrap.min.css set `[hidden] { display: none !important; }` so we also need the `!important` here to be able to override the default hidden behavior on the sphinx rendered scikit-learn.org. See: https://github.com/scikit-learn/scikit-learn/issues/21755 */display: inline-block !important;position: relative;}#sk-container-id-1 div.sk-text-repr-fallback {display: none;}</style><div id=\"sk-container-id-1\" class=\"sk-top-container\"><div class=\"sk-text-repr-fallback\"><pre>Ridge()</pre><b>In a Jupyter environment, please rerun this cell to show the HTML representation or trust the notebook. <br />On GitHub, the HTML representation is unable to render, please try loading this page with nbviewer.org.</b></div><div class=\"sk-container\" hidden><div class=\"sk-item\"><div class=\"sk-estimator sk-toggleable\"><input class=\"sk-toggleable__control sk-hidden--visually\" id=\"sk-estimator-id-1\" type=\"checkbox\" checked><label for=\"sk-estimator-id-1\" class=\"sk-toggleable__label sk-toggleable__label-arrow\">Ridge</label><div class=\"sk-toggleable__content\"><pre>Ridge()</pre></div></div></div></div></div>"
      ]
     },
     "execution_count": 5,
     "metadata": {},
     "output_type": "execute_result"
    }
   ],
   "execution_count": 5
  },
  {
   "cell_type": "markdown",
   "metadata": {},
   "source": [
    "Now, we can initialize a RealApp object."
   ]
  },
  {
   "cell_type": "code",
   "metadata": {
    "ExecuteTime": {
     "end_time": "2024-08-29T13:52:00.316574Z",
     "start_time": "2024-08-29T13:52:00.302109Z"
    }
   },
   "source": [
    "from pyreal import RealApp\n",
    "\n",
    "realApp =  RealApp(model,\n",
    "                   X_train_orig=x_orig,\n",
    "                   y_train=y,\n",
    "                   transformers=transformers,\n",
    "                   feature_descriptions=feature_descriptions,\n",
    "                   id_column=\"Address\"\n",
    "                )"
   ],
   "outputs": [],
   "execution_count": 6
  },
  {
   "cell_type": "markdown",
   "metadata": {},
   "source": [
    "We can make predictions using RealApp objects."
   ]
  },
  {
   "cell_type": "code",
   "metadata": {
    "ExecuteTime": {
     "end_time": "2024-08-29T13:52:00.348098Z",
     "start_time": "2024-08-29T13:52:00.317595Z"
    }
   },
   "source": [
    "realApp.predict(sample_houses)"
   ],
   "outputs": [
    {
     "data": {
      "text/plain": [
       "{'312 Oakway Lane': 157609.44775291224,\n",
       " '3699 Jenna Lane': 208022.03968356707,\n",
       " '3880 Hazelwood Avenue': 205414.61830773746,\n",
       " '842 Jenna Lane': 208627.01812434796,\n",
       " '1580 Cameron Road': 172556.736624001,\n",
       " '2231 Hillhaven Drive': 288442.944861619,\n",
       " '215 Green Acres Road': 165163.16885054362,\n",
       " '2119 Edsel Road': 276234.6844264523,\n",
       " '642 Fulton Street': 232024.4787578403}"
      ]
     },
     "execution_count": 7,
     "metadata": {},
     "output_type": "execute_result"
    }
   ],
   "execution_count": 7
  },
  {
   "cell_type": "markdown",
   "source": [
    "And generate different types of explanations"
   ],
   "metadata": {
    "collapsed": false
   }
  },
  {
   "cell_type": "code",
   "source": [
    "from pyreal.visualize import feature_bar_plot\n",
    "\n",
    "conts = realApp.produce_feature_contributions(x_orig[0:10])\n",
    "\n",
    "feature_bar_plot(conts[7], num_features=3, filename=\"ames_plot_sample.png\")"
   ],
   "metadata": {
    "collapsed": false,
    "ExecuteTime": {
     "end_time": "2024-08-29T13:52:00.613382Z",
     "start_time": "2024-08-29T13:52:00.350098Z"
    }
   },
   "outputs": [
    {
     "data": {
      "text/plain": [
       "<Figure size 800x400 with 1 Axes>"
      ],
      "image/png": "[encoded data removed]"
     },
     "metadata": {},
     "output_type": "display_data"
    }
   ],
   "execution_count": 8
  },
  {
   "cell_type": "code",
   "metadata": {
    "pycharm": {
     "name": "#%%\n"
    },
    "ExecuteTime": {
     "end_time": "2024-08-29T13:52:00.676749Z",
     "start_time": "2024-08-29T13:52:00.614382Z"
    }
   },
   "source": [
    "realApp.produce_similar_examples(sample_houses.iloc[0], num_examples=2, fast=True)"
   ],
   "outputs": [
    {
     "data": {
      "text/plain": [
       "{'X':      Identifies the type of dwelling involved in the sale.  \\\n",
       " 193                                                 20       \n",
       " 553                                                 20       \n",
       " \n",
       "     Identifies the general zoning classification of the sale.  \\\n",
       " 193                                                 RL          \n",
       " 553                                                 RL          \n",
       " \n",
       "      Linear feet of street connected to property  Lot size in square feet  \\\n",
       " 193                                         75.0                    10125   \n",
       " 553                                         77.0                    10010   \n",
       " \n",
       "     Type of road access to property Type of alley access to property  \\\n",
       " 193                            Pave                              NaN   \n",
       " 553                            Pave                              NaN   \n",
       " \n",
       "     General shape of property Flatness of the property  \\\n",
       " 193                       Reg                      Lvl   \n",
       " 553                       Reg                      Lvl   \n",
       " \n",
       "     Type of utilities available Lot configuration  ...  \\\n",
       " 193                      AllPub            Inside  ...   \n",
       " 553                      AllPub            Inside  ...   \n",
       " \n",
       "     Screen porch area in square feet Pool area in square feet Pool quality  \\\n",
       " 193                                0                        0          NaN   \n",
       " 553                                0                        0          NaN   \n",
       " \n",
       "     Fence quality Miscellaneous feature not covered in other categories  \\\n",
       " 193         MnPrv                                                NaN      \n",
       " 553           NaN                                                NaN      \n",
       " \n",
       "     $Value of miscellaneous feature  Month Sold (MM)  Year Sold (YYYY)  \\\n",
       " 193                               0                2              2008   \n",
       " 553                               0                4              2006   \n",
       " \n",
       "      Type of sale  Condition of sale  \n",
       " 193            WD             Normal  \n",
       " 553            WD             Normal  \n",
       " \n",
       " [2 rows x 79 columns],\n",
       " 'y': 193    171500\n",
       " 553    170000\n",
       " Name: SalePrice, dtype: int64,\n",
       " 'Input': Identifies the type of dwelling involved in the sale.            20\n",
       " Identifies the general zoning classification of the sale.        RL\n",
       " Linear feet of street connected to property                    75.0\n",
       " Lot size in square feet                                        9937\n",
       " Type of road access to property                                Pave\n",
       "                                                               ...  \n",
       " $Value of miscellaneous feature                                   0\n",
       " Month Sold (MM)                                                   6\n",
       " Year Sold (YYYY)                                               2008\n",
       " Type of sale                                                     WD\n",
       " Condition of sale                                            Normal\n",
       " Name: 0, Length: 79, dtype: object}"
      ]
     },
     "execution_count": 9,
     "metadata": {},
     "output_type": "execute_result"
    }
   ],
   "execution_count": 9
  },
  {
   "cell_type": "code",
   "source": [
    "realApp.produce_feature_importance()"
   ],
   "metadata": {
    "collapsed": false,
    "ExecuteTime": {
     "end_time": "2024-08-29T13:52:00.739952Z",
     "start_time": "2024-08-29T13:52:00.680736Z"
    }
   },
   "outputs": [
    {
     "data": {
      "text/plain": [
       "                                         Feature Name   Importance\n",
       "0   Identifies the type of dwelling involved in th...  1832.089511\n",
       "1         Linear feet of street connected to property   398.421951\n",
       "2                             Lot size in square feet  2677.824922\n",
       "3   Rates the overall material and finish of the h...  7380.844318\n",
       "4            Rates the overall condition of the house  4659.680705\n",
       "..                                                ...          ...\n",
       "74                                       Type of roof  3468.916708\n",
       "75                                  Condition of sale  2303.651844\n",
       "76                                       Type of sale  4731.598515\n",
       "77                    Type of road access to property   128.283698\n",
       "78                        Type of utilities available    11.792305\n",
       "\n",
       "[79 rows x 2 columns]"
      ],
      "text/html": [
       "<div>\n",
       "<style scoped>\n",
       "    .dataframe tbody tr th:only-of-type {\n",
       "        vertical-align: middle;\n",
       "    }\n",
       "\n",
       "    .dataframe tbody tr th {\n",
       "        vertical-align: top;\n",
       "    }\n",
       "\n",
       "    .dataframe thead th {\n",
       "        text-align: right;\n",
       "    }\n",
       "</style>\n",
       "<table border=\"1\" class=\"dataframe\">\n",
       "  <thead>\n",
       "    <tr style=\"text-align: right;\">\n",
       "      <th></th>\n",
       "      <th>Feature Name</th>\n",
       "      <th>Importance</th>\n",
       "    </tr>\n",
       "  </thead>\n",
       "  <tbody>\n",
       "    <tr>\n",
       "      <th>0</th>\n",
       "      <td>Identifies the type of dwelling involved in th...</td>\n",
       "      <td>1832.089511</td>\n",
       "    </tr>\n",
       "    <tr>\n",
       "      <th>1</th>\n",
       "      <td>Linear feet of street connected to property</td>\n",
       "      <td>398.421951</td>\n",
       "    </tr>\n",
       "    <tr>\n",
       "      <th>2</th>\n",
       "      <td>Lot size in square feet</td>\n",
       "      <td>2677.824922</td>\n",
       "    </tr>\n",
       "    <tr>\n",
       "      <th>3</th>\n",
       "      <td>Rates the overall material and finish of the h...</td>\n",
       "      <td>7380.844318</td>\n",
       "    </tr>\n",
       "    <tr>\n",
       "      <th>4</th>\n",
       "      <td>Rates the overall condition of the house</td>\n",
       "      <td>4659.680705</td>\n",
       "    </tr>\n",
       "    <tr>\n",
       "      <th>...</th>\n",
       "      <td>...</td>\n",
       "      <td>...</td>\n",
       "    </tr>\n",
       "    <tr>\n",
       "      <th>74</th>\n",
       "      <td>Type of roof</td>\n",
       "      <td>3468.916708</td>\n",
       "    </tr>\n",
       "    <tr>\n",
       "      <th>75</th>\n",
       "      <td>Condition of sale</td>\n",
       "      <td>2303.651844</td>\n",
       "    </tr>\n",
       "    <tr>\n",
       "      <th>76</th>\n",
       "      <td>Type of sale</td>\n",
       "      <td>4731.598515</td>\n",
       "    </tr>\n",
       "    <tr>\n",
       "      <th>77</th>\n",
       "      <td>Type of road access to property</td>\n",
       "      <td>128.283698</td>\n",
       "    </tr>\n",
       "    <tr>\n",
       "      <th>78</th>\n",
       "      <td>Type of utilities available</td>\n",
       "      <td>11.792305</td>\n",
       "    </tr>\n",
       "  </tbody>\n",
       "</table>\n",
       "<p>79 rows × 2 columns</p>\n",
       "</div>"
      ]
     },
     "execution_count": 10,
     "metadata": {},
     "output_type": "execute_result"
    }
   ],
   "execution_count": 10
  }
 ],
 "metadata": {
  "kernelspec": {
   "display_name": "Python 3 (ipykernel)",
   "language": "python",
   "name": "python3"
  },
  "language_info": {
   "codemirror_mode": {
    "name": "ipython",
    "version": 3
   },
   "file_extension": ".py",
   "mimetype": "text/x-python",
   "name": "python",
   "nbconvert_exporter": "python",
   "pygments_lexer": "ipython3",
   "version": "3.8.6"
  }
 },
 "nbformat": 4,
 "nbformat_minor": 2
}
