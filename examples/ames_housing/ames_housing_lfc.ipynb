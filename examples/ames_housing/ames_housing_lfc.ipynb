{
 "cells": [
  {
   "cell_type": "markdown",
   "metadata": {},
   "source": [
    "Data Source:\n",
    "\n",
    "De Cock, D. (2011). Ames, Iowa: Alternative to the Boston Housing Data as an End of Semester Regression Project. Journal of Statistics Education, 19(3). https://doi.org/10.1080/10691898.2011.11889627"
   ]
  },
  {
   "cell_type": "code",
   "execution_count": 1,
   "metadata": {},
   "outputs": [],
   "source": [
    "import pandas as pd\n",
    "import numpy as np\n",
    "import sys\n",
    "import pickle\n",
    "import importlib"
   ]
  },
  {
   "cell_type": "markdown",
   "metadata": {},
   "source": [
    "In this tutorial, we use Pyreal to get feature contribution explanations for the AmesHousing dataset\n",
    "\n",
    "First, we load in the data. Pyreal expects all data as DataFrames, where columns have the feature names."
   ]
  },
  {
   "cell_type": "code",
   "execution_count": 2,
   "metadata": {},
   "outputs": [
    {
     "name": "stdout",
     "output_type": "stream",
     "text": [
      "(1456, 80) (1456,)\n"
     ]
    }
   ],
   "source": [
    "data = pd.read_csv(\"data.csv\")\n",
    "data = data[data.GrLivArea < 4000]\n",
    "y_orig = data[\"SalePrice\"]\n",
    "x_orig = data.drop(\"SalePrice\", axis=\"columns\")\n",
    "print(x_orig.shape, y_orig.shape)"
   ]
  },
  {
   "cell_type": "markdown",
   "metadata": {},
   "source": [
    "Next, we load in the interpretable feature descriptions."
   ]
  },
  {
   "cell_type": "code",
   "execution_count": 3,
   "metadata": {},
   "outputs": [],
   "source": [
    "descriptions_df = pd.read_csv(\"feature_descriptions.csv\")\n",
    "descriptions = descriptions_df.set_index(\"Name\").to_dict()[\"Description\"]"
   ]
  },
  {
   "cell_type": "markdown",
   "metadata": {},
   "source": [
    "Next, we prepare the transfomers. There are three kinds of transformers: e_transforms, m_transforms, and i_transforms. In this case, the original data is already interpretable, and the explanation algorithm will take the data in its model_ready form.\n",
    "\n",
    "Therefore, i_transforms=None and e_transforms=m_transforms.\n",
    "\n",
    "The first kind of transform we will do it to manually impute the data based on information we know about the dataset.\n",
    "We will call this the `AmesHousingImputer`\n",
    "\n",
    "This imputation code comes from https://www.kaggle.com/juliencs/a-study-on-regression-applied-to-the-ames-dataset"
   ]
  },
  {
   "cell_type": "code",
   "execution_count": 4,
   "metadata": {},
   "outputs": [],
   "source": [
    "from pyreal.utils.transformer import BaseTransformer\n",
    "class AmesHousingImputer:\n",
    "    def transform(self, x_orig):\n",
    "            x_transform = x_orig.copy()\n",
    "            # Alley : data description says NA means \"no alley access\"\n",
    "            x_transform.loc[:, \"Alley\"] = x_transform.loc[:, \"Alley\"].fillna(\"None\")\n",
    "            # BedroomAbvGr : NA most likely means 0\n",
    "            x_transform.loc[:, \"BedroomAbvGr\"] = x_transform.loc[:, \"BedroomAbvGr\"].fillna(0)\n",
    "            # BsmtQual etc : x_transform description says NA for basement features is \"no basement\"\n",
    "            x_transform.loc[:, \"BsmtQual\"] = x_transform.loc[:, \"BsmtQual\"].fillna(\"No\")\n",
    "            x_transform.loc[:, \"BsmtCond\"] = x_transform.loc[:, \"BsmtCond\"].fillna(\"No\")\n",
    "            x_transform.loc[:, \"BsmtExposure\"] = x_transform.loc[:, \"BsmtExposure\"].fillna(\"No\")\n",
    "            x_transform.loc[:, \"BsmtFinType1\"] = x_transform.loc[:, \"BsmtFinType1\"].fillna(\"No\")\n",
    "            x_transform.loc[:, \"BsmtFinType2\"] = x_transform.loc[:, \"BsmtFinType2\"].fillna(\"No\")\n",
    "            x_transform.loc[:, \"BsmtFullBath\"] = x_transform.loc[:, \"BsmtFullBath\"].fillna(0)\n",
    "            x_transform.loc[:, \"BsmtHalfBath\"] = x_transform.loc[:, \"BsmtHalfBath\"].fillna(0)\n",
    "            x_transform.loc[:, \"BsmtUnfSF\"] = x_transform.loc[:, \"BsmtUnfSF\"].fillna(0)\n",
    "            # CentralAir : NA most likely means No\n",
    "            x_transform.loc[:, \"CentralAir\"] = x_transform.loc[:, \"CentralAir\"].fillna(\"N\")\n",
    "            # Condition : NA most likely means Normal\n",
    "            x_transform.loc[:, \"Condition1\"] = x_transform.loc[:, \"Condition1\"].fillna(\"Norm\")\n",
    "            x_transform.loc[:, \"Condition2\"] = x_transform.loc[:, \"Condition2\"].fillna(\"Norm\")\n",
    "            # EnclosedPorch : NA most likely means no enclosed porch\n",
    "            x_transform.loc[:, \"EnclosedPorch\"] = x_transform.loc[:, \"EnclosedPorch\"].fillna(0)\n",
    "            # External stuff : NA most likely means average\n",
    "            x_transform.loc[:, \"ExterCond\"] = x_transform.loc[:, \"ExterCond\"].fillna(\"TA\")\n",
    "            x_transform.loc[:, \"ExterQual\"] = x_transform.loc[:, \"ExterQual\"].fillna(\"TA\")\n",
    "            # Fence : x_transform description says NA means \"no fence\"\n",
    "            x_transform.loc[:, \"Fence\"] = x_transform.loc[:, \"Fence\"].fillna(\"No\")\n",
    "            # FireplaceQu : x_transform description says NA means \"no fireplace\"\n",
    "            x_transform.loc[:, \"FireplaceQu\"] = x_transform.loc[:, \"FireplaceQu\"].fillna(\"No\")\n",
    "            x_transform.loc[:, \"Fireplaces\"] = x_transform.loc[:, \"Fireplaces\"].fillna(0)\n",
    "            # Functional : x_transform description says NA means typical\n",
    "            x_transform.loc[:, \"Functional\"] = x_transform.loc[:, \"Functional\"].fillna(\"Typ\")\n",
    "            # GarageType etc : x_transform description says NA for garage features is \"no garage\"\n",
    "            x_transform.loc[:, \"GarageType\"] = x_transform.loc[:, \"GarageType\"].fillna(\"No\")\n",
    "            x_transform.loc[:, \"GarageFinish\"] = x_transform.loc[:, \"GarageFinish\"].fillna(\"No\")\n",
    "            x_transform.loc[:, \"GarageQual\"] = x_transform.loc[:, \"GarageQual\"].fillna(\"No\")\n",
    "            x_transform.loc[:, \"GarageCond\"] = x_transform.loc[:, \"GarageCond\"].fillna(\"No\")\n",
    "            x_transform.loc[:, \"GarageArea\"] = x_transform.loc[:, \"GarageArea\"].fillna(0)\n",
    "            x_transform.loc[:, \"GarageCars\"] = x_transform.loc[:, \"GarageCars\"].fillna(0)\n",
    "            # HalfBath : NA most likely means no half baths above grade\n",
    "            x_transform.loc[:, \"HalfBath\"] = x_transform.loc[:, \"HalfBath\"].fillna(0)\n",
    "            # HeatingQC : NA most likely means typical\n",
    "            x_transform.loc[:, \"HeatingQC\"] = x_transform.loc[:, \"HeatingQC\"].fillna(\"TA\")\n",
    "            # KitchenAbvGr : NA most likely means 0\n",
    "            x_transform.loc[:, \"KitchenAbvGr\"] = x_transform.loc[:, \"KitchenAbvGr\"].fillna(0)\n",
    "            # KitchenQual : NA most likely means typical\n",
    "            x_transform.loc[:, \"KitchenQual\"] = x_transform.loc[:, \"KitchenQual\"].fillna(\"TA\")\n",
    "            # LotFrontage : NA most likely means no lot frontage\n",
    "            x_transform.loc[:, \"LotFrontage\"] = x_transform.loc[:, \"LotFrontage\"].fillna(0)\n",
    "            # LotShape : NA most likely means regular\n",
    "            x_transform.loc[:, \"LotShape\"] = x_transform.loc[:, \"LotShape\"].fillna(\"Reg\")\n",
    "            # MasVnrType : NA most likely means no veneer\n",
    "            x_transform.loc[:, \"MasVnrType\"] = x_transform.loc[:, \"MasVnrType\"].fillna(\"None\")\n",
    "            x_transform.loc[:, \"MasVnrArea\"] = x_transform.loc[:, \"MasVnrArea\"].fillna(0)\n",
    "            # MiscFeature : x_transform description says NA means \"no misc feature\"\n",
    "            x_transform.loc[:, \"MiscFeature\"] = x_transform.loc[:, \"MiscFeature\"].fillna(\"No\")\n",
    "            x_transform.loc[:, \"MiscVal\"] = x_transform.loc[:, \"MiscVal\"].fillna(0)\n",
    "            # OpenPorchSF : NA most likely means no open porch\n",
    "            x_transform.loc[:, \"OpenPorchSF\"] = x_transform.loc[:, \"OpenPorchSF\"].fillna(0)\n",
    "            # PavedDrive : NA most likely means not paved\n",
    "            x_transform.loc[:, \"PavedDrive\"] = x_transform.loc[:, \"PavedDrive\"].fillna(\"N\")\n",
    "            # PoolQC : x_transform description says NA means \"no pool\"\n",
    "            x_transform.loc[:, \"PoolQC\"] = x_transform.loc[:, \"PoolQC\"].fillna(\"No\")\n",
    "            x_transform.loc[:, \"PoolArea\"] = x_transform.loc[:, \"PoolArea\"].fillna(0)\n",
    "            # SaleCondition : NA most likely means normal sale\n",
    "            x_transform.loc[:, \"SaleCondition\"] = x_transform.loc[:, \"SaleCondition\"].fillna(\"Normal\")\n",
    "            # ScreenPorch : NA most likely means no screen porch\n",
    "            x_transform.loc[:, \"ScreenPorch\"] = x_transform.loc[:, \"ScreenPorch\"].fillna(0)\n",
    "            # TotRmsAbvGrd : NA most likely means 0\n",
    "            x_transform.loc[:, \"TotRmsAbvGrd\"] = x_transform.loc[:, \"TotRmsAbvGrd\"].fillna(0)\n",
    "            # Utilities : NA most likely means all public utilities\n",
    "            x_transform.loc[:, \"Utilities\"] = x_transform.loc[:, \"Utilities\"].fillna(\"AllPub\")\n",
    "            # WoodDeckSF : NA most likely means no wood deck\n",
    "            x_transform.loc[:, \"WoodDeckSF\"] = x_transform.loc[:, \"WoodDeckSF\"].fillna(0)\n",
    "            x_transform.loc[:, \"Electrical\"] = x_transform.loc[:, \"Electrical\"].fillna(\"SBrkr\")\n",
    "            \n",
    "            x_num = x_transform.select_dtypes(exclude=[\"object\"])\n",
    "            x_cat = x_transform.select_dtypes(include=[\"object\"])\n",
    "            x_num = x_num.fillna(x_num.median())\n",
    "            \n",
    "            return pd.concat([x_num, x_cat], axis=1)"
   ]
  },
  {
   "cell_type": "markdown",
   "metadata": {},
   "source": [
    "Next, we need to one-hot-encode the categorical variables. "
   ]
  },
  {
   "cell_type": "markdown",
   "metadata": {},
   "source": [
    "We will now fit the tranformers."
   ]
  },
  {
   "cell_type": "code",
   "execution_count": 5,
   "metadata": {},
   "outputs": [],
   "source": [
    "from sklearn.linear_model import Ridge\n",
    "from sklearn.preprocessing import StandardScaler\n",
    "from pyreal.utils.transformer import OneHotEncoderWrapper, DataFrameWrapper\n",
    "\n",
    "from keras.models import Sequential\n",
    "from keras.layers import Dense\n",
    "from keras.utils import to_categorical\n",
    "from keras.callbacks import ModelCheckpoint\n",
    "from keras.optimizers import Adam\n",
    "\n",
    "imputer = AmesHousingImputer()\n",
    "x_imputed = imputer.transform(x_orig)\n",
    "\n",
    "object_columns = x_imputed.select_dtypes(include=[\"object\"]).columns\n",
    "onehotencoder = OneHotEncoderWrapper(object_columns)\n",
    "onehotencoder.fit(x_imputed)"
   ]
  },
  {
   "cell_type": "markdown",
   "metadata": {},
   "source": [
    "Now, we can initialize the LocalFeatureContribution Explainer object."
   ]
  },
  {
   "cell_type": "code",
   "execution_count": 7,
   "metadata": {},
   "outputs": [
    {
     "name": "stderr",
     "output_type": "stream",
     "text": [
      "Trying to unpickle estimator Ridge from version 0.23.1 when using version 0.23.2. This might lead to breaking code or invalid results. Use at your own risk.\n"
     ]
    }
   ],
   "source": [
    "from pyreal.explainers import LocalFeatureContribution\n",
    "\n",
    "m_transforms = [imputer, onehotencoder]#, standardizer]\n",
    "lfc = LocalFeatureContribution(model=\"model.pkl\", x_orig=x_orig, \n",
    "                               e_transforms=m_transforms,\n",
    "                               m_transforms=m_transforms,\n",
    "                               feature_descriptions=descriptions)"
   ]
  },
  {
   "cell_type": "markdown",
   "metadata": {},
   "source": [
    "We can make predictions using Explainer objects."
   ]
  },
  {
   "cell_type": "code",
   "execution_count": 8,
   "metadata": {},
   "outputs": [
    {
     "name": "stdout",
     "output_type": "stream",
     "text": [
      "MSE: 0.008441633093187618\n"
     ]
    }
   ],
   "source": [
    "import matplotlib.pyplot as plt\n",
    "\n",
    "preds = lfc.model_predict(x_orig).reshape(-1)\n",
    "print(\"MSE:\", np.mean((preds - np.log1p(y_orig))**2))"
   ]
  },
  {
   "cell_type": "code",
   "execution_count": 9,
   "metadata": {},
   "outputs": [],
   "source": [
    "lfc.fit()"
   ]
  },
  {
   "cell_type": "markdown",
   "metadata": {},
   "source": [
    "Finally, we can get contributions."
   ]
  },
  {
   "cell_type": "code",
   "execution_count": 11,
   "metadata": {},
   "outputs": [
    {
     "ename": "NameError",
     "evalue": "name 'x_orig_test' is not defined",
     "output_type": "error",
     "traceback": [
      "\u001b[0;31m---------------------------------------------------------------------------\u001b[0m",
      "\u001b[0;31mNameError\u001b[0m                                 Traceback (most recent call last)",
      "\u001b[0;32m<ipython-input-11-8d084825db64>\u001b[0m in \u001b[0;36m<module>\u001b[0;34m\u001b[0m\n\u001b[1;32m      1\u001b[0m \u001b[0;32mfrom\u001b[0m \u001b[0mpyreal\u001b[0m\u001b[0;34m.\u001b[0m\u001b[0mutils\u001b[0m \u001b[0;32mimport\u001b[0m \u001b[0mvisualize\u001b[0m\u001b[0;34m\u001b[0m\u001b[0;34m\u001b[0m\u001b[0m\n\u001b[1;32m      2\u001b[0m \u001b[0;34m\u001b[0m\u001b[0m\n\u001b[0;32m----> 3\u001b[0;31m \u001b[0minput_to_explain\u001b[0m \u001b[0;34m=\u001b[0m \u001b[0mx_orig_test\u001b[0m\u001b[0;34m.\u001b[0m\u001b[0miloc\u001b[0m\u001b[0;34m[\u001b[0m\u001b[0;36m0\u001b[0m\u001b[0;34m]\u001b[0m\u001b[0;34m\u001b[0m\u001b[0;34m\u001b[0m\u001b[0m\n\u001b[0m\u001b[1;32m      4\u001b[0m \u001b[0mcontributions\u001b[0m \u001b[0;34m=\u001b[0m \u001b[0mlfc\u001b[0m\u001b[0;34m.\u001b[0m\u001b[0mproduce\u001b[0m\u001b[0;34m(\u001b[0m\u001b[0minput_to_explain\u001b[0m\u001b[0;34m)\u001b[0m\u001b[0;34m\u001b[0m\u001b[0;34m\u001b[0m\u001b[0m\n\u001b[1;32m      5\u001b[0m \u001b[0mx_interpret\u001b[0m \u001b[0;34m=\u001b[0m \u001b[0mlfc\u001b[0m\u001b[0;34m.\u001b[0m\u001b[0mconvert_data_to_interpretable\u001b[0m\u001b[0;34m(\u001b[0m\u001b[0minput_to_explain\u001b[0m\u001b[0;34m)\u001b[0m\u001b[0;34m\u001b[0m\u001b[0;34m\u001b[0m\u001b[0m\n",
      "\u001b[0;31mNameError\u001b[0m: name 'x_orig_test' is not defined"
     ]
    }
   ],
   "source": [
    "from pyreal.utils import visualize\n",
    "\n",
    "input_to_explain = x_orig.iloc[0]\n",
    "contributions = lfc.produce(input_to_explain)\n",
    "x_interpret = lfc.convert_data_to_interpretable(input_to_explain)\n",
    "visualize.plot_top_contributors(contributions, select_by=\"absolute\", values=x_interpret)"
   ]
  }
 ],
 "metadata": {
  "kernelspec": {
   "display_name": "Python 3",
   "language": "python",
   "name": "python3"
  },
  "language_info": {
   "codemirror_mode": {
    "name": "ipython",
    "version": 3
   },
   "file_extension": ".py",
   "mimetype": "text/x-python",
   "name": "python",
   "nbconvert_exporter": "python",
   "pygments_lexer": "ipython3",
   "version": "3.8.5"
  }
 },
 "nbformat": 4,
 "nbformat_minor": 2
}
