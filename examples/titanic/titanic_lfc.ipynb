{
 "cells": [
  {
   "cell_type": "markdown",
   "metadata": {},
   "source": [
    "Data source:\n",
    "\n",
    "Kaggle. (2012). Titanic: Machine Learning from Disaster. Retrieved from https://www.kaggle.com/c/titanic/data."
   ]
  },
  {
   "cell_type": "code",
   "execution_count": 1,
   "metadata": {},
   "outputs": [],
   "source": [
    "import pandas as pd\n",
    "import numpy as np\n",
    "import sys\n",
    "import os\n",
    "sys.path.insert(1, '../../../pyreal')"
   ]
  },
  {
   "cell_type": "code",
   "execution_count": 2,
   "metadata": {},
   "outputs": [
    {
     "name": "stdout",
     "output_type": "stream",
     "text": [
      "Features: ['PassengerId' 'Pclass' 'Name' 'Sex' 'Age' 'SibSp' 'Parch' 'Ticket' 'Fare'\n",
      " 'Cabin' 'Embarked']\n"
     ]
    }
   ],
   "source": [
    "from sklearn.model_selection import train_test_split\n",
    "\n",
    "x_orig = pd.read_csv(os.path.join(\"data\", \"train.csv\"))\n",
    "y = x_orig[\"Survived\"]\n",
    "x_orig = x_orig.drop(\"Survived\", axis=\"columns\")\n",
    "\n",
    "x_orig_train, x_orig_test, y_train, y_test = train_test_split(x_orig, y, test_size=.20)\n",
    "\n",
    "print(\"Features:\", x_orig.columns.values)\n",
    "\n",
    "feature_descriptions = {\n",
    "    \"PassengerId\": \"Passenger ID\",\n",
    "    \"Pclass\": \"Ticket Class\",\n",
    "    \"SibSp\": \"Number of siblings/spouses aboard\",\n",
    "    \"Parch\": \"Number of parents/children aboard\",\n",
    "    \"Ticket\": \"Ticket Number\",\n",
    "    \"Fare\": \"Passenger Fare\",\n",
    "    \"Cabin\": \"Cabin Number\",\n",
    "    \"Embarked\": \"Port of Embarkment\",\n",
    "}"
   ]
  },
  {
   "cell_type": "code",
   "execution_count": 3,
   "metadata": {},
   "outputs": [],
   "source": [
    "from sklearn.impute import SimpleImputer\n",
    "\n",
    "class ColumnDropTransformer:\n",
    "    \"\"\"\n",
    "    Removes columns that should not be predictive\n",
    "    \"\"\"\n",
    "    def __init__(self, columns_to_drop):\n",
    "        self.columns_to_drop = columns_to_drop\n",
    "        \n",
    "    def transform(self, x):\n",
    "        return x.drop(self.columns_to_drop, axis=\"columns\")\n",
    "    \n",
    "    def transform_contributions(self, contributions):\n",
    "        for col in self.columns_to_drop:\n",
    "            contributions[col] = 0\n",
    "        return contributions\n",
    "            \n",
    "class MultiTypeImputer:\n",
    "    \"\"\"\n",
    "    Imputes, chosing a strategy based on column type.\n",
    "    \"\"\"\n",
    "    def __init__(self):\n",
    "        self.numeric_cols = None\n",
    "        self.categorical_cols = None\n",
    "        self.numeric_imputer = SimpleImputer(missing_values=np.nan, strategy=\"mean\")\n",
    "        self.categorical_imputer = SimpleImputer(missing_values=np.nan, strategy=\"most_frequent\")\n",
    "        \n",
    "    def fit(self, x):\n",
    "        self.numeric_cols = x.select_dtypes(include=\"number\").columns\n",
    "        self.categorical_cols = x.select_dtypes(exclude=\"number\").columns\n",
    "        self.numeric_imputer.fit(x[self.numeric_cols])\n",
    "        self.categorical_imputer.fit(x[self.categorical_cols])\n",
    "    \n",
    "    def transform(self, x):\n",
    "        new_numeric_cols = self.numeric_imputer.transform(x[self.numeric_cols])\n",
    "        new_categorical_cols = self.categorical_imputer.transform(x[self.categorical_cols])\n",
    "        return pd.concat([pd.DataFrame(new_numeric_cols, columns=self.numeric_cols, index=x.index), \n",
    "                          pd.DataFrame(new_categorical_cols, columns=self.categorical_cols, index=x.index)], axis=1)"
   ]
  },
  {
   "cell_type": "code",
   "execution_count": 4,
   "metadata": {},
   "outputs": [],
   "source": [
    "from pyreal.utils.transformer import OneHotEncoderWrapper, fit_transformers, run_transformers\n",
    "\n",
    "column_drop = ColumnDropTransformer([\"PassengerId\", \"Name\", \"Ticket\", \"Cabin\"])\n",
    "imputer = MultiTypeImputer()\n",
    "one_hot_encoder = OneHotEncoderWrapper([\"Sex\", \"Embarked\"])\n",
    "\n",
    "transformers = [column_drop, imputer, one_hot_encoder]\n",
    "fit_transformers(transformers, x_orig_train)\n",
    "x_transform_train = run_transformers(transformers, x_orig_train)\n",
    "x_transform_test = run_transformers(transformers, x_orig_test)"
   ]
  },
  {
   "cell_type": "code",
   "execution_count": 5,
   "metadata": {},
   "outputs": [
    {
     "name": "stdout",
     "output_type": "stream",
     "text": [
      "Test accuracy: 82.12\n"
     ]
    }
   ],
   "source": [
    "from sklearn.linear_model import LogisticRegression\n",
    "import pickle\n",
    "\n",
    "model = LogisticRegression(max_iter=500)\n",
    "model.fit(x_transform_train, y_train)\n",
    "\n",
    "preds = model.predict(x_transform_test)\n",
    "print(\"Test accuracy: %.2f\" % (np.mean(preds==y_test)*100))"
   ]
  },
  {
   "cell_type": "code",
   "execution_count": 6,
   "metadata": {},
   "outputs": [],
   "source": [
    "from pyreal.explainers import LocalFeatureContribution\n",
    "\n",
    "lfc = LocalFeatureContribution(model=model, x_orig=x_orig_train, m_transforms=transformers, e_transforms=transformers, \n",
    "                               contribution_transforms=[one_hot_encoder, column_drop], \n",
    "                               feature_descriptions=feature_descriptions, fit_on_init=True)"
   ]
  },
  {
   "cell_type": "code",
   "execution_count": 10,
   "metadata": {},
   "outputs": [
    {
     "data": {
      "image/png": "[encoded data removed]",
      "text/plain": [
       "<Figure size 432x288 with 1 Axes>"
      ]
     },
     "metadata": {
      "needs_background": "light"
     },
     "output_type": "display_data"
    }
   ],
   "source": [
    "import importlib\n",
    "from pyreal.utils import visualize\n",
    "importlib.reload(visualize)\n",
    "\n",
    "input_to_explain = x_orig_test.iloc[0]\n",
    "contributions = lfc.produce(input_to_explain)\n",
    "x_interpret = lfc.convert_data_to_interpretable(input_to_explain)\n",
    "\n",
    "visualize.plot_top_contributors(contributions, select_by=\"absolute\", values=x_interpret)"
   ]
  }
 ],
 "metadata": {
  "kernelspec": {
   "display_name": "Python 3",
   "language": "python",
   "name": "python3"
  },
  "language_info": {
   "codemirror_mode": {
    "name": "ipython",
    "version": 3
   },
   "file_extension": ".py",
   "mimetype": "text/x-python",
   "name": "python",
   "nbconvert_exporter": "python",
   "pygments_lexer": "ipython3",
   "version": "3.6.8"
  }
 },
 "nbformat": 4,
 "nbformat_minor": 2
}
